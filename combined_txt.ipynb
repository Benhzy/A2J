{
 "cells": [
  {
   "cell_type": "code",
   "execution_count": null,
   "metadata": {},
   "outputs": [],
   "source": [
    "import os\n",
    "\n",
    "# Define the directory path\n",
    "directory = \"../db\"\n",
    "\n",
    "# Create an empty string variable\n",
    "combined_text = \"\"\n",
    "\n",
    "# Iterate through all the files in the directory\n",
    "for filename in os.listdir(directory):\n",
    "    # Check if the file is a text file\n",
    "    if filename.endswith(\".txt\"):\n",
    "        # Open the file in read mode\n",
    "        with open(os.path.join(directory, filename), \"r\") as file:\n",
    "            # Read the contents of the file\n",
    "            file_contents = file.read()\n",
    "            # Append the contents to the combined text\n",
    "            combined_text += file_contents\n",
    "            # Close the file\n",
    "            file.close()\n",
    "\n",
    "# Create a new file to hold the combined text\n",
    "with open(\"combined.txt\", \"w\") as new_file:\n",
    "    # Write the combined text to the new file\n",
    "    new_file.write(combined_text)\n",
    "    # Close the new file\n",
    "    new_file.close()"
   ]
  }
 ],
 "metadata": {
  "kernelspec": {
   "display_name": "Python 3",
   "language": "python",
   "name": "python3"
  },
  "language_info": {
   "codemirror_mode": {
    "name": "ipython",
    "version": 3
   },
   "file_extension": ".py",
   "mimetype": "text/x-python",
   "name": "python",
   "nbconvert_exporter": "python",
   "pygments_lexer": "ipython3",
   "version": "3.8.3"
  },
  "orig_nbformat": 4,
  "vscode": {
   "interpreter": {
    "hash": "747d2ce94befc444b26ce8ac4106bd565fa9a7adb29f4c71228a18318693a3de"
   }
  }
 },
 "nbformat": 4,
 "nbformat_minor": 2
}
