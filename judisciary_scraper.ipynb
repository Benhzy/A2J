{
 "cells": [
  {
   "cell_type": "code",
   "execution_count": null,
   "metadata": {},
   "outputs": [],
   "source": [
    "from urllib.request import urlopen as uReq #urllib will get the page itself\n",
    "from bs4 import BeautifulSoup\n",
    "import numpy as np\n",
    "import pandas as pd\n",
    "import re\n",
    "import nltk\n",
    "import heapq\n",
    "import requests\n",
    "import sys\n",
    "from fuzzywuzzy import fuzz\n",
    "from fuzzywuzzy import process\n",
    "import wikipedia\n",
    "from selenium import webdriver\n",
    "import os\n",
    "import urllib.request\n",
    "import urllib.parse\n",
    "from tqdm import tqdm\n",
    "import itertools"
   ]
  },
  {
   "cell_type": "code",
   "execution_count": null,
   "metadata": {},
   "outputs": [],
   "source": [
    "therapeutic_justice_type = []"
   ]
  },
  {
   "cell_type": "code",
   "execution_count": null,
   "metadata": {},
   "outputs": [],
   "source": [
    "website = 'https://www.judiciary.gov.sg/family'\n",
    "user_agent = {'User-agent' : 'Mozilla/5.0'}\n",
    "page = requests.get(website, headers=user_agent)\n",
    "soup = BeautifulSoup(page.text, 'lxml')\n",
    "fact_cards = soup.find_all('a', {'class': 'nav-link'})\n",
    "tj_dict = {}\n",
    "all_types = []\n",
    "\n",
    "for fact_card in fact_cards[8:]:\n",
    "    tj_type = fact_card.get_text().split('\\n')[1]\n",
    "    tj_desc = fact_card.get_text().split('\\n')[2]\n",
    "    tj_link = fact_card['href']\n",
    "    tj_dict[tj_type] = [tj_desc, tj_link]\n",
    "    all_types.append(tj_type)\n",
    "\n",
    "tj_dict"
   ]
  },
  {
   "cell_type": "code",
   "execution_count": 124,
   "metadata": {},
   "outputs": [
    {
     "name": "stdout",
     "output_type": "stream",
     "text": [
      "Adoption\n",
      "Care and protection for children and young persons\n",
      "Divorce\n",
      "Deputyship\n",
      "Direct judicial communication for international family proceedings affecting children\n",
      "Family Justice Courts appeals\n",
      "Family guidance for children and young persons\n",
      "Guardianship\n",
      "International child abduction\n",
      "Probate and administration\n",
      "Protection against family violence\n",
      "Protection for vulnerable adults\n",
      "Maintenance\n",
      "Mediation and counselling in the Family Justice Courts\n",
      "Syariah Court orders\n"
     ]
    }
   ],
   "source": [
    "desc_dict = {}\n",
    "tdesc_dict = {}\n",
    "ndesc_dict = {}\n",
    "ddesc_dict = {}\n",
    "link_dict = {}\n",
    "row_dict = {}\n",
    "nav_link_list = []\n",
    "\n",
    "for type in all_types:\n",
    "    row_link_list = []\n",
    "    with open(type + \".txt\", \"w\") as f:\n",
    "        print(type)\n",
    "        next_page = 'https://www.judiciary.gov.sg' + tj_dict[type][1]\n",
    "        page = requests.get(next_page, headers=user_agent)\n",
    "        soup = BeautifulSoup(page.text, 'lxml')\n",
    "        content_desc = soup.find_all('div', {'class': 'sf-content-block'})\n",
    "        accr_desc = soup.find_all('div', {'class': 'accordion-wrapper'})\n",
    "        # This gets everything in a page, including the p and ul tags\n",
    "        for desc in content_desc[2:-6]:\n",
    "            desc_text = desc.get_text()\n",
    "            f.write(desc_text.replace('\\n', ' '))\n",
    "            # print(desc_text.replace('\\n', ' '))\n",
    "            for link in desc.find_all('a'):\n",
    "                desc_dict[link.string] = link['href']\n",
    "\n",
    "        # This gets all the links in the accordion\n",
    "        for desc in accr_desc:\n",
    "            for link in desc.find_all('a'):\n",
    "                link_dict[link.string] = link['href']\n",
    "            \n",
    "        if type ==\"Adoption\" or type == \"Protection for vulnerable adults\" :\n",
    "            timeline_desc = soup.find_all('div', {'class': 'timeline'})\n",
    "            for t_desc in timeline_desc:\n",
    "                timeline_text = t_desc.get_text()\n",
    "                f.write(timeline_text.replace('\\n', ' '))\n",
    "                # print(timeline_text.replace('\\n', ' '))\n",
    "                for link in t_desc.find_all('a'):\n",
    "                    tdesc_dict[link.string] = link['href']\n",
    "\n",
    "        elif type == \"Care and protection for children and young persons\" or type == \"Guardianship\":\n",
    "            nav_desc = soup.find_all('li', {'class': 'nav-item w-100'})\n",
    "            for n_desc in nav_desc:\n",
    "                # print(n_desc)\n",
    "                nav_text = n_desc.get_text()\n",
    "                f.write(nav_text.replace('\\n', ' '))\n",
    "                # print(nav_text.replace('\\n', ' '))\n",
    "                for link in n_desc.find_all('a'):\n",
    "                    nav_link_list.append(link['href'])\n",
    "\n",
    "        else:\n",
    "            div_desc = soup.find_all('div', {'class': 'row'})\n",
    "            if type != \"Direct judicial communication for international family proceedings affecting children\" and type != \"Syariah Court orders\":\n",
    "                type_list = []\n",
    "                for d_desc in div_desc[:-2]:\n",
    "                    div_text = d_desc.get_text()\n",
    "                    f.write(div_text.replace('\\n', ' '))\n",
    "                    # print(div_text.replace('\\n', ' '))\n",
    "                    type_list.append(list(filter(None,div_text.split(\"\\n\"))))\n",
    "                    for link in d_desc.find_all('a'):\n",
    "                        row_link_list.append(link['href'])\n",
    "                    row_dict[type] = row_link_list"
   ]
  },
  {
   "cell_type": "code",
   "execution_count": 132,
   "metadata": {},
   "outputs": [],
   "source": [
    "def get_txt(txt_name, link):\n",
    "    with open(txt_name, \"a\") as f:\n",
    "        next_page = 'https://www.judiciary.gov.sg' + link\n",
    "        page = requests.get(next_page, headers=user_agent)\n",
    "        soup = BeautifulSoup(page.text, 'lxml')\n",
    "        content_desc = soup.find_all('div', {'class': 'sf-content-block'})\n",
    "        for desc in content_desc[2:-6]:\n",
    "            desc_text = desc.get_text()\n",
    "            f.write(desc_text)\n",
    "            # for link in desc.find_all('a'):\n",
    "            #     desc_dict[link.string] = link['href']"
   ]
  },
  {
   "attachments": {},
   "cell_type": "markdown",
   "metadata": {},
   "source": [
    "For Adoption"
   ]
  },
  {
   "cell_type": "code",
   "execution_count": 92,
   "metadata": {},
   "outputs": [],
   "source": [
    "adoption_int_links = dict(itertools.islice(tdesc_dict.items(), 4))\n",
    "for link in adoption_int_links.values():\n",
    "    get_txt('adoption_internal.txt', link)"
   ]
  },
  {
   "attachments": {},
   "cell_type": "markdown",
   "metadata": {},
   "source": [
    "For Protection for vulnerable adults"
   ]
  },
  {
   "cell_type": "code",
   "execution_count": 93,
   "metadata": {},
   "outputs": [],
   "source": [
    "protection_vulnerable_int_links =  dict(itertools.islice(tdesc_dict.items(), len(tdesc_dict)-2, None))\n",
    "for link in protection_vulnerable_int_links.values():\n",
    "    get_txt('protection_vulnerable_internal.txt', link)"
   ]
  },
  {
   "attachments": {},
   "cell_type": "markdown",
   "metadata": {},
   "source": [
    "For Care and protection for children and young persons"
   ]
  },
  {
   "cell_type": "code",
   "execution_count": 94,
   "metadata": {},
   "outputs": [],
   "source": [
    "for link in nav_link_list[:2]:\n",
    "    get_txt('care_protection_children_internal.txt', link)"
   ]
  },
  {
   "attachments": {},
   "cell_type": "markdown",
   "metadata": {},
   "source": [
    "Guardianship"
   ]
  },
  {
   "cell_type": "code",
   "execution_count": 95,
   "metadata": {},
   "outputs": [],
   "source": [
    "for link in nav_link_list[2:]:\n",
    "    get_txt('guardianship_internal.txt', link)"
   ]
  },
  {
   "attachments": {},
   "cell_type": "markdown",
   "metadata": {},
   "source": [
    "Divorce, Deputyship, Family justice courts appeals, Family guidance for children and young persons, International child abduction, Probate and administration, Protection against family violence, Maintenance, Mediation and counselling in the family justice courts"
   ]
  },
  {
   "cell_type": "code",
   "execution_count": 133,
   "metadata": {},
   "outputs": [],
   "source": [
    "# iterate through the dictionary and get the key and value\n",
    "for key, list_of_links in row_dict.items():\n",
    "    key = key.replace(\" \", \"_\").lower()\n",
    "    for link in list_of_links:\n",
    "        get_txt(key + '_internal.txt', link)"
   ]
  },
  {
   "cell_type": "code",
   "execution_count": 134,
   "metadata": {},
   "outputs": [
    {
     "data": {
      "text/plain": [
       "{'Divorce': ['/family/understand-requirements-getting-divorce',\n",
       "  '/family/file-divorce-application-simplified-track',\n",
       "  '/family/file-divorce-application-normal-track',\n",
       "  '/family/respond-divorce-application-normal-track',\n",
       "  '/family/going-to-court-divorce-application'],\n",
       " 'Deputyship': ['/family/before-applying-to-be-deputy',\n",
       "  '/family/file-simplified-deputyship-application',\n",
       "  '/family/file-deputyship-application-standard',\n",
       "  '/family/going-to-court-deputyship',\n",
       "  '/family/object-to-deputyship-application'],\n",
       " 'Family Justice Courts appeals': ['/family/appeal-against-decision-by-family-courts-judge',\n",
       "  '/family/appeal-against-decision-by-youth-courts'],\n",
       " 'Family guidance for children and young persons': ['/family/family-guidance-orders-overview',\n",
       "  '/family/apply-family-guidance-order',\n",
       "  '/family/family-guidance-order-application-hearing'],\n",
       " 'International child abduction': ['/family/file-international-child-abduction-application',\n",
       "  '/family/respond-international-child-abduction-application',\n",
       "  '/family/going-to-court-international-child-abduction-application'],\n",
       " 'Probate and administration': ['/family/apply-for-probate',\n",
       "  '/family/apply-for-letters-of-administration',\n",
       "  '/family/file-supporting-documents-probate-or-administration',\n",
       "  '/family/going-to-court-for-probate-or-administration-hearing',\n",
       "  '/family/apply-to-extract-probate-or-administration-grant'],\n",
       " 'Protection against family violence': ['/family/apply-personal-protection-order',\n",
       "  '/family/respond-personal-protection-order-application',\n",
       "  '/family/going-to-court-personal-protection-order-application'],\n",
       " 'Maintenance': ['/family/file-maintenance-application',\n",
       "  '/family/maintenance/respond-maintenance-application',\n",
       "  '/family/going-to-court-maintenance-application',\n",
       "  '/family/attend-maintenance-mediation',\n",
       "  '/family/outcomes-of-maintenance-application'],\n",
       " 'Mediation and counselling in the Family Justice Courts': ['/family/mediation-at-family-dispute-resolution-division',\n",
       "  '/family/counselling-psychological-services']}"
      ]
     },
     "execution_count": 134,
     "metadata": {},
     "output_type": "execute_result"
    }
   ],
   "source": [
    "row_dict"
   ]
  }
 ],
 "metadata": {
  "kernelspec": {
   "display_name": "Python 3",
   "language": "python",
   "name": "python3"
  },
  "language_info": {
   "codemirror_mode": {
    "name": "ipython",
    "version": 3
   },
   "file_extension": ".py",
   "mimetype": "text/x-python",
   "name": "python",
   "nbconvert_exporter": "python",
   "pygments_lexer": "ipython3",
   "version": "3.8.3"
  },
  "orig_nbformat": 4,
  "vscode": {
   "interpreter": {
    "hash": "747d2ce94befc444b26ce8ac4106bd565fa9a7adb29f4c71228a18318693a3de"
   }
  }
 },
 "nbformat": 4,
 "nbformat_minor": 2
}
