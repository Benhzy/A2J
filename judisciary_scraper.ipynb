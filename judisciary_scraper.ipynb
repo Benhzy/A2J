{
 "cells": [
  {
   "cell_type": "code",
   "execution_count": 21,
   "metadata": {},
   "outputs": [],
   "source": [
    "from urllib.request import urlopen as uReq #urllib will get the page itself\n",
    "from bs4 import BeautifulSoup\n",
    "import numpy as np\n",
    "import pandas as pd\n",
    "import re\n",
    "import nltk\n",
    "import heapq\n",
    "import requests\n",
    "import sys\n",
    "from fuzzywuzzy import fuzz\n",
    "from fuzzywuzzy import process\n",
    "import wikipedia\n",
    "from selenium import webdriver\n",
    "import os\n",
    "import urllib.request\n",
    "import urllib.parse\n",
    "from tqdm import tqdm\n",
    "import itertools"
   ]
  },
  {
   "cell_type": "code",
   "execution_count": 22,
   "metadata": {},
   "outputs": [],
   "source": [
    "therapeutic_justice_type = []"
   ]
  },
  {
   "cell_type": "code",
   "execution_count": 23,
   "metadata": {},
   "outputs": [
    {
     "data": {
      "text/plain": [
       "{'Adoption': ['Adoption is the process where parties apply to become the adoptive parents of a child. The Family Courts hear applications for adoption orders.',\n",
       "  '/family/adoption'],\n",
       " 'Care and protection for children and young persons': ['The Youth Courts may make care and protection orders to ensure that children in need of care and protection are safe.',\n",
       "  '/family/care-protection-children-young-persons'],\n",
       " 'Divorce': ['An application for divorce is a legal procedure to end a marriage. The Family Courts hear divorce applications.',\n",
       "  '/family/divorce'],\n",
       " 'Deputyship': ['The Family Courts can appoint a deputy to make decisions for a person who lacks mental capacity. Find out what it means and the ways to apply.',\n",
       "  '/family/deputyship'],\n",
       " 'Direct judicial communication for international family proceedings affecting children': ['Information for judges in other jurisdictions on whom to contact regarding direct judicial communication with the Family Justice Courts for international family proceedings affecting children.',\n",
       "  '/family/direct-judicial-communication'],\n",
       " 'Family Justice Courts appeals': [\"A party who is not satisfied with the court's decision in their Family Justice Courts case may file an appeal. \",\n",
       "  '/family/appeal'],\n",
       " 'Family guidance for children and young persons': ['Family guidance orders provide assistance to parents with children under 16 years old who display serious behavioural challenges. ',\n",
       "  '/family/family-guidance-children-young-persons'],\n",
       " 'Guardianship': ['Guardianship gives a person the legal responsibility to care for a child below 21 years of age.',\n",
       "  '/family/guardianship'],\n",
       " 'International child abduction': ['Parties may apply under the International Child Abduction Act for the return of their child, who has been removed from a country where the child ordinarily resides in to another country.',\n",
       "  '/family/international-child-abduction'],\n",
       " 'Probate and administration': ['The Family Justice Courts can appoint a person to manage the estate of a deceased individual through a grant of probate or letters of administration. ',\n",
       "  '/family/probate-and-administration'],\n",
       " 'Protection against family violence': ['A personal protection order is a court order restraining a family member from committing violence against another family member.',\n",
       "  '/family/protection-against-family-violence'],\n",
       " 'Protection for vulnerable adults': ['The Family Courts can make orders to protect a vulnerable adult from abuse, neglect or self-neglect. Find out which cases qualify and the application process.',\n",
       "  '/family/protection-for-vulnerable-adults'],\n",
       " 'Maintenance': ['The law generally requires certain parties to provide support to their family members. This support, known as maintenance, is financial in nature.',\n",
       "  '/family/maintenance'],\n",
       " 'Mediation and counselling in the Family Justice Courts': ['Parties involved in certain cases heard in the Family Justice Courts may be directed to the Family Dispute Resolution Division to resolve their disputes.',\n",
       "  '/family/mediation-counselling-in-family-justice-courts'],\n",
       " 'Syariah Court orders': ['A party may enforce certain Syariah Court orders in the Family Justice Courts against another party who breached them. Find out what to expect. ',\n",
       "  '/family/syariah-court-orders']}"
      ]
     },
     "execution_count": 23,
     "metadata": {},
     "output_type": "execute_result"
    }
   ],
   "source": [
    "website = 'https://www.judiciary.gov.sg/family'\n",
    "user_agent = {'User-agent' : 'Mozilla/5.0'}\n",
    "page = requests.get(website, headers=user_agent)\n",
    "soup = BeautifulSoup(page.text, 'lxml')\n",
    "fact_cards = soup.find_all('a', {'class': 'nav-link'})\n",
    "tj_dict = {}\n",
    "all_types = []\n",
    "\n",
    "for fact_card in fact_cards[8:]:\n",
    "    tj_type = fact_card.get_text().split('\\n')[1]\n",
    "    tj_desc = fact_card.get_text().split('\\n')[2]\n",
    "    tj_link = fact_card['href']\n",
    "    tj_dict[tj_type] = [tj_desc, tj_link]\n",
    "    all_types.append(tj_type)\n",
    "\n",
    "tj_dict"
   ]
  },
  {
   "cell_type": "code",
   "execution_count": 24,
   "metadata": {},
   "outputs": [
    {
     "name": "stdout",
     "output_type": "stream",
     "text": [
      "Adoption\n",
      "Care and protection for children and young persons\n",
      "Divorce\n",
      "Deputyship\n",
      "Direct judicial communication for international family proceedings affecting children\n",
      "Family Justice Courts appeals\n",
      "Family guidance for children and young persons\n",
      "Guardianship\n",
      "International child abduction\n",
      "Probate and administration\n",
      "Protection against family violence\n",
      "Protection for vulnerable adults\n",
      "Maintenance\n",
      "Mediation and counselling in the Family Justice Courts\n",
      "Syariah Court orders\n"
     ]
    }
   ],
   "source": [
    "desc_dict = {}\n",
    "tdesc_dict = {}\n",
    "ndesc_dict = {}\n",
    "ddesc_dict = {}\n",
    "link_dict = {}\n",
    "row_dict = {}\n",
    "nav_link_list = []\n",
    "\n",
    "for type in all_types:\n",
    "    row_link_list = []\n",
    "    with open(type + \".txt\", \"w\") as f:\n",
    "        print(type)\n",
    "        next_page = 'https://www.judiciary.gov.sg' + tj_dict[type][1]\n",
    "        page = requests.get(next_page, headers=user_agent)\n",
    "        soup = BeautifulSoup(page.text, 'lxml')\n",
    "        content_desc = soup.find_all('div', {'class': 'sf-content-block'})\n",
    "        accr_desc = soup.find_all('div', {'class': 'accordion-wrapper'})\n",
    "        # This gets everything in a page, including the p and ul tags\n",
    "        for desc in content_desc[2:-6]:\n",
    "            desc_text = desc.get_text()\n",
    "            f.write(desc_text.replace('\\n', ' '))\n",
    "            # print(desc_text.replace('\\n', ' '))\n",
    "            for link in desc.find_all('a'):\n",
    "                desc_dict[link.string] = link['href']\n",
    "\n",
    "        # This gets all the links in the accordion\n",
    "        for desc in accr_desc:\n",
    "            for link in desc.find_all('a'):\n",
    "                link_dict[link.string] = link['href']\n",
    "            \n",
    "        if type ==\"Adoption\" or type == \"Protection for vulnerable adults\" :\n",
    "            timeline_desc = soup.find_all('div', {'class': 'timeline'})\n",
    "            for t_desc in timeline_desc:\n",
    "                timeline_text = t_desc.get_text()\n",
    "                f.write(timeline_text.replace('\\n', ' '))\n",
    "                # print(timeline_text.replace('\\n', ' '))\n",
    "                for link in t_desc.find_all('a'):\n",
    "                    tdesc_dict[link.string] = link['href']\n",
    "\n",
    "        elif type == \"Care and protection for children and young persons\" or type == \"Guardianship\":\n",
    "            nav_desc = soup.find_all('li', {'class': 'nav-item w-100'})\n",
    "            for n_desc in nav_desc:\n",
    "                # print(n_desc)\n",
    "                nav_text = n_desc.get_text()\n",
    "                f.write(nav_text.replace('\\n', ' '))\n",
    "                # print(nav_text.replace('\\n', ' '))\n",
    "                for link in n_desc.find_all('a'):\n",
    "                    nav_link_list.append(link['href'])\n",
    "\n",
    "        else:\n",
    "            div_desc = soup.find_all('div', {'class': 'row'})\n",
    "            if type != \"Direct judicial communication for international family proceedings affecting children\" and type != \"Syariah Court orders\":\n",
    "                type_list = []\n",
    "                for d_desc in div_desc[:-2]:\n",
    "                    div_text = d_desc.get_text()\n",
    "                    f.write(div_text.replace('\\n', ' '))\n",
    "                    # print(div_text.replace('\\n', ' '))\n",
    "                    type_list.append(list(filter(None,div_text.split(\"\\n\"))))\n",
    "                    for link in d_desc.find_all('a'):\n",
    "                        row_link_list.append(link['href'])\n",
    "                    row_dict[type] = row_link_list"
   ]
  },
  {
   "cell_type": "code",
   "execution_count": 25,
   "metadata": {},
   "outputs": [],
   "source": [
    "def get_txt(txt_name, link):\n",
    "    with open(txt_name, \"a\") as f:\n",
    "        next_page = 'https://www.judiciary.gov.sg' + link\n",
    "        page = requests.get(next_page, headers=user_agent)\n",
    "        soup = BeautifulSoup(page.text, 'lxml')\n",
    "        content_desc = soup.find_all('div', {'class': 'sf-content-block'})\n",
    "        for desc in content_desc[2:-6]:\n",
    "            desc_text = desc.get_text()\n",
    "            f.write(desc_text)\n",
    "            # for link in desc.find_all('a'):\n",
    "            #     desc_dict[link.string] = link['href']"
   ]
  },
  {
   "attachments": {},
   "cell_type": "markdown",
   "metadata": {},
   "source": [
    "For Adoption"
   ]
  },
  {
   "cell_type": "code",
   "execution_count": 26,
   "metadata": {},
   "outputs": [],
   "source": [
    "adoption_int_links = dict(itertools.islice(tdesc_dict.items(), 4))\n",
    "for link in adoption_int_links.values():\n",
    "    get_txt('adoption_internal.txt', link)"
   ]
  },
  {
   "attachments": {},
   "cell_type": "markdown",
   "metadata": {},
   "source": [
    "For Protection for vulnerable adults"
   ]
  },
  {
   "cell_type": "code",
   "execution_count": 27,
   "metadata": {},
   "outputs": [],
   "source": [
    "protection_vulnerable_int_links =  dict(itertools.islice(tdesc_dict.items(), len(tdesc_dict)-2, None))\n",
    "for link in protection_vulnerable_int_links.values():\n",
    "    get_txt('protection_vulnerable_internal.txt', link)"
   ]
  },
  {
   "attachments": {},
   "cell_type": "markdown",
   "metadata": {},
   "source": [
    "For Care and protection for children and young persons"
   ]
  },
  {
   "cell_type": "code",
   "execution_count": 28,
   "metadata": {},
   "outputs": [],
   "source": [
    "for link in nav_link_list[:2]:\n",
    "    get_txt('care_protection_children_internal.txt', link)"
   ]
  },
  {
   "attachments": {},
   "cell_type": "markdown",
   "metadata": {},
   "source": [
    "Guardianship"
   ]
  },
  {
   "cell_type": "code",
   "execution_count": 29,
   "metadata": {},
   "outputs": [],
   "source": [
    "for link in nav_link_list[2:]:\n",
    "    get_txt('guardianship_internal.txt', link)"
   ]
  },
  {
   "attachments": {},
   "cell_type": "markdown",
   "metadata": {},
   "source": [
    "Divorce, Deputyship, Family justice courts appeals, Family guidance for children and young persons, International child abduction, Probate and administration, Protection against family violence, Maintenance, Mediation and counselling in the family justice courts"
   ]
  },
  {
   "cell_type": "code",
   "execution_count": 30,
   "metadata": {},
   "outputs": [
    {
     "ename": "KeyboardInterrupt",
     "evalue": "",
     "output_type": "error",
     "traceback": [
      "\u001b[1;31m---------------------------------------------------------------------------\u001b[0m",
      "\u001b[1;31mKeyboardInterrupt\u001b[0m                         Traceback (most recent call last)",
      "\u001b[1;32m<ipython-input-30-e7a0d3bfc6c9>\u001b[0m in \u001b[0;36m<module>\u001b[1;34m\u001b[0m\n\u001b[0;32m      3\u001b[0m     \u001b[0mkey\u001b[0m \u001b[1;33m=\u001b[0m \u001b[0mkey\u001b[0m\u001b[1;33m.\u001b[0m\u001b[0mreplace\u001b[0m\u001b[1;33m(\u001b[0m\u001b[1;34m\" \"\u001b[0m\u001b[1;33m,\u001b[0m \u001b[1;34m\"_\"\u001b[0m\u001b[1;33m)\u001b[0m\u001b[1;33m.\u001b[0m\u001b[0mlower\u001b[0m\u001b[1;33m(\u001b[0m\u001b[1;33m)\u001b[0m\u001b[1;33m\u001b[0m\u001b[1;33m\u001b[0m\u001b[0m\n\u001b[0;32m      4\u001b[0m     \u001b[1;32mfor\u001b[0m \u001b[0mlink\u001b[0m \u001b[1;32min\u001b[0m \u001b[0mlist_of_links\u001b[0m\u001b[1;33m:\u001b[0m\u001b[1;33m\u001b[0m\u001b[1;33m\u001b[0m\u001b[0m\n\u001b[1;32m----> 5\u001b[1;33m         \u001b[0mget_txt\u001b[0m\u001b[1;33m(\u001b[0m\u001b[0mkey\u001b[0m \u001b[1;33m+\u001b[0m \u001b[1;34m'_internal.txt'\u001b[0m\u001b[1;33m,\u001b[0m \u001b[0mlink\u001b[0m\u001b[1;33m)\u001b[0m\u001b[1;33m\u001b[0m\u001b[1;33m\u001b[0m\u001b[0m\n\u001b[0m",
      "\u001b[1;32m<ipython-input-25-876432d7c90a>\u001b[0m in \u001b[0;36mget_txt\u001b[1;34m(txt_name, link)\u001b[0m\n\u001b[0;32m      2\u001b[0m     \u001b[1;32mwith\u001b[0m \u001b[0mopen\u001b[0m\u001b[1;33m(\u001b[0m\u001b[0mtxt_name\u001b[0m\u001b[1;33m,\u001b[0m \u001b[1;34m\"a\"\u001b[0m\u001b[1;33m)\u001b[0m \u001b[1;32mas\u001b[0m \u001b[0mf\u001b[0m\u001b[1;33m:\u001b[0m\u001b[1;33m\u001b[0m\u001b[1;33m\u001b[0m\u001b[0m\n\u001b[0;32m      3\u001b[0m         \u001b[0mnext_page\u001b[0m \u001b[1;33m=\u001b[0m \u001b[1;34m'https://www.judiciary.gov.sg'\u001b[0m \u001b[1;33m+\u001b[0m \u001b[0mlink\u001b[0m\u001b[1;33m\u001b[0m\u001b[1;33m\u001b[0m\u001b[0m\n\u001b[1;32m----> 4\u001b[1;33m         \u001b[0mpage\u001b[0m \u001b[1;33m=\u001b[0m \u001b[0mrequests\u001b[0m\u001b[1;33m.\u001b[0m\u001b[0mget\u001b[0m\u001b[1;33m(\u001b[0m\u001b[0mnext_page\u001b[0m\u001b[1;33m,\u001b[0m \u001b[0mheaders\u001b[0m\u001b[1;33m=\u001b[0m\u001b[0muser_agent\u001b[0m\u001b[1;33m)\u001b[0m\u001b[1;33m\u001b[0m\u001b[1;33m\u001b[0m\u001b[0m\n\u001b[0m\u001b[0;32m      5\u001b[0m         \u001b[0msoup\u001b[0m \u001b[1;33m=\u001b[0m \u001b[0mBeautifulSoup\u001b[0m\u001b[1;33m(\u001b[0m\u001b[0mpage\u001b[0m\u001b[1;33m.\u001b[0m\u001b[0mtext\u001b[0m\u001b[1;33m,\u001b[0m \u001b[1;34m'lxml'\u001b[0m\u001b[1;33m)\u001b[0m\u001b[1;33m\u001b[0m\u001b[1;33m\u001b[0m\u001b[0m\n\u001b[0;32m      6\u001b[0m         \u001b[0mcontent_desc\u001b[0m \u001b[1;33m=\u001b[0m \u001b[0msoup\u001b[0m\u001b[1;33m.\u001b[0m\u001b[0mfind_all\u001b[0m\u001b[1;33m(\u001b[0m\u001b[1;34m'div'\u001b[0m\u001b[1;33m,\u001b[0m \u001b[1;33m{\u001b[0m\u001b[1;34m'class'\u001b[0m\u001b[1;33m:\u001b[0m \u001b[1;34m'sf-content-block'\u001b[0m\u001b[1;33m}\u001b[0m\u001b[1;33m)\u001b[0m\u001b[1;33m\u001b[0m\u001b[1;33m\u001b[0m\u001b[0m\n",
      "\u001b[1;32mc:\\Users\\PSG3\\anaconda3\\lib\\site-packages\\requests\\api.py\u001b[0m in \u001b[0;36mget\u001b[1;34m(url, params, **kwargs)\u001b[0m\n\u001b[0;32m     71\u001b[0m     \"\"\"\n\u001b[0;32m     72\u001b[0m \u001b[1;33m\u001b[0m\u001b[0m\n\u001b[1;32m---> 73\u001b[1;33m     \u001b[1;32mreturn\u001b[0m \u001b[0mrequest\u001b[0m\u001b[1;33m(\u001b[0m\u001b[1;34m\"get\"\u001b[0m\u001b[1;33m,\u001b[0m \u001b[0murl\u001b[0m\u001b[1;33m,\u001b[0m \u001b[0mparams\u001b[0m\u001b[1;33m=\u001b[0m\u001b[0mparams\u001b[0m\u001b[1;33m,\u001b[0m \u001b[1;33m**\u001b[0m\u001b[0mkwargs\u001b[0m\u001b[1;33m)\u001b[0m\u001b[1;33m\u001b[0m\u001b[1;33m\u001b[0m\u001b[0m\n\u001b[0m\u001b[0;32m     74\u001b[0m \u001b[1;33m\u001b[0m\u001b[0m\n\u001b[0;32m     75\u001b[0m \u001b[1;33m\u001b[0m\u001b[0m\n",
      "\u001b[1;32mc:\\Users\\PSG3\\anaconda3\\lib\\site-packages\\requests\\api.py\u001b[0m in \u001b[0;36mrequest\u001b[1;34m(method, url, **kwargs)\u001b[0m\n\u001b[0;32m     57\u001b[0m     \u001b[1;31m# cases, and look like a memory leak in others.\u001b[0m\u001b[1;33m\u001b[0m\u001b[1;33m\u001b[0m\u001b[1;33m\u001b[0m\u001b[0m\n\u001b[0;32m     58\u001b[0m     \u001b[1;32mwith\u001b[0m \u001b[0msessions\u001b[0m\u001b[1;33m.\u001b[0m\u001b[0mSession\u001b[0m\u001b[1;33m(\u001b[0m\u001b[1;33m)\u001b[0m \u001b[1;32mas\u001b[0m \u001b[0msession\u001b[0m\u001b[1;33m:\u001b[0m\u001b[1;33m\u001b[0m\u001b[1;33m\u001b[0m\u001b[0m\n\u001b[1;32m---> 59\u001b[1;33m         \u001b[1;32mreturn\u001b[0m \u001b[0msession\u001b[0m\u001b[1;33m.\u001b[0m\u001b[0mrequest\u001b[0m\u001b[1;33m(\u001b[0m\u001b[0mmethod\u001b[0m\u001b[1;33m=\u001b[0m\u001b[0mmethod\u001b[0m\u001b[1;33m,\u001b[0m \u001b[0murl\u001b[0m\u001b[1;33m=\u001b[0m\u001b[0murl\u001b[0m\u001b[1;33m,\u001b[0m \u001b[1;33m**\u001b[0m\u001b[0mkwargs\u001b[0m\u001b[1;33m)\u001b[0m\u001b[1;33m\u001b[0m\u001b[1;33m\u001b[0m\u001b[0m\n\u001b[0m\u001b[0;32m     60\u001b[0m \u001b[1;33m\u001b[0m\u001b[0m\n\u001b[0;32m     61\u001b[0m \u001b[1;33m\u001b[0m\u001b[0m\n",
      "\u001b[1;32mc:\\Users\\PSG3\\anaconda3\\lib\\site-packages\\requests\\sessions.py\u001b[0m in \u001b[0;36mrequest\u001b[1;34m(self, method, url, params, data, headers, cookies, files, auth, timeout, allow_redirects, proxies, hooks, stream, verify, cert, json)\u001b[0m\n\u001b[0;32m    585\u001b[0m         }\n\u001b[0;32m    586\u001b[0m         \u001b[0msend_kwargs\u001b[0m\u001b[1;33m.\u001b[0m\u001b[0mupdate\u001b[0m\u001b[1;33m(\u001b[0m\u001b[0msettings\u001b[0m\u001b[1;33m)\u001b[0m\u001b[1;33m\u001b[0m\u001b[1;33m\u001b[0m\u001b[0m\n\u001b[1;32m--> 587\u001b[1;33m         \u001b[0mresp\u001b[0m \u001b[1;33m=\u001b[0m \u001b[0mself\u001b[0m\u001b[1;33m.\u001b[0m\u001b[0msend\u001b[0m\u001b[1;33m(\u001b[0m\u001b[0mprep\u001b[0m\u001b[1;33m,\u001b[0m \u001b[1;33m**\u001b[0m\u001b[0msend_kwargs\u001b[0m\u001b[1;33m)\u001b[0m\u001b[1;33m\u001b[0m\u001b[1;33m\u001b[0m\u001b[0m\n\u001b[0m\u001b[0;32m    588\u001b[0m \u001b[1;33m\u001b[0m\u001b[0m\n\u001b[0;32m    589\u001b[0m         \u001b[1;32mreturn\u001b[0m \u001b[0mresp\u001b[0m\u001b[1;33m\u001b[0m\u001b[1;33m\u001b[0m\u001b[0m\n",
      "\u001b[1;32mc:\\Users\\PSG3\\anaconda3\\lib\\site-packages\\requests\\sessions.py\u001b[0m in \u001b[0;36msend\u001b[1;34m(self, request, **kwargs)\u001b[0m\n\u001b[0;32m    743\u001b[0m \u001b[1;33m\u001b[0m\u001b[0m\n\u001b[0;32m    744\u001b[0m         \u001b[1;32mif\u001b[0m \u001b[1;32mnot\u001b[0m \u001b[0mstream\u001b[0m\u001b[1;33m:\u001b[0m\u001b[1;33m\u001b[0m\u001b[1;33m\u001b[0m\u001b[0m\n\u001b[1;32m--> 745\u001b[1;33m             \u001b[0mr\u001b[0m\u001b[1;33m.\u001b[0m\u001b[0mcontent\u001b[0m\u001b[1;33m\u001b[0m\u001b[1;33m\u001b[0m\u001b[0m\n\u001b[0m\u001b[0;32m    746\u001b[0m \u001b[1;33m\u001b[0m\u001b[0m\n\u001b[0;32m    747\u001b[0m         \u001b[1;32mreturn\u001b[0m \u001b[0mr\u001b[0m\u001b[1;33m\u001b[0m\u001b[1;33m\u001b[0m\u001b[0m\n",
      "\u001b[1;32mc:\\Users\\PSG3\\anaconda3\\lib\\site-packages\\requests\\models.py\u001b[0m in \u001b[0;36mcontent\u001b[1;34m(self)\u001b[0m\n\u001b[0;32m    897\u001b[0m                 \u001b[0mself\u001b[0m\u001b[1;33m.\u001b[0m\u001b[0m_content\u001b[0m \u001b[1;33m=\u001b[0m \u001b[1;32mNone\u001b[0m\u001b[1;33m\u001b[0m\u001b[1;33m\u001b[0m\u001b[0m\n\u001b[0;32m    898\u001b[0m             \u001b[1;32melse\u001b[0m\u001b[1;33m:\u001b[0m\u001b[1;33m\u001b[0m\u001b[1;33m\u001b[0m\u001b[0m\n\u001b[1;32m--> 899\u001b[1;33m                 \u001b[0mself\u001b[0m\u001b[1;33m.\u001b[0m\u001b[0m_content\u001b[0m \u001b[1;33m=\u001b[0m \u001b[1;34mb\"\"\u001b[0m\u001b[1;33m.\u001b[0m\u001b[0mjoin\u001b[0m\u001b[1;33m(\u001b[0m\u001b[0mself\u001b[0m\u001b[1;33m.\u001b[0m\u001b[0miter_content\u001b[0m\u001b[1;33m(\u001b[0m\u001b[0mCONTENT_CHUNK_SIZE\u001b[0m\u001b[1;33m)\u001b[0m\u001b[1;33m)\u001b[0m \u001b[1;32mor\u001b[0m \u001b[1;34mb\"\"\u001b[0m\u001b[1;33m\u001b[0m\u001b[1;33m\u001b[0m\u001b[0m\n\u001b[0m\u001b[0;32m    900\u001b[0m \u001b[1;33m\u001b[0m\u001b[0m\n\u001b[0;32m    901\u001b[0m         \u001b[0mself\u001b[0m\u001b[1;33m.\u001b[0m\u001b[0m_content_consumed\u001b[0m \u001b[1;33m=\u001b[0m \u001b[1;32mTrue\u001b[0m\u001b[1;33m\u001b[0m\u001b[1;33m\u001b[0m\u001b[0m\n",
      "\u001b[1;32mc:\\Users\\PSG3\\anaconda3\\lib\\site-packages\\requests\\models.py\u001b[0m in \u001b[0;36mgenerate\u001b[1;34m()\u001b[0m\n\u001b[0;32m    814\u001b[0m             \u001b[1;32mif\u001b[0m \u001b[0mhasattr\u001b[0m\u001b[1;33m(\u001b[0m\u001b[0mself\u001b[0m\u001b[1;33m.\u001b[0m\u001b[0mraw\u001b[0m\u001b[1;33m,\u001b[0m \u001b[1;34m\"stream\"\u001b[0m\u001b[1;33m)\u001b[0m\u001b[1;33m:\u001b[0m\u001b[1;33m\u001b[0m\u001b[1;33m\u001b[0m\u001b[0m\n\u001b[0;32m    815\u001b[0m                 \u001b[1;32mtry\u001b[0m\u001b[1;33m:\u001b[0m\u001b[1;33m\u001b[0m\u001b[1;33m\u001b[0m\u001b[0m\n\u001b[1;32m--> 816\u001b[1;33m                     \u001b[1;32myield\u001b[0m \u001b[1;32mfrom\u001b[0m \u001b[0mself\u001b[0m\u001b[1;33m.\u001b[0m\u001b[0mraw\u001b[0m\u001b[1;33m.\u001b[0m\u001b[0mstream\u001b[0m\u001b[1;33m(\u001b[0m\u001b[0mchunk_size\u001b[0m\u001b[1;33m,\u001b[0m \u001b[0mdecode_content\u001b[0m\u001b[1;33m=\u001b[0m\u001b[1;32mTrue\u001b[0m\u001b[1;33m)\u001b[0m\u001b[1;33m\u001b[0m\u001b[1;33m\u001b[0m\u001b[0m\n\u001b[0m\u001b[0;32m    817\u001b[0m                 \u001b[1;32mexcept\u001b[0m \u001b[0mProtocolError\u001b[0m \u001b[1;32mas\u001b[0m \u001b[0me\u001b[0m\u001b[1;33m:\u001b[0m\u001b[1;33m\u001b[0m\u001b[1;33m\u001b[0m\u001b[0m\n\u001b[0;32m    818\u001b[0m                     \u001b[1;32mraise\u001b[0m \u001b[0mChunkedEncodingError\u001b[0m\u001b[1;33m(\u001b[0m\u001b[0me\u001b[0m\u001b[1;33m)\u001b[0m\u001b[1;33m\u001b[0m\u001b[1;33m\u001b[0m\u001b[0m\n",
      "\u001b[1;32mc:\\Users\\PSG3\\anaconda3\\lib\\site-packages\\urllib3\\response.py\u001b[0m in \u001b[0;36mstream\u001b[1;34m(self, amt, decode_content)\u001b[0m\n\u001b[0;32m    570\u001b[0m         \"\"\"\n\u001b[0;32m    571\u001b[0m         \u001b[1;32mif\u001b[0m \u001b[0mself\u001b[0m\u001b[1;33m.\u001b[0m\u001b[0mchunked\u001b[0m \u001b[1;32mand\u001b[0m \u001b[0mself\u001b[0m\u001b[1;33m.\u001b[0m\u001b[0msupports_chunked_reads\u001b[0m\u001b[1;33m(\u001b[0m\u001b[1;33m)\u001b[0m\u001b[1;33m:\u001b[0m\u001b[1;33m\u001b[0m\u001b[1;33m\u001b[0m\u001b[0m\n\u001b[1;32m--> 572\u001b[1;33m             \u001b[1;32mfor\u001b[0m \u001b[0mline\u001b[0m \u001b[1;32min\u001b[0m \u001b[0mself\u001b[0m\u001b[1;33m.\u001b[0m\u001b[0mread_chunked\u001b[0m\u001b[1;33m(\u001b[0m\u001b[0mamt\u001b[0m\u001b[1;33m,\u001b[0m \u001b[0mdecode_content\u001b[0m\u001b[1;33m=\u001b[0m\u001b[0mdecode_content\u001b[0m\u001b[1;33m)\u001b[0m\u001b[1;33m:\u001b[0m\u001b[1;33m\u001b[0m\u001b[1;33m\u001b[0m\u001b[0m\n\u001b[0m\u001b[0;32m    573\u001b[0m                 \u001b[1;32myield\u001b[0m \u001b[0mline\u001b[0m\u001b[1;33m\u001b[0m\u001b[1;33m\u001b[0m\u001b[0m\n\u001b[0;32m    574\u001b[0m         \u001b[1;32melse\u001b[0m\u001b[1;33m:\u001b[0m\u001b[1;33m\u001b[0m\u001b[1;33m\u001b[0m\u001b[0m\n",
      "\u001b[1;32mc:\\Users\\PSG3\\anaconda3\\lib\\site-packages\\urllib3\\response.py\u001b[0m in \u001b[0;36mread_chunked\u001b[1;34m(self, amt, decode_content)\u001b[0m\n\u001b[0;32m    762\u001b[0m \u001b[1;33m\u001b[0m\u001b[0m\n\u001b[0;32m    763\u001b[0m             \u001b[1;32mwhile\u001b[0m \u001b[1;32mTrue\u001b[0m\u001b[1;33m:\u001b[0m\u001b[1;33m\u001b[0m\u001b[1;33m\u001b[0m\u001b[0m\n\u001b[1;32m--> 764\u001b[1;33m                 \u001b[0mself\u001b[0m\u001b[1;33m.\u001b[0m\u001b[0m_update_chunk_length\u001b[0m\u001b[1;33m(\u001b[0m\u001b[1;33m)\u001b[0m\u001b[1;33m\u001b[0m\u001b[1;33m\u001b[0m\u001b[0m\n\u001b[0m\u001b[0;32m    765\u001b[0m                 \u001b[1;32mif\u001b[0m \u001b[0mself\u001b[0m\u001b[1;33m.\u001b[0m\u001b[0mchunk_left\u001b[0m \u001b[1;33m==\u001b[0m \u001b[1;36m0\u001b[0m\u001b[1;33m:\u001b[0m\u001b[1;33m\u001b[0m\u001b[1;33m\u001b[0m\u001b[0m\n\u001b[0;32m    766\u001b[0m                     \u001b[1;32mbreak\u001b[0m\u001b[1;33m\u001b[0m\u001b[1;33m\u001b[0m\u001b[0m\n",
      "\u001b[1;32mc:\\Users\\PSG3\\anaconda3\\lib\\site-packages\\urllib3\\response.py\u001b[0m in \u001b[0;36m_update_chunk_length\u001b[1;34m(self)\u001b[0m\n\u001b[0;32m    692\u001b[0m         \u001b[1;32mif\u001b[0m \u001b[0mself\u001b[0m\u001b[1;33m.\u001b[0m\u001b[0mchunk_left\u001b[0m \u001b[1;32mis\u001b[0m \u001b[1;32mnot\u001b[0m \u001b[1;32mNone\u001b[0m\u001b[1;33m:\u001b[0m\u001b[1;33m\u001b[0m\u001b[1;33m\u001b[0m\u001b[0m\n\u001b[0;32m    693\u001b[0m             \u001b[1;32mreturn\u001b[0m\u001b[1;33m\u001b[0m\u001b[1;33m\u001b[0m\u001b[0m\n\u001b[1;32m--> 694\u001b[1;33m         \u001b[0mline\u001b[0m \u001b[1;33m=\u001b[0m \u001b[0mself\u001b[0m\u001b[1;33m.\u001b[0m\u001b[0m_fp\u001b[0m\u001b[1;33m.\u001b[0m\u001b[0mfp\u001b[0m\u001b[1;33m.\u001b[0m\u001b[0mreadline\u001b[0m\u001b[1;33m(\u001b[0m\u001b[1;33m)\u001b[0m\u001b[1;33m\u001b[0m\u001b[1;33m\u001b[0m\u001b[0m\n\u001b[0m\u001b[0;32m    695\u001b[0m         \u001b[0mline\u001b[0m \u001b[1;33m=\u001b[0m \u001b[0mline\u001b[0m\u001b[1;33m.\u001b[0m\u001b[0msplit\u001b[0m\u001b[1;33m(\u001b[0m\u001b[1;34mb\";\"\u001b[0m\u001b[1;33m,\u001b[0m \u001b[1;36m1\u001b[0m\u001b[1;33m)\u001b[0m\u001b[1;33m[\u001b[0m\u001b[1;36m0\u001b[0m\u001b[1;33m]\u001b[0m\u001b[1;33m\u001b[0m\u001b[1;33m\u001b[0m\u001b[0m\n\u001b[0;32m    696\u001b[0m         \u001b[1;32mtry\u001b[0m\u001b[1;33m:\u001b[0m\u001b[1;33m\u001b[0m\u001b[1;33m\u001b[0m\u001b[0m\n",
      "\u001b[1;32mc:\\Users\\PSG3\\anaconda3\\lib\\socket.py\u001b[0m in \u001b[0;36mreadinto\u001b[1;34m(self, b)\u001b[0m\n\u001b[0;32m    667\u001b[0m         \u001b[1;32mwhile\u001b[0m \u001b[1;32mTrue\u001b[0m\u001b[1;33m:\u001b[0m\u001b[1;33m\u001b[0m\u001b[1;33m\u001b[0m\u001b[0m\n\u001b[0;32m    668\u001b[0m             \u001b[1;32mtry\u001b[0m\u001b[1;33m:\u001b[0m\u001b[1;33m\u001b[0m\u001b[1;33m\u001b[0m\u001b[0m\n\u001b[1;32m--> 669\u001b[1;33m                 \u001b[1;32mreturn\u001b[0m \u001b[0mself\u001b[0m\u001b[1;33m.\u001b[0m\u001b[0m_sock\u001b[0m\u001b[1;33m.\u001b[0m\u001b[0mrecv_into\u001b[0m\u001b[1;33m(\u001b[0m\u001b[0mb\u001b[0m\u001b[1;33m)\u001b[0m\u001b[1;33m\u001b[0m\u001b[1;33m\u001b[0m\u001b[0m\n\u001b[0m\u001b[0;32m    670\u001b[0m             \u001b[1;32mexcept\u001b[0m \u001b[0mtimeout\u001b[0m\u001b[1;33m:\u001b[0m\u001b[1;33m\u001b[0m\u001b[1;33m\u001b[0m\u001b[0m\n\u001b[0;32m    671\u001b[0m                 \u001b[0mself\u001b[0m\u001b[1;33m.\u001b[0m\u001b[0m_timeout_occurred\u001b[0m \u001b[1;33m=\u001b[0m \u001b[1;32mTrue\u001b[0m\u001b[1;33m\u001b[0m\u001b[1;33m\u001b[0m\u001b[0m\n",
      "\u001b[1;32mc:\\Users\\PSG3\\anaconda3\\lib\\ssl.py\u001b[0m in \u001b[0;36mrecv_into\u001b[1;34m(self, buffer, nbytes, flags)\u001b[0m\n\u001b[0;32m   1239\u001b[0m                   \u001b[1;34m\"non-zero flags not allowed in calls to recv_into() on %s\"\u001b[0m \u001b[1;33m%\u001b[0m\u001b[1;33m\u001b[0m\u001b[1;33m\u001b[0m\u001b[0m\n\u001b[0;32m   1240\u001b[0m                   self.__class__)\n\u001b[1;32m-> 1241\u001b[1;33m             \u001b[1;32mreturn\u001b[0m \u001b[0mself\u001b[0m\u001b[1;33m.\u001b[0m\u001b[0mread\u001b[0m\u001b[1;33m(\u001b[0m\u001b[0mnbytes\u001b[0m\u001b[1;33m,\u001b[0m \u001b[0mbuffer\u001b[0m\u001b[1;33m)\u001b[0m\u001b[1;33m\u001b[0m\u001b[1;33m\u001b[0m\u001b[0m\n\u001b[0m\u001b[0;32m   1242\u001b[0m         \u001b[1;32melse\u001b[0m\u001b[1;33m:\u001b[0m\u001b[1;33m\u001b[0m\u001b[1;33m\u001b[0m\u001b[0m\n\u001b[0;32m   1243\u001b[0m             \u001b[1;32mreturn\u001b[0m \u001b[0msuper\u001b[0m\u001b[1;33m(\u001b[0m\u001b[1;33m)\u001b[0m\u001b[1;33m.\u001b[0m\u001b[0mrecv_into\u001b[0m\u001b[1;33m(\u001b[0m\u001b[0mbuffer\u001b[0m\u001b[1;33m,\u001b[0m \u001b[0mnbytes\u001b[0m\u001b[1;33m,\u001b[0m \u001b[0mflags\u001b[0m\u001b[1;33m)\u001b[0m\u001b[1;33m\u001b[0m\u001b[1;33m\u001b[0m\u001b[0m\n",
      "\u001b[1;32mc:\\Users\\PSG3\\anaconda3\\lib\\ssl.py\u001b[0m in \u001b[0;36mread\u001b[1;34m(self, len, buffer)\u001b[0m\n\u001b[0;32m   1097\u001b[0m         \u001b[1;32mtry\u001b[0m\u001b[1;33m:\u001b[0m\u001b[1;33m\u001b[0m\u001b[1;33m\u001b[0m\u001b[0m\n\u001b[0;32m   1098\u001b[0m             \u001b[1;32mif\u001b[0m \u001b[0mbuffer\u001b[0m \u001b[1;32mis\u001b[0m \u001b[1;32mnot\u001b[0m \u001b[1;32mNone\u001b[0m\u001b[1;33m:\u001b[0m\u001b[1;33m\u001b[0m\u001b[1;33m\u001b[0m\u001b[0m\n\u001b[1;32m-> 1099\u001b[1;33m                 \u001b[1;32mreturn\u001b[0m \u001b[0mself\u001b[0m\u001b[1;33m.\u001b[0m\u001b[0m_sslobj\u001b[0m\u001b[1;33m.\u001b[0m\u001b[0mread\u001b[0m\u001b[1;33m(\u001b[0m\u001b[0mlen\u001b[0m\u001b[1;33m,\u001b[0m \u001b[0mbuffer\u001b[0m\u001b[1;33m)\u001b[0m\u001b[1;33m\u001b[0m\u001b[1;33m\u001b[0m\u001b[0m\n\u001b[0m\u001b[0;32m   1100\u001b[0m             \u001b[1;32melse\u001b[0m\u001b[1;33m:\u001b[0m\u001b[1;33m\u001b[0m\u001b[1;33m\u001b[0m\u001b[0m\n\u001b[0;32m   1101\u001b[0m                 \u001b[1;32mreturn\u001b[0m \u001b[0mself\u001b[0m\u001b[1;33m.\u001b[0m\u001b[0m_sslobj\u001b[0m\u001b[1;33m.\u001b[0m\u001b[0mread\u001b[0m\u001b[1;33m(\u001b[0m\u001b[0mlen\u001b[0m\u001b[1;33m)\u001b[0m\u001b[1;33m\u001b[0m\u001b[1;33m\u001b[0m\u001b[0m\n",
      "\u001b[1;31mKeyboardInterrupt\u001b[0m: "
     ]
    }
   ],
   "source": [
    "# iterate through the dictionary and get the key and value\n",
    "for key, list_of_links in row_dict.items():\n",
    "    key = key.replace(\" \", \"_\").lower()\n",
    "    for link in list_of_links:\n",
    "        get_txt(key + '_internal.txt', link)"
   ]
  },
  {
   "attachments": {},
   "cell_type": "markdown",
   "metadata": {},
   "source": [
    "Civil Law"
   ]
  },
  {
   "cell_type": "code",
   "execution_count": null,
   "metadata": {},
   "outputs": [
    {
     "data": {
      "text/plain": [
       "{'Admiralty proceedings (from 1 April 2022)': ['Admiralty disputes involve ships or maritime activities. The High Court (General Division) can hear certain claims against ships, shipowners or ship charterers.',\n",
       "  '/civil/admiralty-proceedings-(from-1-april-2022)'],\n",
       " 'Appeals under the Protection from Online Falsehoods and Manipulation Act (POFMA) (from 1 April 2022)': ['Find out how to appeal to the High Court (General Division) against a direction or declaration under the Protection from Online Falsehoods and Manipulation Act.',\n",
       "  '/civil/appeals-under-the-protection-from-online-falsehoods-and-manipulation-act-(pofma)-(from-1-april-2022)'],\n",
       " 'Bankruptcy': ['Any individual or firm that is unable to repay any debt of at least $15,000 may be declared a bankrupt by the High Court (General Division). ',\n",
       "  '/civil/bankruptcy'],\n",
       " 'Bills of sale: registration and renewal (from 1 April 2022)': ['A bill of sale is a legal document that records the transfer of ownership of an asset. Register or renew bills of sale in the High Court (General Division). ',\n",
       "  '/civil/bills-of-sale-(from-1-april-2022)'],\n",
       " 'Civil claims (from 1 April 2022)': ['The civil courts hear various types of disputes between parties. The process may differ based on the claim type and value.',\n",
       "  '/civil/civil-claims-(from-1-april-2022)'],\n",
       " 'Community and neighbour disputes': ['\\u200bThe Community Disputes Resolution Tribunals hear disputes between neighbours involving unreasonable interferences of enjoyment or use of places of residence.',\n",
       "  '/civil/community-neighbour-dispute-claims'],\n",
       " 'Company winding up': ['A company may be wound up voluntarily or by an order of court (compulsory winding up). Compulsory winding up is a process in which a party applies for a court order to wind up a company. The High Court (General Division) hears such applications.',\n",
       "  '/civil/company-winding-up'],\n",
       " 'Employment claims': ['The Employment Claims Tribunals hear salary-related and wrongful dismissal disputes between employers and employees.',\n",
       "  '/civil/employment-claims'],\n",
       " 'Mortgage actions': ['Find out what mortgage actions are and what you should do if a party starts a mortgage action against you.',\n",
       "  '/civil/mortgage-actions'],\n",
       " 'Powers of attorney': ['Powers of attorney related to property matters may be deposited in the High Court (General Division). Deposited documents are available for public inspection.',\n",
       "  '/civil/powers-of-attorney'],\n",
       " 'Protection from harassment': ['The Protection from Harassment Court hears matters related to harassment, stalking, cyberbullying and other acts causing alarm or distress.',\n",
       "  '/civil/protection-from-harassment'],\n",
       " 'Small claims': ['The Small Claims Tribunals hear claims up to $30,000. Common types of disputes involve goods, services, or residential tenancy agreements not exceeding 2 years.',\n",
       "  '/civil/small-claims'],\n",
       " 'Rules of Court 2021': ['Find out about the new Rules of Court 2021 (ROC 2021). ',\n",
       "  '/civil/new-rules-of-court-2021']}"
      ]
     },
     "execution_count": 5,
     "metadata": {},
     "output_type": "execute_result"
    }
   ],
   "source": [
    "website = 'https://www.judiciary.gov.sg/civil'\n",
    "user_agent = {'User-agent' : 'Mozilla/5.0'}\n",
    "page = requests.get(website, headers=user_agent)\n",
    "soup = BeautifulSoup(page.text, 'lxml')\n",
    "fact_cards = soup.find_all('a', {'class': 'nav-link'})\n",
    "tj_dict = {}\n",
    "all_types = []\n",
    "\n",
    "for fact_card in fact_cards[8:]:\n",
    "    tj_type = fact_card.get_text().split('\\n')[1]\n",
    "    tj_desc = fact_card.get_text().split('\\n')[2]\n",
    "    tj_link = fact_card['href']\n",
    "    tj_dict[tj_type] = [tj_desc, tj_link]\n",
    "    all_types.append(tj_type)\n",
    "\n",
    "tj_dict"
   ]
  },
  {
   "cell_type": "code",
   "execution_count": null,
   "metadata": {},
   "outputs": [],
   "source": [
    "desc_dict = {}\n",
    "tdesc_dict = {}\n",
    "ndesc_dict = {}\n",
    "ddesc_dict = {}\n",
    "link_dict = {}\n",
    "row_dict = {}\n",
    "nav_link_list = []\n",
    "\n",
    "for type in all_types:\n",
    "    row_link_list = []\n",
    "    with open(os.path.join('civil_db', type + \".txt\"), \"w\") as f:\n",
    "        print(type)\n",
    "        next_page = 'https://www.judiciary.gov.sg' + tj_dict[type][1]\n",
    "        page = requests.get(next_page, headers=user_agent)\n",
    "        soup = BeautifulSoup(page.text, 'lxml')\n",
    "        content_desc = soup.find_all('div', {'class': 'sf-content-block'})\n",
    "        accr_desc = soup.find_all('div', {'class': 'accordion-wrapper'})\n",
    "        # This gets everything in a page, including the p and ul tags\n",
    "        for desc in content_desc[2:6]:\n",
    "            desc_text = desc.get_text()\n",
    "            f.write(desc_text.replace('\\n', ' '))\n",
    "            print(desc_text.replace('\\n', ' '))\n",
    "            for link in desc.find_all('a'):\n",
    "                desc_dict[link.string] = link['href']\n",
    "\n",
    "            div_desc = soup.find_all('div', {'class': 'row'})\n",
    "            if type == \"Civil claims (from 1 April 2022)\" or type == \"Bankruptcy\" or type == \"Community and neighbour disputes\" or type == \"Employment claims\" or type == \"Protection from harassment\" or type == \"Small claims\":\n",
    "                type_list = []\n",
    "                for d_desc in div_desc[:-2]:\n",
    "                    div_text = d_desc.get_text()\n",
    "                    f.write(div_text.replace('\\n', ' '))\n",
    "                    # print(div_text.replace('\\n', ' '))\n",
    "                    type_list.append(list(filter(None,div_text.split(\"\\n\"))))\n",
    "                    for link in d_desc.find_all('a'):\n",
    "                        row_link_list.append(link['href'])\n",
    "                    row_dict[type] = row_link_list        \n",
    "            \n",
    "\n",
    "        # This gets all the links in the accordion\n",
    "        for desc in accr_desc:\n",
    "            for link in desc.find_all('a'):\n",
    "                link_dict[link.string] = link['href']\n",
    "        print('-------------------------------------------------------')\n",
    "    \n",
    "            "
   ]
  },
  {
   "cell_type": "code",
   "execution_count": null,
   "metadata": {},
   "outputs": [],
   "source": [
    "def get_txt(type, link):\n",
    "    with open(os.path.join('civil_db', type + \".txt\"), \"a\") as f:\n",
    "        next_page = 'https://www.judiciary.gov.sg' + link\n",
    "        page = requests.get(next_page, headers=user_agent)\n",
    "        soup = BeautifulSoup(page.text, 'lxml')\n",
    "        content_desc = soup.find_all('div', {'class': 'sf-content-block'})\n",
    "        for desc in content_desc[2:-6]:\n",
    "            desc_text = desc.get_text()\n",
    "            f.write(desc_text)"
   ]
  },
  {
   "attachments": {},
   "cell_type": "markdown",
   "metadata": {},
   "source": [
    "Civil claims (from 1 April 2022)"
   ]
  },
  {
   "cell_type": "code",
   "execution_count": null,
   "metadata": {},
   "outputs": [],
   "source": [
    "for key, value in row_dict.items():\n",
    "    for link in value:\n",
    "        get_txt(key+\"_internal\", link)"
   ]
  },
  {
   "attachments": {},
   "cell_type": "markdown",
   "metadata": {},
   "source": [
    "Criminal law"
   ]
  },
  {
   "cell_type": "code",
   "execution_count": 31,
   "metadata": {},
   "outputs": [
    {
     "data": {
      "text/plain": [
       "{'Bail': ['An accused person can be released from custody if a bailor posts bail. Find out what it means if you are asked to be a bailor and how to post bail.',\n",
       "  '/criminal/bail'],\n",
       " 'Charged with a crime': ['What to expect if you are charged with a criminal offence and have to attend court, including a step-by-step guide to the court process.',\n",
       "  '/criminal/charged-with-crime'],\n",
       " 'Charged with a traffic or regulatory offence': ['What happens if you are charged with a traffic or regulatory offence, and what to do if you have to attend Night Court or Traffic Court.',\n",
       "  '/criminal/charged-with-traffic-regulatory-offence'],\n",
       " 'Criminal appeals': [\"\\u200bIf you are not satisfied with the court's decision in your criminal case, you can file an appeal against it. Find out what you need to do.\",\n",
       "  '/criminal/appeal'],\n",
       " 'Criminal motions': ['A criminal motion is an application to the Supreme Court for a specific purpose, such as an extension of time to file an appeal or a revision of the bail amount. ',\n",
       "  '/criminal/criminal-motions'],\n",
       " 'Criminal revisions': ['A criminal revision is an application to the General Division of the High Court to review a State Courts decision if there are doubts about its correctness, legality or regularity.',\n",
       "  '/criminal/criminal-revisions'],\n",
       " \"Magistrate's Complaints\": [\"If you have made a police report for a crime but your case is not being pursued by the police, you can choose to file a Magistrate's Complaint to the court.\",\n",
       "  '/criminal/magistrates-complaints'],\n",
       " 'Questions of law and criminal references': ['Questions of law may be stated by a trial court for consideration of the relevant court. Criminal references are applications to resolve questions of law of public interest.',\n",
       "  '/criminal/questions-of-law-criminal-references'],\n",
       " 'Youth arrest': ['If a person below 16 is arrested for a crime, they may be charged in the Youth Courts. Special rules and procedures apply to such youth offenders.',\n",
       "  '/criminal/youth-arrest']}"
      ]
     },
     "execution_count": 31,
     "metadata": {},
     "output_type": "execute_result"
    }
   ],
   "source": [
    "website = 'https://www.judiciary.gov.sg/criminal'\n",
    "user_agent = {'User-agent' : 'Mozilla/5.0'}\n",
    "page = requests.get(website, headers=user_agent)\n",
    "soup = BeautifulSoup(page.text, 'lxml')\n",
    "fact_cards = soup.find_all('a', {'class': 'nav-link'})\n",
    "tj_dict = {}\n",
    "all_types = []\n",
    "\n",
    "for fact_card in fact_cards[8:]:\n",
    "    tj_type = fact_card.get_text().split('\\n')[1]\n",
    "    tj_desc = fact_card.get_text().split('\\n')[2]\n",
    "    tj_link = fact_card['href']\n",
    "    tj_dict[tj_type] = [tj_desc, tj_link]\n",
    "    all_types.append(tj_type)\n",
    "\n",
    "tj_dict"
   ]
  },
  {
   "cell_type": "code",
   "execution_count": 36,
   "metadata": {},
   "outputs": [
    {
     "name": "stdout",
     "output_type": "stream",
     "text": [
      "Bail\n",
      "-------------------------------------------------------\n",
      "Charged with a crime\n",
      "-------------------------------------------------------\n",
      "Charged with a traffic or regulatory offence\n",
      "-------------------------------------------------------\n",
      "Criminal appeals\n",
      "\n",
      "\n",
      "Criminal appeals\n",
      "​If you are not satisfied with the court's decision in your criminal case, you can file an appeal against it. Find out what you need to do.\n",
      "\n",
      "\n",
      "\n",
      "\n",
      "  Criminal appeals ​If you are not satisfied with the court's decision in your criminal case, you can file an appeal against it. Find out what you need to do.    \n",
      "\n",
      "\n",
      "\n",
      "\n",
      "Criminal appeals: overview\n",
      "You can appeal against the court's decision in a criminal case. Find out about the criminal appeal process, including the possible outcomes.\n",
      "\n",
      "\n",
      "\n",
      "\n",
      "\n",
      "\n",
      "Criminal appeals against decisions of the State Courts\n",
      "You may file an appeal either online or over the counter, against a decision in a criminal case heard in the State Courts. Find out the steps to do so.\n",
      "\n",
      "\n",
      "\n",
      "\n",
      "\n",
      "\n",
      "Criminal appeals against decisions of the High Court\n",
      "You may file an appeal against a decision in a criminal case heard in the General Division of the High Court via eLitigation. Find out the steps to do so.\n",
      "\n",
      "\n",
      "\n",
      "\n",
      "\n",
      "\n",
      "Apply for bail pending appeal\n",
      "You can apply for bail to postpone the start of your sentence while waiting for your appeal hearing, subject to the court's approval.\n",
      "\n",
      "\n",
      "\n",
      "\n",
      "\n",
      "\n",
      "Attend a criminal appeal hearing\n",
      "Find out what to expect during a criminal appeal hearing, including what you need to do in court and what the possible outcomes are.\n",
      "\n",
      "\n",
      "\n",
      "\n",
      "\n",
      "\n",
      "Withdraw a criminal appeal\n",
      "Find out what you need to do if you wish to withdraw your criminal appeal and what happens after you withdraw.\n",
      "\n",
      "\n",
      "\n",
      "\n",
      "    Criminal appeals: overview You can appeal against the court's decision in a criminal case. Find out about the criminal appeal process, including the possible outcomes.       Criminal appeals against decisions of the State Courts You may file an appeal either online or over the counter, against a decision in a criminal case heard in the State Courts. Find out the steps to do so.       Criminal appeals against decisions of the High Court You may file an appeal against a decision in a criminal case heard in the General Division of the High Court via eLitigation. Find out the steps to do so.       Apply for bail pending appeal You can apply for bail to postpone the start of your sentence while waiting for your appeal hearing, subject to the court's approval.       Attend a criminal appeal hearing Find out what to expect during a criminal appeal hearing, including what you need to do in court and what the possible outcomes are.       Withdraw a criminal appeal Find out what you need to do if you wish to withdraw your criminal appeal and what happens after you withdraw.    \n",
      "-------------------------------------------------------\n",
      "Criminal motions\n",
      "-------------------------------------------------------\n",
      "Criminal revisions\n",
      "-------------------------------------------------------\n",
      "Magistrate's Complaints\n",
      "-------------------------------------------------------\n",
      "Questions of law and criminal references\n",
      "-------------------------------------------------------\n",
      "Youth arrest\n",
      "\n",
      "\n",
      "Youth arrest\n",
      "If a person below 16 is arrested for a crime, they may be charged in the Youth Courts. Special rules and procedures apply to such youth offenders.\n",
      "\n",
      "\n",
      "\n",
      "\n",
      "  Youth arrest If a person below 16 is arrested for a crime, they may be charged in the Youth Courts. Special rules and procedures apply to such youth offenders.    \n",
      "-------------------------------------------------------\n"
     ]
    }
   ],
   "source": [
    "desc_dict = {}\n",
    "tdesc_dict = {}\n",
    "ndesc_dict = {}\n",
    "ddesc_dict = {}\n",
    "link_dict = {}\n",
    "row_dict = {}\n",
    "nav_link_list = []\n",
    "\n",
    "for type in all_types:\n",
    "    row_link_list = []\n",
    "    with open(os.path.join('criminal_db', type + \".txt\"), \"w\") as f:\n",
    "        print(type)\n",
    "        next_page = 'https://www.judiciary.gov.sg' + tj_dict[type][1]\n",
    "        page = requests.get(next_page, headers=user_agent)\n",
    "        soup = BeautifulSoup(page.text, 'lxml')\n",
    "        content_desc = soup.find_all('div', {'class': 'sf-content-block'})\n",
    "        accr_desc = soup.find_all('div', {'class': 'accordion-wrapper'})\n",
    "        # This gets everything in a page, including the p and ul tags\n",
    "        for desc in content_desc[2:6]:\n",
    "            desc_text = desc.get_text()\n",
    "            f.write(desc_text.replace('\\n', ' '))\n",
    "            # print(desc_text.replace('\\n', ' '))\n",
    "            for link in desc.find_all('a'):\n",
    "                desc_dict[link.string] = link['href']\n",
    "\n",
    "        if type ==\"Charged with a crime\" or type == \"Magistrate's Complaints\" or type == 'Bail':\n",
    "            timeline_desc = soup.find_all('div', {'class': 'timeline'})\n",
    "            for t_desc in timeline_desc:\n",
    "                timeline_text = t_desc.get_text()\n",
    "                f.write(timeline_text.replace('\\n', ' '))\n",
    "                # print(timeline_text.replace('\\n', ' '))\n",
    "                for link in t_desc.find_all('a'):\n",
    "                    tdesc_dict[link.string] = link['href']\n",
    "\n",
    "        div_desc = soup.find_all('div', {'class': 'row'})\n",
    "        if type == \"Criminal appeals\" or type == \"Youth arrest\":\n",
    "            type_list = []\n",
    "            for d_desc in div_desc[:-2]:\n",
    "                \n",
    "                div_text = d_desc.get_text()\n",
    "                print(div_text)\n",
    "                f.write(div_text.replace('\\n', ' '))\n",
    "                print(div_text.replace('\\n', ' '))\n",
    "                type_list.append(list(filter(None,div_text.split(\"\\n\"))))\n",
    "                for link in d_desc.find_all('a'):\n",
    "                    row_link_list.append(link['href'])\n",
    "                row_dict[type] = row_link_list        \n",
    "            \n",
    "\n",
    "        # This gets all the links in the accordion\n",
    "        for desc in accr_desc:\n",
    "            for link in desc.find_all('a'):\n",
    "                link_dict[link.string] = link['href']\n",
    "        print('-------------------------------------------------------')\n",
    "    \n",
    "            "
   ]
  },
  {
   "cell_type": "code",
   "execution_count": 33,
   "metadata": {},
   "outputs": [],
   "source": [
    "def get_txt(type, link):\n",
    "    with open(os.path.join('criminal_db', type + \".txt\"), \"a\") as f:\n",
    "        next_page = 'https://www.judiciary.gov.sg' + link\n",
    "        page = requests.get(next_page, headers=user_agent)\n",
    "        soup = BeautifulSoup(page.text, 'lxml')\n",
    "        content_desc = soup.find_all('div', {'class': 'sf-content-block'})\n",
    "        for desc in content_desc[2:-6]:\n",
    "            desc_text = desc.get_text()\n",
    "            f.write(desc_text)"
   ]
  },
  {
   "cell_type": "code",
   "execution_count": 37,
   "metadata": {},
   "outputs": [
    {
     "data": {
      "text/plain": [
       "{'Criminal appeals': ['/criminal/appeal-overview',\n",
       "  '/criminal/appeal-state-courts-criminal-case',\n",
       "  '/criminal/appeal-high-court-criminal-case',\n",
       "  '/criminal/bail-pending-appeal',\n",
       "  '/criminal/criminal-appeal-hearing',\n",
       "  '/criminal/withdraw-appeal'],\n",
       " 'Youth arrest': []}"
      ]
     },
     "execution_count": 37,
     "metadata": {},
     "output_type": "execute_result"
    }
   ],
   "source": [
    "row_dict"
   ]
  },
  {
   "cell_type": "code",
   "execution_count": null,
   "metadata": {},
   "outputs": [],
   "source": [
    "for key, value in row_dict.items():\n",
    "    for link in value:\n",
    "        get_txt(key+\"_internal\", link)"
   ]
  }
 ],
 "metadata": {
  "kernelspec": {
   "display_name": "Python 3",
   "language": "python",
   "name": "python3"
  },
  "language_info": {
   "codemirror_mode": {
    "name": "ipython",
    "version": 3
   },
   "file_extension": ".py",
   "mimetype": "text/x-python",
   "name": "python",
   "nbconvert_exporter": "python",
   "pygments_lexer": "ipython3",
   "version": "3.8.3"
  },
  "orig_nbformat": 4,
  "vscode": {
   "interpreter": {
    "hash": "747d2ce94befc444b26ce8ac4106bd565fa9a7adb29f4c71228a18318693a3de"
   }
  }
 },
 "nbformat": 4,
 "nbformat_minor": 2
}
