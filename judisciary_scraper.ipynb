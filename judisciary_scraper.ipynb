{
 "cells": [
  {
   "cell_type": "code",
   "execution_count": 1,
   "metadata": {},
   "outputs": [
    {
     "name": "stderr",
     "output_type": "stream",
     "text": [
      "c:\\Users\\PSG3\\anaconda3\\lib\\site-packages\\fuzzywuzzy\\fuzz.py:11: UserWarning: Using slow pure-python SequenceMatcher. Install python-Levenshtein to remove this warning\n",
      "  warnings.warn('Using slow pure-python SequenceMatcher. Install python-Levenshtein to remove this warning')\n"
     ]
    }
   ],
   "source": [
    "from urllib.request import urlopen as uReq #urllib will get the page itself\n",
    "from bs4 import BeautifulSoup\n",
    "import numpy as np\n",
    "import pandas as pd\n",
    "import re\n",
    "import nltk\n",
    "import heapq\n",
    "import requests\n",
    "import sys\n",
    "from fuzzywuzzy import fuzz\n",
    "from fuzzywuzzy import process\n",
    "import wikipedia\n",
    "from selenium import webdriver\n",
    "import os\n",
    "import urllib.request\n",
    "import urllib.parse\n",
    "from tqdm import tqdm\n",
    "import itertools"
   ]
  },
  {
   "cell_type": "code",
   "execution_count": null,
   "metadata": {},
   "outputs": [],
   "source": [
    "therapeutic_justice_type = []"
   ]
  },
  {
   "cell_type": "code",
   "execution_count": null,
   "metadata": {},
   "outputs": [],
   "source": [
    "website = 'https://www.judiciary.gov.sg/family'\n",
    "user_agent = {'User-agent' : 'Mozilla/5.0'}\n",
    "page = requests.get(website, headers=user_agent)\n",
    "soup = BeautifulSoup(page.text, 'lxml')\n",
    "fact_cards = soup.find_all('a', {'class': 'nav-link'})\n",
    "tj_dict = {}\n",
    "all_types = []\n",
    "\n",
    "for fact_card in fact_cards[8:]:\n",
    "    tj_type = fact_card.get_text().split('\\n')[1]\n",
    "    tj_desc = fact_card.get_text().split('\\n')[2]\n",
    "    tj_link = fact_card['href']\n",
    "    tj_dict[tj_type] = [tj_desc, tj_link]\n",
    "    all_types.append(tj_type)\n",
    "\n",
    "tj_dict"
   ]
  },
  {
   "cell_type": "code",
   "execution_count": 124,
   "metadata": {},
   "outputs": [
    {
     "name": "stdout",
     "output_type": "stream",
     "text": [
      "Adoption\n",
      "Care and protection for children and young persons\n",
      "Divorce\n",
      "Deputyship\n",
      "Direct judicial communication for international family proceedings affecting children\n",
      "Family Justice Courts appeals\n",
      "Family guidance for children and young persons\n",
      "Guardianship\n",
      "International child abduction\n",
      "Probate and administration\n",
      "Protection against family violence\n",
      "Protection for vulnerable adults\n",
      "Maintenance\n",
      "Mediation and counselling in the Family Justice Courts\n",
      "Syariah Court orders\n"
     ]
    }
   ],
   "source": [
    "desc_dict = {}\n",
    "tdesc_dict = {}\n",
    "ndesc_dict = {}\n",
    "ddesc_dict = {}\n",
    "link_dict = {}\n",
    "row_dict = {}\n",
    "nav_link_list = []\n",
    "\n",
    "for type in all_types:\n",
    "    row_link_list = []\n",
    "    with open(type + \".txt\", \"w\") as f:\n",
    "        print(type)\n",
    "        next_page = 'https://www.judiciary.gov.sg' + tj_dict[type][1]\n",
    "        page = requests.get(next_page, headers=user_agent)\n",
    "        soup = BeautifulSoup(page.text, 'lxml')\n",
    "        content_desc = soup.find_all('div', {'class': 'sf-content-block'})\n",
    "        accr_desc = soup.find_all('div', {'class': 'accordion-wrapper'})\n",
    "        # This gets everything in a page, including the p and ul tags\n",
    "        for desc in content_desc[2:-6]:\n",
    "            desc_text = desc.get_text()\n",
    "            f.write(desc_text.replace('\\n', ' '))\n",
    "            # print(desc_text.replace('\\n', ' '))\n",
    "            for link in desc.find_all('a'):\n",
    "                desc_dict[link.string] = link['href']\n",
    "\n",
    "        # This gets all the links in the accordion\n",
    "        for desc in accr_desc:\n",
    "            for link in desc.find_all('a'):\n",
    "                link_dict[link.string] = link['href']\n",
    "            \n",
    "        if type ==\"Adoption\" or type == \"Protection for vulnerable adults\" :\n",
    "            timeline_desc = soup.find_all('div', {'class': 'timeline'})\n",
    "            for t_desc in timeline_desc:\n",
    "                timeline_text = t_desc.get_text()\n",
    "                f.write(timeline_text.replace('\\n', ' '))\n",
    "                # print(timeline_text.replace('\\n', ' '))\n",
    "                for link in t_desc.find_all('a'):\n",
    "                    tdesc_dict[link.string] = link['href']\n",
    "\n",
    "        elif type == \"Care and protection for children and young persons\" or type == \"Guardianship\":\n",
    "            nav_desc = soup.find_all('li', {'class': 'nav-item w-100'})\n",
    "            for n_desc in nav_desc:\n",
    "                # print(n_desc)\n",
    "                nav_text = n_desc.get_text()\n",
    "                f.write(nav_text.replace('\\n', ' '))\n",
    "                # print(nav_text.replace('\\n', ' '))\n",
    "                for link in n_desc.find_all('a'):\n",
    "                    nav_link_list.append(link['href'])\n",
    "\n",
    "        else:\n",
    "            div_desc = soup.find_all('div', {'class': 'row'})\n",
    "            if type != \"Direct judicial communication for international family proceedings affecting children\" and type != \"Syariah Court orders\":\n",
    "                type_list = []\n",
    "                for d_desc in div_desc[:-2]:\n",
    "                    div_text = d_desc.get_text()\n",
    "                    f.write(div_text.replace('\\n', ' '))\n",
    "                    # print(div_text.replace('\\n', ' '))\n",
    "                    type_list.append(list(filter(None,div_text.split(\"\\n\"))))\n",
    "                    for link in d_desc.find_all('a'):\n",
    "                        row_link_list.append(link['href'])\n",
    "                    row_dict[type] = row_link_list"
   ]
  },
  {
   "cell_type": "code",
   "execution_count": 132,
   "metadata": {},
   "outputs": [],
   "source": [
    "def get_txt(txt_name, link):\n",
    "    with open(txt_name, \"a\") as f:\n",
    "        next_page = 'https://www.judiciary.gov.sg' + link\n",
    "        page = requests.get(next_page, headers=user_agent)\n",
    "        soup = BeautifulSoup(page.text, 'lxml')\n",
    "        content_desc = soup.find_all('div', {'class': 'sf-content-block'})\n",
    "        for desc in content_desc[2:-6]:\n",
    "            desc_text = desc.get_text()\n",
    "            f.write(desc_text)\n",
    "            # for link in desc.find_all('a'):\n",
    "            #     desc_dict[link.string] = link['href']"
   ]
  },
  {
   "attachments": {},
   "cell_type": "markdown",
   "metadata": {},
   "source": [
    "For Adoption"
   ]
  },
  {
   "cell_type": "code",
   "execution_count": 92,
   "metadata": {},
   "outputs": [],
   "source": [
    "adoption_int_links = dict(itertools.islice(tdesc_dict.items(), 4))\n",
    "for link in adoption_int_links.values():\n",
    "    get_txt('adoption_internal.txt', link)"
   ]
  },
  {
   "attachments": {},
   "cell_type": "markdown",
   "metadata": {},
   "source": [
    "For Protection for vulnerable adults"
   ]
  },
  {
   "cell_type": "code",
   "execution_count": 93,
   "metadata": {},
   "outputs": [],
   "source": [
    "protection_vulnerable_int_links =  dict(itertools.islice(tdesc_dict.items(), len(tdesc_dict)-2, None))\n",
    "for link in protection_vulnerable_int_links.values():\n",
    "    get_txt('protection_vulnerable_internal.txt', link)"
   ]
  },
  {
   "attachments": {},
   "cell_type": "markdown",
   "metadata": {},
   "source": [
    "For Care and protection for children and young persons"
   ]
  },
  {
   "cell_type": "code",
   "execution_count": 94,
   "metadata": {},
   "outputs": [],
   "source": [
    "for link in nav_link_list[:2]:\n",
    "    get_txt('care_protection_children_internal.txt', link)"
   ]
  },
  {
   "attachments": {},
   "cell_type": "markdown",
   "metadata": {},
   "source": [
    "Guardianship"
   ]
  },
  {
   "cell_type": "code",
   "execution_count": 95,
   "metadata": {},
   "outputs": [],
   "source": [
    "for link in nav_link_list[2:]:\n",
    "    get_txt('guardianship_internal.txt', link)"
   ]
  },
  {
   "attachments": {},
   "cell_type": "markdown",
   "metadata": {},
   "source": [
    "Divorce, Deputyship, Family justice courts appeals, Family guidance for children and young persons, International child abduction, Probate and administration, Protection against family violence, Maintenance, Mediation and counselling in the family justice courts"
   ]
  },
  {
   "cell_type": "code",
   "execution_count": 133,
   "metadata": {},
   "outputs": [],
   "source": [
    "# iterate through the dictionary and get the key and value\n",
    "for key, list_of_links in row_dict.items():\n",
    "    key = key.replace(\" \", \"_\").lower()\n",
    "    for link in list_of_links:\n",
    "        get_txt(key + '_internal.txt', link)"
   ]
  },
  {
   "attachments": {},
   "cell_type": "markdown",
   "metadata": {},
   "source": [
    "Civil Law"
   ]
  },
  {
   "cell_type": "code",
   "execution_count": 2,
   "metadata": {},
   "outputs": [
    {
     "data": {
      "text/plain": [
       "{'Admiralty proceedings (from 1 April 2022)': ['Admiralty disputes involve ships or maritime activities. The High Court (General Division) can hear certain claims against ships, shipowners or ship charterers.',\n",
       "  '/civil/admiralty-proceedings-(from-1-april-2022)'],\n",
       " 'Appeals under the Protection from Online Falsehoods and Manipulation Act (POFMA) (from 1 April 2022)': ['Find out how to appeal to the High Court (General Division) against a direction or declaration under the Protection from Online Falsehoods and Manipulation Act.',\n",
       "  '/civil/appeals-under-the-protection-from-online-falsehoods-and-manipulation-act-(pofma)-(from-1-april-2022)'],\n",
       " 'Bankruptcy': ['Any individual or firm that is unable to repay any debt of at least $15,000 may be declared a bankrupt by the High Court (General Division). ',\n",
       "  '/civil/bankruptcy'],\n",
       " 'Bills of sale: registration and renewal (from 1 April 2022)': ['A bill of sale is a legal document that records the transfer of ownership of an asset. Register or renew bills of sale in the High Court (General Division). ',\n",
       "  '/civil/bills-of-sale-(from-1-april-2022)'],\n",
       " 'Civil claims (from 1 April 2022)': ['The civil courts hear various types of disputes between parties. The process may differ based on the claim type and value.',\n",
       "  '/civil/civil-claims-(from-1-april-2022)'],\n",
       " 'Community and neighbour disputes': ['\\u200bThe Community Disputes Resolution Tribunals hear disputes between neighbours involving unreasonable interferences of enjoyment or use of places of residence.',\n",
       "  '/civil/community-neighbour-dispute-claims'],\n",
       " 'Company winding up': ['A company may be wound up voluntarily or by an order of court (compulsory winding up). Compulsory winding up is a process in which a party applies for a court order to wind up a company. The High Court (General Division) hears such applications.',\n",
       "  '/civil/company-winding-up'],\n",
       " 'Employment claims': ['The Employment Claims Tribunals hear salary-related and wrongful dismissal disputes between employers and employees.',\n",
       "  '/civil/employment-claims'],\n",
       " 'Mortgage actions': ['Find out what mortgage actions are and what you should do if a party starts a mortgage action against you.',\n",
       "  '/civil/mortgage-actions'],\n",
       " 'Powers of attorney': ['Powers of attorney related to property matters may be deposited in the High Court (General Division). Deposited documents are available for public inspection.',\n",
       "  '/civil/powers-of-attorney'],\n",
       " 'Protection from harassment': ['The Protection from Harassment Court hears matters related to harassment, stalking, cyberbullying and other acts causing alarm or distress.',\n",
       "  '/civil/protection-from-harassment'],\n",
       " 'Small claims': ['The Small Claims Tribunals hear claims up to $30,000. Common types of disputes involve goods, services, or residential tenancy agreements not exceeding 2 years.',\n",
       "  '/civil/small-claims'],\n",
       " 'Rules of Court 2021': ['Find out about the new Rules of Court 2021 (ROC 2021). ',\n",
       "  '/civil/new-rules-of-court-2021']}"
      ]
     },
     "execution_count": 2,
     "metadata": {},
     "output_type": "execute_result"
    }
   ],
   "source": [
    "website = 'https://www.judiciary.gov.sg/civil'\n",
    "user_agent = {'User-agent' : 'Mozilla/5.0'}\n",
    "page = requests.get(website, headers=user_agent)\n",
    "soup = BeautifulSoup(page.text, 'lxml')\n",
    "fact_cards = soup.find_all('a', {'class': 'nav-link'})\n",
    "tj_dict = {}\n",
    "all_types = []\n",
    "\n",
    "for fact_card in fact_cards[8:]:\n",
    "    tj_type = fact_card.get_text().split('\\n')[1]\n",
    "    tj_desc = fact_card.get_text().split('\\n')[2]\n",
    "    tj_link = fact_card['href']\n",
    "    tj_dict[tj_type] = [tj_desc, tj_link]\n",
    "    all_types.append(tj_type)\n",
    "\n",
    "tj_dict"
   ]
  },
  {
   "cell_type": "code",
   "execution_count": 8,
   "metadata": {},
   "outputs": [
    {
     "name": "stdout",
     "output_type": "stream",
     "text": [
      "Admiralty proceedings (from 1 April 2022)\n",
      " A Singapore Government Agency Website   \n",
      " Who we areNews and resourcesLegal professionalsForms and feesLegal help and supportContact us \n",
      "  NoteThis page is for matters that the Rules of Court 2021 apply to. For content relating to matters that the Rules of Court 2014 apply, click here. If you are uncertain as to which version of the Rules of Court applies to your matter, click here.  \n",
      " What are admiralty proceedingsIn Singapore, admiralty law deals with certain claims against ships, shipowners or ship charterers that fall under the admiralty jurisdiction of the General Division of the High Court.Refer to Section 3 of the High Court (Admiralty Jurisdiction) Act for more information. Some examples of admiralty cases that the General Division of the High Court can hear include: Claims to the possession or ownership of a ship.Claims for damage done by a ship.Claims for damage received by a ship.Claims for loss of or damage to goods carried in a ship.Claims in respect of a mortgage or charge on a ship.Claims arising out of any agreement relating to the carriage of goods in a ship.Claims in respect of goods or materials supplied to a ship for her operation or maintenance.Claims by a master or crew member for wages. Admiralty proceedings can be against one or both of the following types of parties:A ship: This is known as an action in rem.A person or company who owns or has demise chartered the ship in question: This is known as an action in personam. Who is involvedIf you file the claim, you are the claimant.If you are the party against whom the claim is filed, you are the defendant. A ship can be a defendant in admiralty proceedings. Note Most parties in admiralty proceedings are represented by a lawyer. You must be represented by a lawyer if you are representing a company.  If your case includes arresting a ship, it will also involve: The Sheriff: The person who may be ordered to arrest a ship and keep it in custody as security for the claimant’s claim. Find out more about the arrest of ships.Bailiffs: Officers from the Sheriff's Office who carry out enforcement orders and court orders.Start an admiralty action: file and serve an Originating ClaimAs the claimant, you need to file an Originating Claim via eLitigation and serve it on the defendant to start a claim. The form you should use depends on whether your claim is against a person (in personam) or a ship or vessel (in rem):  If you are filing against...Form to useA person (in personam) Originating Claim (Form 8 in Appendix A of the Supreme Court Practice Directions 2021)A ship or vessel (in rem)Originating Claim in Action in rem (Form 48 in Appendix A of the Supreme Court Practice Directions 2021)    Note: Although an in rem Originating Claim may be issued when the ship is out of jurisdiction (outside Singapore), the in rem Originating Claim can only be served on the ship when the ship is within Singapore port limits.The in rem Originating Claim will be valid for 12 months. To renew an in rem Originating Claim, you may file a summons.After the Originating Claim: pre-trial conferenceThe court will arrange for you and the other party to attend a case conference (CC). This will usually be within 8 weeks after the Originating Claim is issued.At the CC, a registrar will usually seek an update on the status of an action. The registrar will then give the parties directions to progress with the action in a quick and fair way. For example, the registrar may direct parties to file interlocutory    applications within a certain timeline.If you wish to arrest a shipIf you are applying to arrest a ship, you will need to file additional documents and apply for a warrant of arrest. You will be known as the arresting party and will need to appoint the following: Lawyers to assist in carrying out the arrest of the ship. (Unless there is a waiver by the Sheriff or the court) A security agency from the Sheriff's panel to deploy a security guard on board the ship when the ship is arrested.Note: Refer to the Admiralty court guide for the detailed requirements and process. After the ship has been arrested, the court may order the Sheriff to sell the ship. Find out more about the arrest and sale of ships. Estimated feesRefer to the Fourth Schedule to the Rules of Court 2021 for the fees related to admiralty proceedings. \n",
      "        Need help? The information here is for general guidance as the courts do not provide legal advice. If you need further help, you may want to get independent legal advice.  Find out more      \n",
      " Resources Guides Refer to the Admiralty court guide.  Relevant legislation Legislation associated with this topic includes:The High Court (Admiralty Jurisdiction) Act.Order 33 of the Rules of Court 2021.Merchant Shipping Act.Carriage of Goods by Sea Act.Bills of Lading Act.  Practice directions Refer to Part 17 of the Supreme Court Practice Directions 2021.   Related questions  How can I serve an Originating Claim on the other party if I do not have a lawyer? If you are not represented by a lawyer, you may:(For an in rem Originating Claim) Apply for the Sheriff to serve the Originating Claim on the ship. To apply, file a request according to appropriate form in the Supreme Court Practice Directions 2021 through eLitigation. (For an in personam Originating Claim) Apply for service by a court process server. Refer to Paragraph 62 of the Supreme Court Practice Directions 2021 for more information.   \n",
      "  NoteThis page is for matters that the Rules of Court 2021 apply to. For content relating to matters that the Rules of Court 2014 apply, click here. If you are uncertain as to which version of the Rules of Court applies to your matter, click here.  \n",
      " Singapore Courts \n",
      " Self-help guidesCriminalCivilFamily \n",
      " Information and servicesHearing listAttending courtAlternatives to trialJudgmentsServicesPractice DirectionsRegistrar's CircularsNews and resourcesLegal professionalsForms and feesUseful links \n",
      " About Singapore CourtsWho we areJoin usContact usVisit usSingapore Judicial CollegeSingapore International Commercial Court \n",
      "  \n",
      " Report vulnerabilityPrivacy StatementTerms of UseSitemapReach.gov.sgSupported browsers \n",
      "-------------------------------------------------------\n",
      "Appeals under the Protection from Online Falsehoods and Manipulation Act (POFMA) (from 1 April 2022)\n",
      " A Singapore Government Agency Website   \n",
      " Who we areNews and resourcesLegal professionalsForms and feesLegal help and supportContact us \n",
      "  NoteThis page is for matters that the Rules of Court 2021 apply to. For content relating to matters that the Rules of Court 2014 apply, click here. If you are uncertain as to which version of the Rules of Court applies to your matter, click here. \n",
      " What is the Protection from Online Falsehoods and Manipulation ActUnder the Protection from Online Falsehoods and Manipulation Act (POFMA), the POFMA Office can issue directions or declarations to counter online falsehoods. Find out more on the POFMA Office's website. Examples of directions or declarations that may be issued include:Correction directions: to provide a notice that the statement is false or a notice that refers to a statement of fact, or both (1). Stop communication directions: to stop communicating the false statement (2). Directions to internet intermediaries (such as Google, Facebook or Twitter) and providers of mass media services: to correct or disable access to a false statement (3).Directions to internet intermediaries: to shut down any fake accounts and bots on its platforms (4). Declaration of online locations (5). Refer to the POFMA for more information.When to appeal to the courtIf you received a POFMA direction or declaration, you can appeal to the High Court only after both of the following have occurred:You have applied to the relevant Minister to vary or cancel the POFMA direction or declaration. The Minister has refused your application to vary or cancel the direction or declaration, in whole or in part.You must file the appeal within 14 days after the Minister's decision to refuse your application.If you file the appeal, you are the appellant. Note Companies, limited liability partnerships (LLPs) or unincorporated associations must be represented by a lawyer in the appeal. Estimated feesYou must pay both court fees and hearing fees to appeal.Court fees For individualsThe court filing fees include:Item or serviceFeeFile the Originating Application$200File an affidavit (including exhibits)(Up to 10 pages) $10(More than 10 pages) $1 per pageNote: This table does not include additional fees payable to the LawNet & CrimsonLogic Service Bureau.  For companies, partnerships or associationsRefer to the relevant court fees in the Fourth Schedule to the Rules of Court 2021.   Hearing feesThe hearing fees vary depending on how long the case takes: Days 1 to 3No feesDay 4$6,000 Day 5$2,000Day 6-10$3,000 per daySubsequent days $5,000 per day Note: If you are unable to pay the fees, you may request a waiver or refund of the fees. This can be done at the appeal hearing, or by submitting a written request no later than 1 month after the appeal. The court will decide whether to waive or refund all or part of the fees.How to file an appealFollow these steps to file an appeal in the General Division of the High Court: 1. File the Originating Application and supporting affidavitFile the following documents via eLitigation:An Originating Application (OA) according to Form 1 of the POFMA Rules.A supporting affidavit according to Form 2 of the POFMA Rules. You may choose to file personally or through a lawyer. If you are not represented by a lawyer, you need to file in person at the LawNet & CrimsonLogic Service Bureau.If you are represented by a lawyer, the documents will be filed by your lawyer. Refer to this Step-by-step guide to filing a POFMA appeal for filing online through eLitigation.  2. Attend before the duty registrarWhen: either on the day of filing or the next working day, depending on what time you filedAfter you file your OA and supporting affidavit, go to the Supreme Court Legal Registry (located at Level 2 of the Supreme Court) to request a hearing date for the appeal. You will need to attend before the duty registrar. At the Legal Registry, take a queue number to see the duty registrar.When you do so depends on what time you filed your OA:If you filed...Attend...Within office hours of the Legal RegistryOn the day itselfAfter office hours of the Legal RegistryOn the next working dayThe court will set the hearing date of the appeal on the 6th working day after one of the following dates, whichever is later:After you attend before the duty registrar.The date the OA and supporting affidavit are accepted by the registry. Example If you attend before the duty registrar on 2 January, and your OA and supporting affidavit is accepted on 3 January, then your hearing will be 6 working days from 3 January.Note: If you do not attend before the duty registrar within the timeline, the registrar may schedule a pre-trial conference or a hearing date as the registrar deems fit. The hearing date of the appeal will be at least 6 working days after the OA and supporting affidavit are accepted by the registry. If you are unable to attend court on the scheduled date, you may request to change the court date, subject to the court's approval.If you filed via the LawNet & CrimsonLogic Service Bureau, the Service Bureau will inform you to return there to collect the accepted copies of the OA and supporting affidavit after the court has scheduled the hearing date.  3. Serve your OA and supporting affidavit on the Attorney-GeneralWhen: by noon of the next working day after your documents are accepted by the registryYou can serve the OA and supporting affidavit on the Attorney-General in any of these ways:ElectronicallyEmail the documents to AGC_POFMA@agc.gov.sg or serve via eLitigation.If you are serving through eLitigation, indicate so when you file at the LawNet & CrimsonLogic Service Bureau.In person Leave a copy of the documents in an envelope marked \"POFMA Appeal\" at the reception counter of the Attorney-General’s Chambers.   4. File the affidavit of serviceYou must file an affidavit of service or a registrar’s certificate of service via eLitigation within 2 working days after the date of service on the Attorney-General.   After you file the appealThe Minister may file and serve an affidavit in response to yours within 3 working days after the date of service on the Attorney-General. After this, no more affidavits can be filed or served without the approval of the court.The court can still proceed with the appeal even if you do not appear at the hearing.If the appeal is successful, the court will set aside the POFMA direction or declaration. You no longer need to comply with it. If the appeal is unsuccessful, the court will confirm the POFMA direction or declaration. You must comply with it or you may be charged for non-compliance. \n",
      "        Need help? The information here is for general guidance as the courts do not provide legal advice. If you need further help, you may want to get independent legal advice.  Find out more      \n",
      " Resources  Relevant legislationLegislation associated with this topic includes: The Protection from Online Falsehoods and Manipulation Act.The Protection from Online Falsehoods and Manipulation Regulations.The Supreme Court of Judicature (Protection from Online Falsehoods and Manipulation) Rules.Order 4, Rule 3 of the Rules of Court 2021.Fourth Schedule to the Rules of Court 2021.  Practice directionsRefer to Paragraph 11 of the Supreme Court Practice Direction 2021.   Footnotes(1) Section 11 of the POFMA (2) Section 12 of the POFMA (3) Part 4 of the POFMA (4) Part 6 of the POFMA (5) Part 5 of the POFMA  \n",
      "  NoteThis page is for matters that the Rules of Court 2021 apply to. For content relating to matters that the Rules of Court 2014 apply, click here. If you are uncertain as to which version of the Rules of Court applies to your matter, click here. \n",
      " Singapore Courts \n",
      " Self-help guidesCriminalCivilFamily \n",
      " Information and servicesHearing listAttending courtAlternatives to trialJudgmentsServicesPractice DirectionsRegistrar's CircularsNews and resourcesLegal professionalsForms and feesUseful links \n",
      " About Singapore CourtsWho we areJoin usContact usVisit usSingapore Judicial CollegeSingapore International Commercial Court \n",
      "  \n",
      " Report vulnerabilityPrivacy StatementTerms of UseSitemapReach.gov.sgSupported browsers \n",
      "-------------------------------------------------------\n",
      "Bankruptcy\n",
      " A Singapore Government Agency Website   \n",
      " Who we areNews and resourcesLegal professionalsForms and feesLegal help and supportContact us \n",
      " What is bankruptcyIn Singapore, bankruptcy is a legal process involving an individual or firm that is unable to repay any outstanding debt of at least $15,000.The General Division of the High Court is the only court that hears bankruptcy applications. Once an individual or firm is declared a bankrupt, their property will be vested in a court-appointed trustee, who will manage the bankrupt's financial affairs. You can file a bankruptcy application for yourself (for the court to declare yourself a bankrupt), or against another party who owes you money.Who is involved in a bankruptcy case Debtor and creditorA debtor is a party who owes a sum of money to another party, called the creditor. Note Either the debtor or the creditor can file a bankruptcy application. In both cases, the court will make a bankruptcy order against the debtor if the application succeeds.  Trustee: Official Assignee or private trusteeThe Official Assignee is a public servant who may be appointed by the court as the trustee of a bankruptcy estate. This involves managing the bankrupt's financial affairs, which may include selling the bankrupt's assets and distributing the proceeds to the bankrupt's creditors to assist with the settlement of the bankrupt's debt. The Official Assignee is assisted by the officers at the Ministry of Law's Insolvency Office. Find out more about the Official Assignee.Alternatively, the court may appoint a private trustee to manage a bankrupt's financial affairs in either of these scenarios:If the creditor is an institutional creditor. This includes banks, finance companies regulated by the Monetary Authority of Singapore, or companies with an annual sales turnover of more than $100 million and more than 200 employees.If the creditor who filed the application requests for a private trustee.The private trustee has the same duties as the Official Assignee.   \n",
      " Singapore Courts \n",
      " Self-help guidesCriminalCivilFamily \n",
      " Information and servicesHearing listAttending courtAlternatives to trialJudgmentsServicesPractice DirectionsRegistrar's CircularsNews and resourcesLegal professionalsForms and feesUseful links \n",
      " About Singapore CourtsWho we areJoin usContact usVisit usSingapore Judicial CollegeSingapore International Commercial Court \n",
      "  \n",
      " Report vulnerabilityPrivacy StatementTerms of UseSitemapReach.gov.sgSupported browsers \n",
      "-------------------------------------------------------\n",
      "Bills of sale: registration and renewal (from 1 April 2022)\n",
      " A Singapore Government Agency Website   \n",
      " Who we areNews and resourcesLegal professionalsForms and feesLegal help and supportContact us \n",
      "  NoteThis page is for matters that the Rules of Court 2021 apply to. For content relating to matters that the Rules of Court 2014 apply, click here. If you are uncertain as to which version of the Rules of Court applies to your matter, click here.  \n",
      " What is a bill of saleA bill of sale is a legal document that records the transfer of ownership of an asset from the owner to another party, usually in exchange for money. This could be in a case of a sale or a loan.It aims to protect both parties by proving that the sale or loan took place, and that the payment and ownership of the asset changed hands.It may apply to situations where the asset has not been transferred between the parties. For example, a bill of sale can record: A sale of personal property such as furniture, before the property is physically delivered from the seller to the buyer.A loan that involves the borrower transferring their rights to an asset to the lender. The asset can still be in the possession of the borrower.A sale of a motor vehicle through a financing arrangement. While the buyer may have the vehicle, the rights to the vehicle will only be transferred to the buyer after the buyer completes the payment. You may do any of the following in the General Division of the High Court:Register a bill of sale. Renew the registration of a bill of sale. Assets that can be covered in a bill of saleA bill of sale may cover any of the following personal assets (legally known as chattels):Goods, furniture and other moveable articles that can be transferred from one party to another by delivery.Trade machinery (as defined in the Bills of Sale Act).Fixtures and growing crops (as referred to in the Bills of Sale Act).Who is involvedIf you are the party who issues a bill of sale, you are the grantor of the bill of sale. The other party is the grantee.If the case involves a loanThe bill of sale is usually issued by the borrower (the grantor). The lender will be the grantee. The borrower will transfer the borrower's rights to the asset mentioned in the bill of sale to the lender. The borrower may still possess the asset while paying the loan. After repaying the loan, the borrower may regain the rights to the asset.If the case involves a saleThe bill of sale is usually issued by the seller (the grantor). The buyer will be the grantee. The bill of sale is proof that the seller has transferred the rights to the asset mentioned in the bill of sale to the buyer.  Types of bills of sale Refer to this table for examples of the types of bills of sale:  A bill of sale can be...A bill of sale cannot be...An inventory of goods with receipts attached, or receipts for purchase moneys of goods.An assurance of personal chattels.A power of attorney, authority or licence to take possession of personal chattels as security for any debt.An assignment for the benefit of the creditors of the assignor. A prenuptial marriage settlement (that occurs before marriage).A transfer or assignment of any ship or vessel or any share of the ship or vessel.A transfer of goods in the ordinary course of business of any trade or calling.For goods that are at sea or not in Singapore.Bills of lading, warehouse-keeper’s certificates, warrants or orders for the delivery of goods.    Register a bill of sale Tip This is the process to register a bill of sale for the first time. If you have already registered a bill of sale and wish to renew it, refer to Renew a bill of sale.  A bill of sale needs to be attested and registered within 3 days after the bill has been executed or it may be unenforceable against certain parties. The court will keep a record of the bill after you successfully register it.Estimated feesRefer to the Bills of Sale (Fees) Rules for a list of fees related to preparing or filing a bill of sale.How to registerYou will need to follow these steps: 1. Prepare the relevant forms Prepare the following documents: A Form of Bill of Sale (from the First Schedule of the Bills of Sale Act).A schedule containing an inventory of the personal chattels comprised in the bill of sale. This is to be annexed to the bill of sale or written on the bill of sale.  2. Attest the bill of sale Attesting means getting a third party to witness that you have signed the bill of sale. The third party who attests the bill of sale should be one of the following: An advocate and solicitor of the Supreme Court of Singapore who is not acting for the grantee.A magistrate or the registrar or the deputy registrar of the Supreme Court.A Commissioner for Oaths.The registrar or deputy registrar of bills of sale.  3. Register the bill of sale File all of the following documents to the court through eLitigation: A copy of the Bill of Sale. This should include an inventory of the personal chattels comprised in the bill of sale.A statutory declaration. This should be in the Declaration on Registration of Bill of Sale form (from the Second Schedule of the Bills of Sale Act).It should include details of: When the bill of sale was executed by the grantor and when it was attested.The name, residence and occupation of all the parties involved, including the grantor, grantee and every witness who attested to the bill. Find out more about how to prepare statutory declarations.You may choose to file personally or through a lawyer. If you are represented by a lawyer, the documents will be filed by your lawyer. If you are not represented by a lawyer, visit the LawNet & CrimsonLogic Service Bureau to file in person.   Renew a bill of saleThe registration of a bill of sale must be renewed once every 12 months.To renew a registration, you should file a statutory declaration. This should be in the Declaration on Registration of Bill of Sale form (from the Second Schedule of the Bills of Sale Act). Find out more about how to prepare statutory declarations.Other applications related to bills of saleYou may apply to inspect, transfer or rectify certain errors in the registration of a bill of sale. If you are the grantor of a bill of sale for a loan, you may apply for an entry of satisfaction after paying off the amount in the bill of sale. Refer to the Bills of Sale Act or contact the Supreme Court Legal Registry for more information. \n",
      "        Need help? The information here is for general guidance as the courts do not provide legal advice. If you need further help, you may want to get independent legal advice.  Find out more      \n",
      " Resources Relevant legislationLegislation associated with this topic includes:The Bills of Sale Act.The Bills of Sale (Fees) Rules. Order 35 of the Rules of Court 2021.   \n",
      "  NoteThis page is for matters that the Rules of Court 2021 apply to. For content relating to matters that the Rules of Court 2014 apply, click here.  If you are uncertain as to which version of the Rules of Court applies to your matter, click here.  \n",
      " Singapore Courts \n",
      " Self-help guidesCriminalCivilFamily \n",
      " Information and servicesHearing listAttending courtAlternatives to trialJudgmentsServicesPractice DirectionsRegistrar's CircularsNews and resourcesLegal professionalsForms and feesUseful links \n",
      " About Singapore CourtsWho we areJoin usContact usVisit usSingapore Judicial CollegeSingapore International Commercial Court \n",
      "  \n",
      " Report vulnerabilityPrivacy StatementTerms of UseSitemapReach.gov.sgSupported browsers \n",
      "-------------------------------------------------------\n",
      "Civil claims (from 1 April 2022)\n",
      " A Singapore Government Agency Website   \n",
      " Who we areNews and resourcesLegal professionalsForms and feesLegal help and supportContact us \n",
      "  NoteThis page is for matters that the Rules of Court 2021 apply to. For content relating to matters that the Rules of Court 2014 apply, click here.  If you are uncertain as to which version of the Rules of Court applies to your matter, click here.   \n",
      " Singapore Courts \n",
      " Self-help guidesCriminalCivilFamily \n",
      " Information and servicesHearing listAttending courtAlternatives to trialJudgmentsServicesPractice DirectionsRegistrar's CircularsNews and resourcesLegal professionalsForms and feesUseful links \n",
      " About Singapore CourtsWho we areJoin usContact usVisit usSingapore Judicial CollegeSingapore International Commercial Court \n",
      "  \n",
      " Report vulnerabilityPrivacy StatementTerms of UseSitemapReach.gov.sgSupported browsers \n",
      "-------------------------------------------------------\n",
      "Community and neighbour disputes\n",
      " A Singapore Government Agency Website   \n",
      " Who we areNews and resourcesLegal professionalsForms and feesLegal help and supportContact us \n",
      "  \n",
      " Singapore Courts \n",
      " Self-help guidesCriminalCivilFamily \n",
      " Information and servicesHearing listAttending courtAlternatives to trialJudgmentsServicesPractice DirectionsRegistrar's CircularsNews and resourcesLegal professionalsForms and feesUseful links \n",
      " About Singapore CourtsWho we areJoin usContact usVisit usSingapore Judicial CollegeSingapore International Commercial Court \n",
      "  \n",
      " Report vulnerabilityPrivacy StatementTerms of UseSitemapReach.gov.sgSupported browsers \n",
      "-------------------------------------------------------\n",
      "Company winding up\n",
      " A Singapore Government Agency Website   \n",
      " Who we areNews and resourcesLegal professionalsForms and feesLegal help and supportContact us \n",
      " What is winding up Winding up (or liquidation) is the process by which a company’s assets are collected and sold to pay off its debts. Any monies remaining after all debts, expenses and costs have been paid off are distributed amongst the company's shareholders. The company will be dissolved and will no longer exist after winding up.Types of winding upA company can be wound up in one of these ways:Compulsory winding upThe court makes an order to wind up a company after a party applies to the court.The High Court (General Division) hears compulsory winding up applications.Voluntary winding upThe company's shareholders or creditors pass a resolution to wind up the company. This does not involve the courts.  Note The following information only applies to compulsory winding up.Compulsory winding upThe court may wind up a company in any of the circumstances defined in Section 125 of the Insolvency, Restructuring    and Dissolution Act (IRDA).Common situations include:The company is unable to pay its debts. This is deemed to be the case if any of the following applies:        The company owes its creditor more than $15,000. Even after the creditor has served a written demand on the company to pay the debt, the company fails to pay or to secure or compound the debt after three weeks of the service of the demand.The creditor tries to execute or enforce a judgment against the company but is unable to recover the debt, in whole or in part. A party proves to the court's satisfaction that the company is unable to pay its debts. The court must take into account the contingent and prospective liabilities of the company. The court deems that it is just and equitable to wind up the company. Some examples include but are not limited to:        When the company cannot achieve its main objects (purpose for setting up the company). When there is deadlock in the management of the company. Who can apply for compulsory winding upAny of the following parties may apply to the court to wind up a company compulsorily: The company itself.Any director of the company.A creditor of the company.A contributory (as defined in Section 4 of the Companies Act).A liquidator of the company.A judicial manager of the company.(If the company is in the banking business) The Monetary Authority of Singapore.A Minister, on grounds specified under the law (1).Note: In general, a company involved in a compulsory winding up application must be represented by a lawyer, unless it has obtained the court's leave (permission) for an officer to represent the company.Who is involvedIf you file a winding up application, you are the applicant. If the application is filed by the company to be wound up, the company will be the applicant. If the application is not filed by the company to be wound up, the company will be the defendant.About liquidatorsA liquidator will recover and sell the assets of the wound up company and distribute the net proceeds to the company's creditors. A liquidator may be one of the following parties: The Official Receiver, who is a public officer appointed by the court to act as the liquidator of companies  undergoing compulsory winding up. A licensed insolvency practitioner.The roles of a liquidator include:Investigating into the affairs and assets of the company, the conduct of its officers and the claims of creditors and third parties.Recovering and realising the company’s assets in the most advantageous manner to the company.Adjudicating the claims of the creditors to ensure an equitable distribution of the company’s assets in accordance with the IRDA.Find out more about the liquidator on the Ministry of Law Insolvency Office's website.Estimated feesRefer to the Second Schedule of the Insolvency, Restructuring and Dissolution (Corporate Insolvency and Restructuring) Rules for the full list of fees. Some examples of the fees for a compulsory winding up application include (but are not limited to):Item or serviceFeeDeposit to the Official Receiver$10,400File a winding up application$75File an affidavit (Up to 10 pages) $10(More than 10 pages) $1 per pageNote: This table does not include additional fees payable to the LawNet & CrimsonLogic Service Bureau, such as transmission and processing fees for applications filed through the LawNet & CrimsonLogic Service Bureau and its handling fees.How to fileFollow these steps to apply for compulsory winding up: 1. Place a deposit with the Official ReceiverYou need to pay a $10,400 deposit to the Official Receiver. Email FINANCE@mlaw.gov.sg to request the bank account details and deposit form. You can pay via bank transfer or PayNow. Refer to the Official Receiver's practice circulars for more information. After you pay, the Official Receiver will issue a receipt that you will need to submit to the court as part of your winding up application.   2. File the documents via eLitigationFile the following documents via eLitigation:An Originating Application according to either Form CIR-11 or Form CIR-12 of the Insolvency, Restructuring and Dissolution (Corporate Insolvency and Restructuring) Rules.        If you are the company that is being wound up: Form CIR-11.If you are any party other than the company: Form CIR-12.Include the receipt from the Official Receiver as an attachment to the Originating Application.A supporting affidavit.You may choose to file personally or through a lawyer. If you are represented by a lawyer, the documents will be filed by your lawyer. If you are not represented by a lawyer, visit the LawNet & CrimsonLogic Service Bureau to file in person. When filing your application, you may nominate a licensed insolvency practitioner to be appointed as the liquidator (2).   3. Serve the application and file an affidavitof service If the company is the defendant Where the company is named as the defendant in the application, serve the winding up application on the company at least 7 days before the hearing of your application.You should also serve the application on the Official Receiver and the nominated licensed insolvency practitioner (if any).After serving, you must file an Affidavit of Service according to either Form CIR-13 or CIR-14 of the Insolvency, Restructuring and Dissolution (Corporate Insolvency and Restructuring) Rules at least 5 days before the hearing of the application.If the application is filed by the company to be wound upWhere the winding up application is filed by the company, serve the application on the Official Receiver and the nominated licensed insolvency practitioner (if any).After serving, you must file an Affidavit of Service according to Form CIR-14 of the Insolvency, Restructuring and Dissolution (Corporate Insolvency and Restructuring)    Rules at least 5 days before the hearing of the application.  4. Advertise the winding up applicationAt least 7 days before the hearing of your application, you need to do both of the following: Place an advertisement of the notice of the winding up application in an English local daily newspaper or in any other newspaper as directed by the court.Place a notice in the Government Gazette (3).   After you file The court will usually schedule the hearing of the winding up application within 4 weeks from the date of filing. If you filed through the LawNet & CrimsonLogic Service Bureau, the Service Bureau will inform you to collect a copy of the application    documents with the hearing date and time after the court accepts your application documents.At your hearing Winding up hearings are usually conducted in open court before a Judge of the High Court (General Division) every Friday. At the hearing, the court will hear from parties before making a decision.Possible outcomesAfter hearing from the parties, the judge may make the following decisions:Make a winding up order.Dismiss the winding up application. Adjourn the hearing. When the court issues a winding up orderAfter the winding up order is made:No action may be started or continued against the company without the court's leave (permission).Any disposition of the company’s property and any transfer of its shares shall be void unless the court orders otherwise. Refer to the Ministry of Law Insolvency Office's website for more information on how the liquidator will realise and distribute    the company's assets.  \n",
      "        Need help? The information here is for general guidance as the courts do not provide legal advice. If you need further help, you may want to get independent legal advice.  Find out more      \n",
      " Resources Relevant legislationLegislation associated with this topic includes:Insolvency, Restructuring and Dissolution Act (IRDA).Insolvency, Restructuring and Dissolution (Corporate Insolvency and Restructuring) Rules.  Practice directionsRefer to Part 19 of the Supreme Court Practice Directions 2021.  Related questions If I applied for a winding up order and the court made the order. Can I be reimbursed for the application costs?The payment of the costs of an applicant for the winding up order ranks after the payment of the costs and expenses of winding up (including the remuneration of the liquidator). Therefore, an applicant may not be reimbursed the application costs if there    are not enough funds.  How can I attend the hearing of a winding up application that I did not file, if I wish to support or oppose the application in court? You must serve a Notice of Intention to Appear (Form CIR-15 of the Insolvency, Restructuring and Dissolution (Corporate Insolvency and Restructuring) Rules) on the    applicant. Refer to Rule 70 of the Insolvency, Restructuring and Dissolution (Corporate Insolvency and Restructuring) Rules for    more information.   How can I oppose a winding up application?You must file an affidavit in opposition via eLitigation, and serve a copy of the affidavit on the applicant at least 5 days before the hearing of the winding up application. Refer to Rule 72 of the Insolvency, Restructuring and Dissolution (Corporate Insolvency and Restructuring) Rules.   Footnotes(1) Section 124 of the Insolvency, Restructuring and Dissolution Act (2) Section 135 of the Insolvency, Restructuring and Dissolution Act (3)Rule 66 of the Insolvency, Restructuring and Dissolution (Corporate Insolvency and Restructuring)  \n",
      " Singapore Courts \n",
      " Self-help guidesCriminalCivilFamily \n",
      " Information and servicesHearing listAttending courtAlternatives to trialJudgmentsServicesPractice DirectionsRegistrar's CircularsNews and resourcesLegal professionalsForms and feesUseful links \n",
      " About Singapore CourtsWho we areJoin usContact usVisit usSingapore Judicial CollegeSingapore International Commercial Court \n",
      "  \n",
      " Report vulnerabilityPrivacy StatementTerms of UseSitemapReach.gov.sgSupported browsers \n",
      "-------------------------------------------------------\n",
      "Employment claims\n",
      " A Singapore Government Agency Website   \n",
      " Who we areNews and resourcesLegal professionalsForms and feesLegal help and supportContact us \n",
      "  \n",
      " Singapore Courts \n",
      " Self-help guidesCriminalCivilFamily \n",
      " Information and servicesHearing listAttending courtAlternatives to trialJudgmentsServicesPractice DirectionsRegistrar's CircularsNews and resourcesLegal professionalsForms and feesUseful links \n",
      " About Singapore CourtsWho we areJoin usContact usVisit usSingapore Judicial CollegeSingapore International Commercial Court \n",
      "  \n",
      " Report vulnerabilityPrivacy StatementTerms of UseSitemapReach.gov.sgSupported browsers \n",
      "-------------------------------------------------------\n",
      "Mortgage actions\n",
      " A Singapore Government Agency Website   \n",
      " Who we areNews and resourcesLegal professionalsForms and feesLegal help and supportContact us \n",
      " What are mortgage actionsA party who pledges a property as security for a loan is the mortgagor, while the party who provides the loan is the mortgagee. If the mortgagor fails to repay the mortgagee the sum of money owed, the mortgagee may start mortgage actions against the mortgagor. A mortgage action Originating Application (OA) is an application for one or more reliefs and is usually made by a mortgagee bank. Mortgage actions may contain claims for any of the following reliefs:Foreclosure.Redemption.Sale of the mortgaged property.Delivery of possession by the mortgagee.Payment of money secured by the mortgage.Reconveyance of the property or its release from the security.Delivery of possession (whether before or after a foreclosure or without foreclosure) to the mortgagee by the mortgagor or by any other person who is or is alleged to be in possession of the property.Receiving a mortgage action Originating ApplicationIf you receive a mortgage action OA, it usually means:The bank has asked the court to order that you surrender the mortgaged property and pay the outstanding sum of money owed to the bank. You may also be asked to pay the legal costs incurred by the bank in making the OA application. You should read the documents carefully. Check that the amount of arrears (the instalments which you did not pay) and the total loan amount (including late payment interest) are correct.You will also have to attend court for a hearing at the date and time stated in the OA. Note The bank would usually have issued a notice to you indicating its intention to take possession of the mortgaged property before filing the OA in court. How to respondRefer to the following to find out how you can respond to the OA, depending on your circumstances: If you can repay your monthly instalmentsIf you can repay your monthly instalments to the bank, you should approach the bank’s officers or lawyers to inform them how you intend to make payment as soon as you receive the OA filed by the bank.  If you cannot repay your monthly instalmentsIf you cannot repay your monthly instalments to the bank, you should approach the bank’s officers or lawyers to inform them of your circumstances as soon as you receive the OA filed by the bank.You may also propose an alternative repayment scheme, if possible. If the bank agrees with your proposal, the bank may either request for the hearing to be adjourned (postponed) to monitor your payments or ask the court for permission to withdraw the OA.If the bank does not agree with your proposal, you should attend court for the hearing at the date and time stated in the OA. Note If you have not heard from the bank by the date and time of the hearing, you should attend the hearing and inform the court accordingly. The bank’s lawyers may inform the court whether the bank is agreeable to your proposal at the hearing.   If you dispute the bank's application for possessionIf you wish to dispute the bank’s application for possession, you should attend court for the hearing at the date and time stated in the OA. You should bring along all the documents which you wish to show the court during the hearing such as:Receipts of payments.Notices from the bank. Evidence related to your financial means.Evidence related to your attempts to sell or rent out the mortgaged property (if applicable).   Attending the mortgage action hearingYou must attend the hearing. If you are absent, the court may grant the order in favour of the bank and you may be required to surrender the mortgaged property to the bank and pay the outstanding sums due. At the hearingDepending on your case, you may do any of the following at the hearing:Agree to the court granting the reliefs sought, such as the order to deliver possession to the bank.Request for more time to sell your property. Request for more time to pay the remaining amount. If you managed to settle a substantial part of the amount stated in the OA before the hearing, you should inform the court how much you have paid so far and how much time you will likely need to pay the remaining amount.(If you proposed an alternative repayment scheme and it was rejected by the bank) Make a better repayment proposal to the bank. After hearing your reasons and the bank's response to your requests, the court may:Adjourn (postpone) the hearing to give you more time to make a better repayment proposal.Adjourn the hearing to give you more time to pay the remaining amount owed.Make an order for you to pay the outstanding sum of money as well as interest and the legal costs incurred by the bank and to deliver possession.If an order for possession is madeIf the court makes an order for possession, it means that the bank will be able to take possession of the mortgaged property. In some cases, the court may order the bank to give you some time before it takes possession of the mortgaged property. If the court makes such an order, the bank cannot take possession of the property until after the date and time set by the court. This is to enable you to make arrangements to move out before the bank takes possession. Note If you require more time to move out of your property and manage your affairs, you may apply to the court for an extension of time by filing a summons via eLitigation at the LawNet & CrimsonLogic Service Bureau. If the court did not order the bank to give you some time, you will be required to give possession of the mortgaged property to the bank immediately. The bank’s lawyers will usually write to inform you of the court’s order first before taking possession of the property. \n",
      "        Need help? The information here is for general guidance as the courts do not provide legal advice. If you need further help, you may want to get independent legal advice.  Find out more      \n",
      " Resources Relevant legislationLegislation associated with this topic includes Order 52 of the Rules of Court 2021.   Related questions I am in the process of starting a new job after several months of unemployment. I believe that if the bank gives me time, I can pay my instalments. What should I do?You should approach the bank’s officers or lawyers to inform them of your situation. You may also try to negotiate alternative payment arrangements. The bank may agree to give you more time to pay.If the bank does not agree with your proposal, you should attend the hearing in court and explain your situation.  The bank agreed to my proposal for repayment, but I defaulted on my payments again. What will happen now?If the bank has agreed to postpone the case to monitor your payments and you defaulted, the bank may request the court to bring forward the hearing date.  I was late for the court hearing and an order for possession was made against me in my absence. Can I still write to the court to restore the hearing date?You may write to the court to explain why you were late for the hearing. If the court finds it appropriate, it may allow your case to be re-heard and the parties will be informed of the new hearing date and time.  An order for possession has been made against my property. I face financial hardship and do not have any other place to stay. Who can I approach for help?You may approach the Ministry of Social and Family Development (MSF) for social assistance.   \n",
      " Singapore Courts \n",
      " Self-help guidesCriminalCivilFamily \n",
      " Information and servicesHearing listAttending courtAlternatives to trialJudgmentsServicesPractice DirectionsRegistrar's CircularsNews and resourcesLegal professionalsForms and feesUseful links \n",
      " About Singapore CourtsWho we areJoin usContact usVisit usSingapore Judicial CollegeSingapore International Commercial Court \n",
      "  \n",
      " Report vulnerabilityPrivacy StatementTerms of UseSitemapReach.gov.sgSupported browsers \n",
      "-------------------------------------------------------\n",
      "Powers of attorney\n",
      " A Singapore Government Agency Website   \n",
      " Who we areNews and resourcesLegal professionalsForms and feesLegal help and supportContact us \n",
      " What is a power of attorneyA power of attorney is a legal document created by a person who entrusts another person to act on their behalf. This is usually for a legal transaction, such as the buying, selling or renting of property. The creator of the document is the donor, while the person appointed to act on the donor's behalf is the donee. Depositing a power of attorneyDepositing a power of attorney means registering it with the court. It will be available on public records for inspection.The General Division of the High Court only accepts powers of attorney that are created under Section 48 of the Conveyancing and Law of Property Act. Estimated feesThe fees include: $0.80 per page for document filing fees.$1.50 to deposit a power of attorney.There may be other fees if you need to obtain a copy or extract of the deposited documents, or examine and mark documents as office copies. Refer to the Powers of Attorney (Scale of Fees) Rules for the full list of fees.What you should doSubmit the power of attorney and the supporting documents via eLitigation. If you do not have an eLitigation account, visit the LawNet & CrimsonLogic Service Bureau to file in person.The documents must fulfil these requirements to be accepted by the court: Filing of instruments creating powers of attorneyIn general, to deposit an instrument creating a power of attorney, all of the following requirements are to be complied with: The execution of the instrument must have been verified in accordance with Order 26, Rule 4 of the Rules of Court 2021The instrument must be accompanied by an affidavit, a statutory declaration, certificate or other evidence by which the execution of the instrument was verified (unless the execution of the instrument creating the power of attorney has been verified by the signature of a Commissioner for Oaths who attested to the execution).Refer to Order 26, Rule 4 of the Rules of Court 2021 for more details on filing of instruments creating powers of attorney.  The execution of the power of attorney must be verifiedIn general, the execution of the power of attorney may be verified by one of the following: An affidavit or a statutory declaration made by a witness to the execution or by an impartial person who knows the signature of the donor of the power of the attorney.The signature of a Commissioner for Oaths as a witness to the execution.Any other evidence which is satisfactory to the Registrar of the Supreme Court. Refer to Order 26, Rule 4 of the Rules of Court 2021 for more details on verification of the execution of the power of attorney.  If the power of attorney is in a foreign languageThe power of attorney should be deposited with a translation that is certified by a sworn interpreter of the court or verified by a statutory declaration of a person qualified to translate it.  Inspecting a power of attorneyYou may request to inspect a power of attorney deposited in the Supreme Court to verify its validity.Estimated feesRefer to the Powers of Attorney (Scale of Fees) Rules for the full list of fees.Examples of the fees include: $4.50 to search the index of deposited documents per name for each year.$1.50 to inspect a deposited document. What you should do Contact the Supreme Court Legal Registry for more information.  \n",
      "        Need help? The information here is for general guidance as the courts do not provide legal advice. If you need further help, you may want to get independent legal advice.  Find out more      \n",
      " Resources  Relevant legislation Legislation associated with this topic includes:Part 10 of the Conveyancing and Law of Property Act.Order 26, Rule 4 of the Rules of Court 2021.  Practice directions Refer to Paragraph 19 of the Supreme Court Practice Directions 2021.   \n",
      " Singapore Courts \n",
      " Self-help guidesCriminalCivilFamily \n",
      " Information and servicesHearing listAttending courtAlternatives to trialJudgmentsServicesPractice DirectionsRegistrar's CircularsNews and resourcesLegal professionalsForms and feesUseful links \n",
      " About Singapore CourtsWho we areJoin usContact usVisit usSingapore Judicial CollegeSingapore International Commercial Court \n",
      "  \n",
      " Report vulnerabilityPrivacy StatementTerms of UseSitemapReach.gov.sgSupported browsers \n",
      "-------------------------------------------------------\n",
      "Protection from harassment\n",
      " A Singapore Government Agency Website   \n",
      " Who we areNews and resourcesLegal professionalsForms and feesLegal help and supportContact us \n",
      "  Note If you are hurt and need immediate help, please contact the police or seek medical attention.If you are experiencing family violence, you may wish to find out more about protection against family violence.  \n",
      " Singapore Courts \n",
      " Self-help guidesCriminalCivilFamily \n",
      " Information and servicesHearing listAttending courtAlternatives to trialJudgmentsServicesPractice DirectionsRegistrar's CircularsNews and resourcesLegal professionalsForms and feesUseful links \n",
      " About Singapore CourtsWho we areJoin usContact usVisit usSingapore Judicial CollegeSingapore International Commercial Court \n",
      "  \n",
      " Report vulnerabilityPrivacy StatementTerms of UseSitemapReach.gov.sgSupported browsers \n",
      "-------------------------------------------------------\n",
      "Small claims\n",
      " A Singapore Government Agency Website   \n",
      " Who we areNews and resourcesLegal professionalsForms and feesLegal help and supportContact us \n",
      "  \n",
      " Singapore Courts \n",
      " Self-help guidesCriminalCivilFamily \n",
      " Information and servicesHearing listAttending courtAlternatives to trialJudgmentsServicesPractice DirectionsRegistrar's CircularsNews and resourcesLegal professionalsForms and feesUseful links \n",
      " About Singapore CourtsWho we areJoin usContact usVisit usSingapore Judicial CollegeSingapore International Commercial Court \n",
      "  \n",
      " Report vulnerabilityPrivacy StatementTerms of UseSitemapReach.gov.sgSupported browsers \n",
      "-------------------------------------------------------\n",
      "Rules of Court 2021\n",
      " A Singapore Government Agency Website   \n",
      " Who we areNews and resourcesLegal professionalsForms and feesLegal help and supportContact us \n",
      " BackgroundThe ROC 2021 were gazetted on 1 December 2021 and came into operation on 1 April 2022. The ROC 2021 replaces and revokes the Rules of Court (Cap. 322, R 5, 2014 Rev. Ed.)(“ROC 2014”). The saving and transitional provisions in ROC 2021 provide, among others, for the ROC 2014 to continue to apply to civil proceedings, including     appeals, filed before 1 April 2022. If you are uncertain as to which version of the Rules of Court applies to your matter, click here.Reference materialsTable of DerivationsThe Table of Derivations is found at the end of the gazetted version of the ROC 2021. The table reflects the equivalent provisions (if any) in the ROC 2021 as compared to the ROC 2014. Please note that the Table of Derivations is provided for the convenience of users of the ROC 2021 and does not form part of the ROC 2021. The Table has no legislative effect. New Practice DirectionsNotice (PDF, 64 KB) is given that a new edition of the Supreme Court Practice Directions, called the Supreme Court Practice Directions 2021, was published on 1 December 2021. The Supreme Court Practice Directions 2021 came into     operation on 1 April 2022, and are to be read with the Rules of Court 2021 (which came into operation on the same date).Notice (PDF, 183 KB) is given that a new edition of the State Courts Practice Directions, called the State Courts Practice Directions 2021, was     published on 2 December 2021. The State Courts Practice Directions 2021 came into operation on 1 April 2022, and are to be read with the Rules of Court 2021 (which came into operation on the same date).DigestsThe digests summarise the key features of ROC 2021 as well as the Supreme Court Practice Directions 2021 and highlight the salient processes that court users should take note of. Digest 1General overview of the new Rules of Court – what is new? Digest 2AHow will case management for matters in the General Division of the High Court be different?Digest 2BHow will case management in the State Courts be different?Digest 3What is a Single Application Pending Trial (SAPT)?Digest 4Production of documents and Affidavits of Evidence-in-Chief before production of documents  Digest 5How would extracting orders and enforcing judgments and orders be different?Digest 6AAppeals for matters in the Supreme CourtDigest 6BAppeals within and from the State CourtsDigest 7Expert evidence under Rules of Court 2021Digest 8Navigation guide for Supreme Court Practice Directions 2021 Other materialsPress releaseInfographicsPrimer videoThe applicable Rules of Court for matters before the courtsSingapore International Commercial Court Rules 2021 (SICC Rules 2021)The SICC Rules 2021 were published in the Gazette on 2 December 2021 and came into operation on 1 April 2022. Further information on the applicability of the SICC Rules 2021 and resources on the SICC Rules 2021 can be found here.  \n",
      " Singapore Courts \n",
      " Self-help guidesCriminalCivilFamily \n",
      " Information and servicesHearing listAttending courtAlternatives to trialJudgmentsServicesPractice DirectionsRegistrar's CircularsNews and resourcesLegal professionalsForms and feesUseful links \n",
      " About Singapore CourtsWho we areJoin usContact usVisit usSingapore Judicial CollegeSingapore International Commercial Court \n",
      "  \n",
      " Report vulnerabilityPrivacy StatementTerms of UseSitemapReach.gov.sgSupported browsers \n",
      "-------------------------------------------------------\n"
     ]
    }
   ],
   "source": [
    "desc_dict = {}\n",
    "tdesc_dict = {}\n",
    "ndesc_dict = {}\n",
    "ddesc_dict = {}\n",
    "link_dict = {}\n",
    "row_dict = {}\n",
    "nav_link_list = []\n",
    "\n",
    "for type in all_types:\n",
    "    row_link_list = []\n",
    "    # with open(type + \".txt\", \"w\") as f:\n",
    "    print(type)\n",
    "    next_page = 'https://www.judiciary.gov.sg' + tj_dict[type][1]\n",
    "    page = requests.get(next_page, headers=user_agent)\n",
    "    soup = BeautifulSoup(page.text, 'lxml')\n",
    "    content_desc = soup.find_all('div', {'class': 'sf-content-block'})\n",
    "    accr_desc = soup.find_all('div', {'class': 'accordion-wrapper'})\n",
    "    # This gets everything in a page, including the p and ul tags\n",
    "    for desc in content_desc:\n",
    "        desc_text = desc.get_text()\n",
    "        # f.write(desc_text.replace('\\n', ' '))\n",
    "        print(desc_text.replace('\\n', ' '))\n",
    "        for link in desc.find_all('a'):\n",
    "            desc_dict[link.string] = link['href']\n",
    "\n",
    "    # This gets all the links in the accordion\n",
    "    for desc in accr_desc:\n",
    "        for link in desc.find_all('a'):\n",
    "            link_dict[link.string] = link['href']\n",
    "    print('-------------------------------------------------------')\n",
    "    \n",
    "            "
   ]
  },
  {
   "cell_type": "code",
   "execution_count": null,
   "metadata": {},
   "outputs": [],
   "source": []
  },
  {
   "cell_type": "code",
   "execution_count": null,
   "metadata": {},
   "outputs": [],
   "source": []
  }
 ],
 "metadata": {
  "kernelspec": {
   "display_name": "Python 3",
   "language": "python",
   "name": "python3"
  },
  "language_info": {
   "codemirror_mode": {
    "name": "ipython",
    "version": 3
   },
   "file_extension": ".py",
   "mimetype": "text/x-python",
   "name": "python",
   "nbconvert_exporter": "python",
   "pygments_lexer": "ipython3",
   "version": "3.8.3"
  },
  "orig_nbformat": 4,
  "vscode": {
   "interpreter": {
    "hash": "747d2ce94befc444b26ce8ac4106bd565fa9a7adb29f4c71228a18318693a3de"
   }
  }
 },
 "nbformat": 4,
 "nbformat_minor": 2
}
