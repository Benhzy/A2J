{
 "cells": [
  {
   "cell_type": "code",
   "execution_count": 36,
   "metadata": {},
   "outputs": [],
   "source": [
    "from urllib.request import urlopen as uReq #urllib will get the page itself\n",
    "from bs4 import BeautifulSoup\n",
    "import numpy as np\n",
    "import pandas as pd\n",
    "import re\n",
    "import nltk\n",
    "import heapq\n",
    "import requests\n",
    "import sys\n",
    "from fuzzywuzzy import fuzz\n",
    "from fuzzywuzzy import process\n",
    "import wikipedia\n",
    "from selenium import webdriver\n",
    "import os\n",
    "import urllib.request\n",
    "import urllib.parse\n",
    "from tqdm import tqdm"
   ]
  },
  {
   "cell_type": "code",
   "execution_count": 37,
   "metadata": {},
   "outputs": [],
   "source": [
    "therapeutic_justice_type = []"
   ]
  },
  {
   "cell_type": "code",
   "execution_count": 38,
   "metadata": {},
   "outputs": [
    {
     "data": {
      "text/plain": [
       "{'Adoption': ['Adoption is the process where parties apply to become the adoptive parents of a child. The Family Courts hear applications for adoption orders.',\n",
       "  '/family/adoption'],\n",
       " 'Care and protection for children and young persons': ['The Youth Courts may make care and protection orders to ensure that children in need of care and protection are safe.',\n",
       "  '/family/care-protection-children-young-persons'],\n",
       " 'Divorce': ['An application for divorce is a legal procedure to end a marriage. The Family Courts hear divorce applications.',\n",
       "  '/family/divorce'],\n",
       " 'Deputyship': ['The Family Courts can appoint a deputy to make decisions for a person who lacks mental capacity. Find out what it means and the ways to apply.',\n",
       "  '/family/deputyship'],\n",
       " 'Direct judicial communication for international family proceedings affecting children': ['Information for judges in other jurisdictions on whom to contact regarding direct judicial communication with the Family Justice Courts for international family proceedings affecting children.',\n",
       "  '/family/direct-judicial-communication'],\n",
       " 'Family Justice Courts appeals': [\"A party who is not satisfied with the court's decision in their Family Justice Courts case may file an appeal. \",\n",
       "  '/family/appeal'],\n",
       " 'Family guidance for children and young persons': ['Family guidance orders provide assistance to parents with children under 16 years old who display serious behavioural challenges. ',\n",
       "  '/family/family-guidance-children-young-persons'],\n",
       " 'Guardianship': ['Guardianship gives a person the legal responsibility to care for a child below 21 years of age.',\n",
       "  '/family/guardianship'],\n",
       " 'International child abduction': ['Parties may apply under the International Child Abduction Act for the return of their child, who has been removed from a country where the child ordinarily resides in to another country.',\n",
       "  '/family/international-child-abduction'],\n",
       " 'Probate and administration': ['The Family Justice Courts can appoint a person to manage the estate of a deceased individual through a grant of probate or letters of administration. ',\n",
       "  '/family/probate-and-administration'],\n",
       " 'Protection against family violence': ['A personal protection order is a court order restraining a family member from committing violence against another family member.',\n",
       "  '/family/protection-against-family-violence'],\n",
       " 'Protection for vulnerable adults': ['The Family Courts can make orders to protect a vulnerable adult from abuse, neglect or self-neglect. Find out which cases qualify and the application process.',\n",
       "  '/family/protection-for-vulnerable-adults'],\n",
       " 'Maintenance': ['The law generally requires certain parties to provide support to their family members. This support, known as maintenance, is financial in nature.',\n",
       "  '/family/maintenance'],\n",
       " 'Mediation and counselling in the Family Justice Courts': ['Parties involved in certain cases heard in the Family Justice Courts may be directed to the Family Dispute Resolution Division to resolve their disputes.',\n",
       "  '/family/mediation-counselling-in-family-justice-courts'],\n",
       " 'Syariah Court orders': ['A party may enforce certain Syariah Court orders in the Family Justice Courts against another party who breached them. Find out what to expect. ',\n",
       "  '/family/syariah-court-orders']}"
      ]
     },
     "execution_count": 38,
     "metadata": {},
     "output_type": "execute_result"
    }
   ],
   "source": [
    "website = 'https://www.judiciary.gov.sg/family'\n",
    "user_agent = {'User-agent' : 'Mozilla/5.0'}\n",
    "page = requests.get(website, headers=user_agent)\n",
    "soup = BeautifulSoup(page.text, 'lxml')\n",
    "fact_cards = soup.find_all('a', {'class': 'nav-link'})\n",
    "tj_dict = {}\n",
    "all_types = []\n",
    "\n",
    "for fact_card in fact_cards[8:]:\n",
    "    tj_type = fact_card.get_text().split('\\n')[1]\n",
    "    tj_desc = fact_card.get_text().split('\\n')[2]\n",
    "    tj_link = fact_card['href']\n",
    "    tj_dict[tj_type] = [tj_desc, tj_link]\n",
    "    all_types.append(tj_type)\n",
    "\n",
    "tj_dict"
   ]
  },
  {
   "cell_type": "code",
   "execution_count": 39,
   "metadata": {},
   "outputs": [],
   "source": [
    "# link_dict = {}\n",
    "# for type in all_types:\n",
    "#     next_page = 'https://www.judiciary.gov.sg' + tj_dict[type][1]\n",
    "#     page = requests.get(next_page, headers=user_agent)\n",
    "#     soup = BeautifulSoup(page.text, 'lxml')\n",
    "#     tr_detailed_desc = soup.find_all('div', {'class': 'acc-panel'})\n",
    "#     for desc in tr_detailed_desc:\n",
    "#         for link in desc.find_all('a'):\n",
    "#             link_dict[link.string] = link['href']   \n",
    "# print(link_dict)\n",
    "\n"
   ]
  },
  {
   "cell_type": "code",
   "execution_count": 40,
   "metadata": {},
   "outputs": [],
   "source": [
    "\n",
    "# for type in all_types:\n",
    "#     next_page = 'https://www.judiciary.gov.sg' + tj_dict[type][1]\n",
    "#     page = requests.get(next_page, headers=user_agent)\n",
    "#     soup = BeautifulSoup(page.text, 'lxml')\n",
    "#     tr_detailed_desc = soup.find_all('div', {'class': 'acc-panel'})\n",
    "#     for desc in tr_detailed_desc:\n",
    "#         desc_text = desc.get_text()\n",
    "#         for linktext, link in link_dict.items():\n",
    "#             if linktext in desc_text:\n",
    "#                 desc_text = desc_text.replace(linktext, link)\n",
    "#         print(desc_text)\n",
    "#         print(\"---------------------------------------------------------\")\n",
    "        "
   ]
  },
  {
   "cell_type": "code",
   "execution_count": 111,
   "metadata": {},
   "outputs": [
    {
     "name": "stdout",
     "output_type": "stream",
     "text": [
      "Adoption\n",
      "---------------------------------------------------------\n",
      "Care and protection for children and young persons\n",
      "---------------------------------------------------------\n",
      "Divorce\n",
      "[['Divorce', 'An application for divorce is a legal procedure to end a marriage. The Family Courts hear divorce applications.'], ['Understand the requirements for getting a divorce', 'Parties must check if the requirements for getting a divorce in Singapore are met.', 'File a divorce application (simplified track)', 'A divorce application will proceed on the simplified track if parties can agree on all issues relating to the divorce and the ancillary matters.', 'File a divorce application (normal track)', 'A divorce application will proceed on the normal track if parties have not come to any agreement on any issue relating to the divorce.', 'Respond to a divorce application (normal track)', 'If you have been served divorce papers, it means your spouse has filed a divorce application against you. Find out more about the papers you may receive. ', 'Going to court for a divorce application', 'Depending on the nature of their case, parties may have to attend court for a divorce application on a normal track.']]\n",
      "---------------------------------------------------------\n",
      "Deputyship\n",
      "[['Deputyship', 'The Family Courts can appoint a deputy to make decisions for a person who lacks mental capacity. Find out what it means and the ways to apply.'], ['Before applying to be a deputy', 'Find out when you may need to apply to be a deputy, the responsibilities of a deputy and what you must do before applying.', 'File a simplified deputyship application', 'Find out the step-by-step process of applying to be a deputy under the simplified process. ', 'File a deputyship application (standard process)', 'Find out the step-by-step process of applying to be a deputy under the standard process. ', 'Going to court for deputyship', 'Find out what to expect at a case conference or hearing for a deputyship application, including the possible outcomes. ', 'Object to a deputyship application', 'Find out how to object to an application for the court to appoint a deputy to make decisions for a patient who lacks mental capacity.']]\n",
      "---------------------------------------------------------\n",
      "Direct judicial communication for international family proceedings affecting children\n",
      "---------------------------------------------------------\n",
      "Family Justice Courts appeals\n",
      "[['Family Justice Courts appeals', \"A party who is not satisfied with the court's decision in their Family Justice Courts case may file an appeal. \"], ['Appeal against a decision by a Family Courts district judge or magistrate', 'Parties may appeal against a judgment or court order made by a district judge or magistrate in the Family Courts if they are not satisfied with it. ', 'Appeal against a decision by the Youth Courts', 'For cases in the Youth Courts, parties may appeal against a court decision if they are not satisfied with it.']]\n",
      "---------------------------------------------------------\n",
      "Family guidance for children and young persons\n",
      "[['Family guidance for children and young persons', 'Family guidance orders provide assistance to parents with children under 16 years old who display serious behavioural challenges. '], ['Family guidance orders: overview', 'Find out the requirements that need to be met before the court will make a family guidance order, and the types of family guidance orders the court may make.', 'Apply for a family guidance order', 'Find out what you should know before applying for a family guidance order and what happens after you apply. ', 'At your family guidance order application hearing', 'Find out what to expect when you attend court to make a family guidance order application.']]\n",
      "---------------------------------------------------------\n",
      "Guardianship\n",
      "---------------------------------------------------------\n",
      "International child abduction\n",
      "[['International child abduction', 'Parties may apply under the International Child Abduction Act for the return of their child, who has been removed from a country where the child ordinarily resides in to another country.'], ['File an international child abduction application', 'Find out about the 1980 Hague Convention and the steps you need to take to file an application under the International Child Abduction Act.', 'Respond to an international child abduction application', 'Find out what it means if you are served with documents for an application under the International Child Abduction Act and what you need to do.', 'Going to court for an international child abduction application', 'Find out what to expect if you have to attend court for an international child abduction application.']]\n",
      "---------------------------------------------------------\n",
      "Probate and administration\n",
      "[['Probate and administration', 'The Family Justice Courts can appoint a person to manage the estate of a deceased individual through a grant of probate or letters of administration. '], ['Apply for probate', 'Find out about probate, who can apply and the process to apply for a Grant of Probate.', 'Apply for letters of administration', 'Find out what a Grant of Letters of Administration is, who can apply and how to apply for it.', 'File the supporting documents (probate or administration)', 'Find out how to prepare and submit the supporting documents after you file your application for probate or letters of administration. ', 'Going to court for a probate or administration hearing ', 'Your application for a Grant of Probate or Grant of Letters of Administration may proceed to a hearing. Find out what to prepare and expect.', 'Apply to extract a probate or administration grant', 'Find out the steps to extract a Grant of Probate or Letters of Administration, or to obtain a certified true copy. ']]\n",
      "---------------------------------------------------------\n",
      "Protection against family violence\n",
      "[['Protection against family violence', 'A personal protection order is a court order restraining a family member from committing violence against another family member.'], ['Apply for a personal protection order', 'Find out more about family violence, who can apply for a personal protection order and the parties against whom the order can be made.', 'Respond to a personal protection order application', 'Find out what it means if you receive a summons to attend court for an application for a personal protection order and what you need to do.', 'Going to court for a personal protection order application', 'Parties to an application for a personal protection order will have to attend court to resolve their dispute. Find out what to prepare and expect.']]\n",
      "---------------------------------------------------------\n",
      "Protection for vulnerable adults\n",
      "---------------------------------------------------------\n",
      "Maintenance\n",
      "[['Maintenance', 'The law generally requires certain parties to provide support to their family members. This support, known as maintenance, is financial in nature.'], ['File a maintenance application ', 'Find out about maintenance and the process to file a maintenance application in the Family Courts.', 'Respond to a maintenance application', 'Find out what it means if a maintenance application is made against you in the Family Courts, including what you need to do.', 'Going to court for a maintenance application', 'Both the applicant and the respondent in a maintenance application must attend all sessions directed by the court for the case. ', 'Attend maintenance mediation', 'Maintenance mediation gives you and the other party an opportunity to resolve your dispute. Find out what to expect, including the possible outcomes.', 'Understand the outcomes of a maintenance application', 'A maintenance application may lead to different outcomes, depending on the order made by the judge. Find out about the possible orders and what you need to do.']]\n",
      "---------------------------------------------------------\n",
      "Mediation and counselling in the Family Justice Courts\n",
      "[['Mediation and counselling in the Family Justice Courts', 'Parties involved in certain cases heard in the Family Justice Courts may be directed to the Family Dispute Resolution Division to resolve their disputes.'], ['Mediation at the Family Dispute Resolution Division', 'The court may direct parties to resolve their family disputes through mediation at the Family Dispute Resolution Division. Find out what to expect.', 'Counselling and Psychological Services', 'The Counselling and Psychological Services offers therapeutic and forensic interventions for protection against family violence, divorce and Youth Courts cases.']]\n",
      "---------------------------------------------------------\n",
      "Syariah Court orders\n",
      "---------------------------------------------------------\n"
     ]
    }
   ],
   "source": [
    "desc_dict = {}\n",
    "tdesc_dict = {}\n",
    "ndesc_dict = {}\n",
    "ddesc_dict = {}\n",
    "for type in all_types:\n",
    "    print(type)\n",
    "    next_page = 'https://www.judiciary.gov.sg' + tj_dict[type][1]\n",
    "    page = requests.get(next_page, headers=user_agent)\n",
    "    soup = BeautifulSoup(page.text, 'lxml')\n",
    "    accr_desc = soup.find_all('div', {'class': 'accordion-wrapper'})\n",
    "    for desc in accr_desc:\n",
    "        desc_text = desc.get_text()\n",
    "        for link in desc.find_all('a'):\n",
    "            desc_dict[link.string] = link['href']\n",
    "        # print(desc_text)\n",
    "    if type ==\"Adoption\" or type == \"Protection for vulnerable adults\" :\n",
    "        timeline_desc = soup.find_all('div', {'class': 'timeline'})\n",
    "        for t_desc in timeline_desc:\n",
    "            timeline_text = t_desc.get_text()\n",
    "            for link in t_desc.find_all('a'):\n",
    "                tdesc_dict[link.string] = link['href']\n",
    "            # print(timeline_text)\n",
    "    elif type == \"Care and protection for children and young persons\" or type == \"Guardianship\":\n",
    "        nav_desc = soup.find_all('li', {'class': 'nav-item w-100'})\n",
    "        # print(nav_desc)\n",
    "        for n_desc in nav_desc:\n",
    "            nav_text = n_desc.get_text()\n",
    "            for link in n_desc.find_all('a'):\n",
    "                ndesc_dict[nav_text.replace(\"\\n\", \"\")] = link['href']\n",
    "            # print(nav_text)\n",
    "    else:\n",
    "        div_desc = soup.find_all('div', {'class': 'row'})\n",
    "        # print(div_desc)\n",
    "    \n",
    "        if type != \"Direct judicial communication for international family proceedings affecting children\" and type != \"Syariah Court orders\":\n",
    "            type_list = []\n",
    "            for d_desc in div_desc[:-2]:\n",
    "                div_text = d_desc.get_text()\n",
    "                type_list.append(list(filter(None,div_text.split(\"\\n\"))))\n",
    "                for link in d_desc.find_all('a'):\n",
    "                    ddesc_dict[link.string] = link['href']\n",
    "                # print(div_text)\n",
    "            print(type_list)\n",
    "    print(\"---------------------------------------------------------\")\n",
    "\n",
    "# for desc in tr_detailed_desc:\n",
    "#     for link in desc.find_all('a'):\n",
    "#         link_dict[link.string] = link['href']   "
   ]
  },
  {
   "cell_type": "code",
   "execution_count": 46,
   "metadata": {},
   "outputs": [
    {
     "data": {
      "text/plain": [
       "{'meet the requirements to adopt': 'https://www.msf.gov.sg/Adoption/Pages/Who-can-Adopt.aspx',\n",
       " 'How to adopt a Singaporean or permanent resident child': 'https://www.msf.gov.sg/Adoption/Pages/How-to-adopt-a-citizen-or-PR.aspx',\n",
       " \"How to adopt a child from the People's Republic of China\": 'https://www.msf.gov.sg/Adoption/Pages/How-to-adopt-a-child-from-the-Peoples-Republic-of-China.aspx',\n",
       " \"How to adopt a foreign child (excluding children from the People's Republic of China)\": 'https://www.msf.gov.sg/Adoption/Pages/How-to-adopt-a-foreign-child-excluding-children-from-the-Peoples-Republic-of-China.aspx',\n",
       " \"MSF's website\": 'https://www.msf.gov.sg/Adoption',\n",
       " 'Adoption of Children Act': 'https://sso.agc.gov.sg/Act/ACA1939',\n",
       " 'Family Justice Act': 'https://sso.agc.gov.sg/Act/FJA2014',\n",
       " 'Part 6 of the Family Justice Rules': 'https://sso.agc.gov.sg/SL/FJA2014-S813-2014#P16-',\n",
       " 'Part 2 of the Fifth Schedule of the Family Justice Rules': 'https://sso.agc.gov.sg/SL/FJA2014-S813-2014#Sc5-',\n",
       " 'Part VIII of the Family Justice Courts Practice Directions': 'https://epd.familyjusticecourts.gov.sg/Part%2008-Adoption%20of%20Children.html',\n",
       " 'full list of orders.': '/family/file-simplified-deputyship-application#orders',\n",
       " 'Integrated Family Application Management System (iFAMS)': '/services/ifams',\n",
       " 'how to apply through the simplified process': '/family/file-simplified-deputyship-application',\n",
       " 'eLitigation': '/services/elitigation',\n",
       " 'how to apply through the standard process': '/family/file-deputyship-application-standard',\n",
       " 'Section 7 of the Guardianship of Infants Act': 'https://sso.agc.gov.sg/Act/GIA1934#pr7-',\n",
       " 'Section 6(1) of the Guardianship of Infants Act': 'https://sso.agc.gov.sg/Act/GIA1934#pr6-',\n",
       " 'Section 6(3) of the Guardianship of Infants Act': 'https://sso.agc.gov.sg/Act/GIA1934#pr6-',\n",
       " 'Section 10 of the Guardianship of Infants Act': 'https://sso.agc.gov.sg/Act/GIA1934#pr10-',\n",
       " 'Section 17(1) of the Supreme Court of Judicature Act': 'https://sso.agc.gov.sg/Act/SCJA1969#pr17-',\n",
       " 'Section 22(1)(a) of the Family Justice Act': 'https://sso.agc.gov.sg/Act/FJA2014#pr22-',\n",
       " 'The Guardianship of Infants Act': 'https://sso.agc.gov.sg/Act/GIA1934#legis',\n",
       " 'Part 8 of the Family Justice Rules': 'https://sso.agc.gov.sg/SL/FJA2014-S813-2014#pr152-',\n",
       " 'Part 18 Division 3 and 4 of the Family Justice Rules.': 'https://sso.agc.gov.sg/SL/FJA2014-S813-2014?ProvIds=P118-#P118-P23-',\n",
       " 'Part 18 Division 6 of the Family Justice Rules': 'https://sso.agc.gov.sg/SL/FJA2014-S813-2014?ProvIds=P118-#P118-P26-',\n",
       " 'Part 18 Division 14 of the Family Justice Rules': 'https://sso.agc.gov.sg/SL/FJA2014-S813-2014?ProvIds=P118-#P118-P214-',\n",
       " 'Part 18 Division 24 of the Family Justice Rules': 'https://sso.agc.gov.sg/SL/FJA2014-S813-2014?ProvIds=P118-#P118-P224-',\n",
       " 'Part 18 Division 38 of the Family Justice Rules': 'https://sso.agc.gov.sg/SL/FJA2014-S813-2014?ProvIds=P118-#P118-P238-',\n",
       " 'Part XIII of the Family Justice Courts Practice Directions': 'https://epd.familyjusticecourts.gov.sg/Part%2013-General%20Procedure.html',\n",
       " 'Adoption': '/family/adoption',\n",
       " 'depending on the circumstances': '/family/apply-for-letters-of-administration#beneficiary',\n",
       " 'satisfy certain criteria': 'https://pto.mlaw.gov.sg/deceased-cpf-estate-monies/information-for-next-of-kin-estate-monies/',\n",
       " 'Family violence': 'https://sso.agc.gov.sg/Act/WC1961#P1VII-',\n",
       " 'Contact the police': 'https://www.police.gov.sg/',\n",
       " 'Family Service Centres (FSC)': 'https://www.msf.gov.sg/policies/Strong-and-Stable-Families/Supporting-Families/Pages/Family-Service-Centres.aspx',\n",
       " 'Protection Specialist Centres (PSC)': 'https://familyassist.msf.gov.sg/#ListFV',\n",
       " 'Vulnerable Adults Act': 'https://sso.agc.gov.sg/Act/VAA2018',\n",
       " 'English': '/docs/default-source/family-docs/final-vaa-leaflet_english.pdf?sfvrsn=7c022802_4',\n",
       " 'Chinese': '/docs/default-source/family-docs/final-vaa-leaflet_chinese.pdf?sfvrsn=9531dc46_4',\n",
       " 'Malay': '/docs/default-source/family-docs/final-vaa-leaflet_malay.pdf?sfvrsn=21902b44_4',\n",
       " 'Tamil': '/docs/default-source/family-docs/final-vaa-leaflet_tamil.pdf?sfvrsn=3ce38f5c_4',\n",
       " 'Part 17B of the Family Justice Rules': 'https://sso.agc.gov.sg/SL/FJA2014-S813-2014#P117B-',\n",
       " 'Part XIIA of the Family Justice Courts Practice Directions': 'https://epd.familyjusticecourts.gov.sg/Part%2012A%E2%80%93Vulnerable%20Adults%20Act.html',\n",
       " 'going to court for the application': '/family/going-to-court-vulnerable-adult-application',\n",
       " 'where to get help': '/legal-help-support/family-case',\n",
       " 'virtual court sessions': '/attending-court/virtual-court-sessions',\n",
       " 'fjcourts_maintpos@fjcourts.gov.sg': 'mailto:fjcourts_maintpos@fjcourts.gov.sg',\n",
       " 'Administration of Muslim Law Act': 'https://sso.agc.gov.sg/Act/AMLA1966',\n",
       " \"Women's Charter\": 'https://sso.agc.gov.sg/Act/WC1961',\n",
       " 'Family Justice Rules': 'https://sso.agc.gov.sg/SL/FJA2014-S813-2014'}"
      ]
     },
     "execution_count": 46,
     "metadata": {},
     "output_type": "execute_result"
    }
   ],
   "source": [
    "desc_dict"
   ]
  },
  {
   "cell_type": "code",
   "execution_count": 53,
   "metadata": {},
   "outputs": [
    {
     "data": {
      "text/plain": [
       "{'File an application for an adoption order': '/family/file-adoption-order',\n",
       " 'After filing: submit additional documents for adoption ': '/family/submit-additional-documents-adoption-order',\n",
       " 'Going to court for adoption': '/family/going-to-court-adoption-order',\n",
       " 'Appeal against a decision by a Family Courts district judge or magistrate': '/family/appeal-against-decision-by-family-courts-judge',\n",
       " 'Apply to protect a vulnerable adult ': '/family/apply-to-protect-vulnerable-adult',\n",
       " 'Going to court for a vulnerable adult application': '/family/going-to-court-vulnerable-adult-application'}"
      ]
     },
     "execution_count": 53,
     "metadata": {},
     "output_type": "execute_result"
    }
   ],
   "source": [
    "tdesc_dict"
   ]
  },
  {
   "cell_type": "code",
   "execution_count": 66,
   "metadata": {},
   "outputs": [
    {
     "data": {
      "text/plain": [
       "{'Care and protection orders: overviewFind out when are children or young persons in need of care and protection, and the care and protection orders that the Youth Courts may make. ': '/family/care-protection-order-overview',\n",
       " 'Understand the care and protection order application processFind out what to expect if an application for a care and protection order is filed for your child.': '/family/understand-care-protection-order-application-process',\n",
       " 'File a guardianship applicationFind out the steps to file a guardianship application, the estimated fees and the documents you have to prepare.': '/family/guardianship/file-a-guardianship-application',\n",
       " 'Going to court for a guardianship applicationFind out what to expect if you have to attend court for a guardianship application.': '/family/going-to-court-guardianship-application'}"
      ]
     },
     "execution_count": 66,
     "metadata": {},
     "output_type": "execute_result"
    }
   ],
   "source": [
    "ndesc_dict"
   ]
  },
  {
   "cell_type": "code",
   "execution_count": 82,
   "metadata": {},
   "outputs": [
    {
     "data": {
      "text/plain": [
       "{None: '/family/counselling-psychological-services',\n",
       " 'FJCOURTS_Family_Registry@fjcourts.gov.sg': 'mailto:FJCOURTS_Family_Registry@fjcourts.gov.sg',\n",
       " 'Administration of Muslim Law Act': 'https://sso.agc.gov.sg/Act/AMLA1966',\n",
       " 'Syariah Court': 'https://www.syariahcourt.gov.sg/',\n",
       " ' Section 53 of the Administration of Muslim Law Act': 'https://sso.agc.gov.sg/Act/AMLA1966?ProvIds=P1III-#pr53-',\n",
       " 'Maintenance': '/family/maintenance',\n",
       " 'Section 52 of the Administration of Muslim Law Act': 'https://sso.agc.gov.sg/Act/AMLA1966?ProvIds=P1III-#pr52-',\n",
       " 'Section 53 of the Administration of Muslim Law Act': 'https://sso.agc.gov.sg/Act/AMLA1966?ProvIds=P1III-#pr53-',\n",
       " 'committal proceedings': '/civil/committal-proceedings',\n",
       " 'garnishee proceedings': '/civil/garnishee-proceedings',\n",
       " \"Women's Charter\": 'https://sso.agc.gov.sg/Act/WC1961',\n",
       " 'Family Justice Rules': 'https://sso.agc.gov.sg/SL/FJA2014-S813-2014',\n",
       " 'seek legal advice': '/legal-help-support/family-case',\n",
       " 'where to get help': '/legal-help-support/family-case',\n",
       " \"Family Registry to file your Magistrate's Complaint during the operating hours\": '/visit-us/family-justice-courts#fjc-havelock',\n",
       " \"1. File your Magistrate's Complaint\": '#file-complaint',\n",
       " '2. Meet with the duty judge': '#meet-duty-judge',\n",
       " 'Integrated Family Application Management System (iFAMS)': '/services/ifams',\n",
       " 'virtual court sessions': '/attending-court/virtual-court-sessions',\n",
       " 'Attend maintenance mediation': '/family/attend-maintenance-mediation',\n",
       " 'fjcourts_maintpos@fjcourts.gov.sg': 'mailto:fjcourts_maintpos@fjcourts.gov.sg',\n",
       " 'Find out more': '/legal-help-support'}"
      ]
     },
     "execution_count": 82,
     "metadata": {},
     "output_type": "execute_result"
    }
   ],
   "source": [
    "ddesc_dict"
   ]
  }
 ],
 "metadata": {
  "kernelspec": {
   "display_name": "Python 3",
   "language": "python",
   "name": "python3"
  },
  "language_info": {
   "codemirror_mode": {
    "name": "ipython",
    "version": 3
   },
   "file_extension": ".py",
   "mimetype": "text/x-python",
   "name": "python",
   "nbconvert_exporter": "python",
   "pygments_lexer": "ipython3",
   "version": "3.8.3"
  },
  "orig_nbformat": 4,
  "vscode": {
   "interpreter": {
    "hash": "747d2ce94befc444b26ce8ac4106bd565fa9a7adb29f4c71228a18318693a3de"
   }
  }
 },
 "nbformat": 4,
 "nbformat_minor": 2
}
