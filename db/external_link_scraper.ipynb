{
 "cells": [
  {
   "cell_type": "code",
   "execution_count": 1,
   "metadata": {},
   "outputs": [],
   "source": [
    "# pip install xml"
   ]
  },
  {
   "cell_type": "code",
   "execution_count": 2,
   "metadata": {},
   "outputs": [],
   "source": [
    "from urllib.request import urlopen as uReq #urllib will get the page itself\n",
    "from bs4 import BeautifulSoup\n",
    "import numpy as np\n",
    "import pandas as pd\n",
    "import re\n",
    "import nltk\n",
    "import heapq\n",
    "import requests\n",
    "import sys\n",
    "# from fuzzywuzzy import fuzz\n",
    "# from fuzzywuzzy import process\n",
    "from selenium import webdriver\n",
    "import os\n",
    "import urllib.request\n",
    "import urllib.parse\n",
    "from tqdm import tqdm"
   ]
  },
  {
   "cell_type": "code",
   "execution_count": 4,
   "metadata": {},
   "outputs": [
    {
     "data": {
      "text/plain": [
       "['/family/adoption',\n",
       " '/family/care-protection-children-young-persons',\n",
       " '/family/divorce',\n",
       " '/family/deputyship',\n",
       " '/family/direct-judicial-communication',\n",
       " '/family/appeal',\n",
       " '/family/family-guidance-children-young-persons',\n",
       " '/family/guardianship',\n",
       " '/family/international-child-abduction',\n",
       " '/family/probate-and-administration',\n",
       " '/family/protection-against-family-violence',\n",
       " '/family/protection-for-vulnerable-adults',\n",
       " '/family/maintenance',\n",
       " '/family/mediation-counselling-in-family-justice-courts',\n",
       " '/family/syariah-court-orders']"
      ]
     },
     "execution_count": 4,
     "metadata": {},
     "output_type": "execute_result"
    }
   ],
   "source": [
    "website = 'https://www.judiciary.gov.sg/family'\n",
    "user_agent = {'User-agent' : 'Mozilla/5.0'}\n",
    "page = requests.get(website, headers=user_agent)\n",
    "soup = BeautifulSoup(page.text, 'lxml')\n",
    "fact_cards = soup.find_all('a', {'class': 'nav-link'})\n",
    "tj_dict = {}\n",
    "all_types = []\n",
    "\n",
    "for fact_card in fact_cards[8:]:\n",
    "    tj_type = fact_card.get_text().split('\\n')[1]\n",
    "    tj_desc = fact_card.get_text().split('\\n')[2]\n",
    "    tj_link = fact_card['href']\n",
    "    tj_dict[tj_type] = [tj_desc, tj_link]\n",
    "    all_types.append(tj_type)\n",
    "\n",
    "tj_dict"
   ]
  },
  {
   "cell_type": "code",
   "execution_count": 5,
   "metadata": {},
   "outputs": [
    {
     "name": "stdout",
     "output_type": "stream",
     "text": [
      "The adoption process starts at the MSF. Before you file an application for an adoption order with the courts, you must do all of the following: Check that you meet the requirements to adopt.Complete the pre-adoption steps. There are different steps depending on the nationality of the child you wish to adopt. Refer to the respective MSF guides:        How to adopt a Singaporean or permanent resident child.How to adopt a child from the People's Republic of China. How to adopt a foreign child (excluding children from the People's Republic of China). Refer to the MSF's website for more information on adoption in Singapore.\n"
     ]
    }
   ],
   "source": [
    "for type in all_types:\n",
    "    next_page = 'https://www.judiciary.gov.sg' + tj_dict[type][1]\n",
    "    page = requests.get(next_page, headers=user_agent)\n",
    "    soup = BeautifulSoup(page.text, 'lxml')\n",
    "    tr_detailed_desc = soup.find_all('div', {'class': 'acc-panel'})\n",
    "\n",
    "    for text in tr_detailed_desc:\n",
    "        var = text.get_text()\n",
    "        text_get = (str(var))\n",
    "        break\n",
    "    break\n",
    "print(text_get)\n",
    "\n",
    "\n",
    "        "
   ]
  },
  {
   "cell_type": "code",
   "execution_count": 5,
   "metadata": {},
   "outputs": [
    {
     "name": "stdout",
     "output_type": "stream",
     "text": [
      "['https://www.msf.gov.sg/Adoption/Pages/Who-can-Adopt.aspx', 'https://www.msf.gov.sg/Adoption/Pages/How-to-adopt-a-citizen-or-PR.aspx', 'https://www.msf.gov.sg/Adoption/Pages/How-to-adopt-a-child-from-the-Peoples-Republic-of-China.aspx', 'https://www.msf.gov.sg/Adoption/Pages/How-to-adopt-a-foreign-child-excluding-children-from-the-Peoples-Republic-of-China.aspx', 'https://www.msf.gov.sg/Adoption', 'https://sso.agc.gov.sg/Act/ACA1939', 'https://sso.agc.gov.sg/Act/FJA2014', 'https://sso.agc.gov.sg/SL/FJA2014-S813-2014#P16-', 'https://sso.agc.gov.sg/SL/FJA2014-S813-2014#Sc5-', 'https://epd.familyjusticecourts.gov.sg/Part%2008-Adoption%20of%20Children.html', '/family/file-simplified-deputyship-application#orders', '/services/ifams', '/family/file-simplified-deputyship-application', '/services/elitigation', '/family/file-deputyship-application-standard', 'https://sso.agc.gov.sg/Act/GIA1934#pr7-', 'https://sso.agc.gov.sg/Act/GIA1934#pr6-', 'https://sso.agc.gov.sg/Act/GIA1934#pr6-', 'https://sso.agc.gov.sg/Act/GIA1934#pr10-', 'https://sso.agc.gov.sg/Act/SCJA1969#pr17-', 'https://sso.agc.gov.sg/Act/FJA2014#pr22-', 'https://sso.agc.gov.sg/Act/GIA1934#legis', 'https://sso.agc.gov.sg/SL/FJA2014-S813-2014#pr152-', 'https://sso.agc.gov.sg/SL/FJA2014-S813-2014?ProvIds=P118-#P118-P23-', 'https://sso.agc.gov.sg/SL/FJA2014-S813-2014?ProvIds=P118-#P118-P26-', 'https://sso.agc.gov.sg/SL/FJA2014-S813-2014?ProvIds=P118-#P118-P214-', 'https://sso.agc.gov.sg/SL/FJA2014-S813-2014?ProvIds=P118-#P118-P224-', 'https://sso.agc.gov.sg/SL/FJA2014-S813-2014?ProvIds=P118-#P118-P238-', 'https://epd.familyjusticecourts.gov.sg/Part%2013-General%20Procedure.html', '/family/adoption', '/family/apply-for-letters-of-administration#beneficiary', 'https://pto.mlaw.gov.sg/deceased-cpf-estate-monies/information-for-next-of-kin-estate-monies/', 'https://sso.agc.gov.sg/Act/WC1961#P1VII-', 'https://www.police.gov.sg/', 'https://www.msf.gov.sg/policies/Strong-and-Stable-Families/Supporting-Families/Pages/Family-Service-Centres.aspx', 'https://familyassist.msf.gov.sg/#ListFV', 'https://sso.agc.gov.sg/Act/VAA2018', '/docs/default-source/family-docs/final-vaa-leaflet_english.pdf?sfvrsn=7c022802_4', '/docs/default-source/family-docs/final-vaa-leaflet_chinese.pdf?sfvrsn=9531dc46_4', '/docs/default-source/family-docs/final-vaa-leaflet_malay.pdf?sfvrsn=21902b44_4', '/docs/default-source/family-docs/final-vaa-leaflet_tamil.pdf?sfvrsn=3ce38f5c_4', 'https://sso.agc.gov.sg/Act/VAA2018', 'https://sso.agc.gov.sg/Act/FJA2014', 'https://sso.agc.gov.sg/SL/FJA2014-S813-2014#P117B-', 'https://epd.familyjusticecourts.gov.sg/Part%2012A%E2%80%93Vulnerable%20Adults%20Act.html', '/family/going-to-court-vulnerable-adult-application', '/legal-help-support/family-case', '/services/ifams', '/attending-court/virtual-court-sessions', 'mailto:fjcourts_maintpos@fjcourts.gov.sg', 'https://sso.agc.gov.sg/Act/AMLA1966', 'https://sso.agc.gov.sg/Act/WC1961', 'https://sso.agc.gov.sg/SL/FJA2014-S813-2014']\n"
     ]
    }
   ],
   "source": [
    "link_dict = {}\n",
    "link_list = []\n",
    "for type in all_types:\n",
    "    next_page = 'https://www.judiciary.gov.sg' + tj_dict[type][1]\n",
    "    page = requests.get(next_page, headers=user_agent)\n",
    "    soup = BeautifulSoup(page.text, 'lxml')\n",
    "    tr_detailed_desc = soup.find_all('div', {'class': 'acc-panel'})\n",
    "    for desc in tr_detailed_desc:\n",
    "        for link in desc.find_all('a'):\n",
    "            link_dict[link.string] = link['href']   \n",
    "            link_list.append(link['href'])\n",
    "# print(link_dict)\n",
    "print(link_list)"
   ]
  },
  {
   "cell_type": "code",
   "execution_count": 12,
   "metadata": {},
   "outputs": [
    {
     "name": "stdout",
     "output_type": "stream",
     "text": [
      "meet the requirements to adopt https://www.msf.gov.sg/Adoption/Pages/Who-can-Adopt.aspx\n",
      "The adoption process starts at the MSF. Before you file an application for an adoption order with the courts, you must do all of the following: Check that you meet the requirements to adopt https://www.msf.gov.sg/Adoption/Pages/Who-can-Adopt.aspx https://www.msf.gov.sg/Adoption /family/adoption/Pages/Who-can-Adopt.aspx https://www.msf.gov.sg/Adoption /family/adoption /family/adoption/Pages/Who-can-Adopt.aspx.Complete the pre-adoption steps. There are different steps depending on the nationality of the child you wish to adopt. Refer to the respective MSF guides:        How to adopt a Singaporean or permanent resident child https://www.msf.gov.sg/Adoption /family/adoption/Pages/How-to-adopt-a-citizen-or-PR.aspx https://www.msf.gov.sg/Adoption /family/adoption /family/adoption/Pages/How-to-adopt-a-citizen-or-PR.aspx.How to adopt a child from the People's Republic of China https://www.msf.gov.sg/Adoption /family/adoption/Pages/How-to-adopt-a-child-from-the-Peoples-Republic-of-China.aspx https://www.msf.gov.sg/Adoption /family/adoption /family/adoption/Pages/How-to-adopt-a-child-from-the-Peoples-Republic-of-China.aspx. How to adopt a foreign child (excluding children from the People's Republic of China) https://www.msf.gov.sg/Adoption /family/adoption/Pages/How-to-adopt-a-foreign-child-excluding-children-from-the-Peoples-Republic-of-China.aspx https://www.msf.gov.sg/Adoption /family/adoption /family/adoption/Pages/How-to-adopt-a-foreign-child-excluding-children-from-the-Peoples-Republic-of-China.aspx. Refer to the MSF's website https://www.msf.gov.sg/Adoption /family/adoption https://www.msf.gov.sg/Adoption /family/adoption /family/adoption for more information on adoption in Singapore.\n"
     ]
    }
   ],
   "source": [
    "for linktext, link in link_dict.items():\n",
    "    join_str = linktext + ' ' + link\n",
    "    print(join_str)\n",
    "    text_get = text_get.replace(linktext,join_str)\n",
    "    print(text_get)\n",
    "    break\n",
    "# print (text_get)"
   ]
  },
  {
   "cell_type": "code",
   "execution_count": null,
   "metadata": {},
   "outputs": [],
   "source": [
    "ext_link_dict = {}\n",
    "\n",
    "for url in link_list: \n",
    "    website = url\n",
    "    user_agent = {'User-agent' : 'Mozilla/5.0'}\n",
    "    page = requests.get(website, headers=user_agent)\n",
    "    soup = BeautifulSoup(page.text, 'lxml')\n",
    "    tr_detailed_desc = soup.find_all('p')\n",
    "    "
   ]
  },
  {
   "cell_type": "code",
   "execution_count": null,
   "metadata": {},
   "outputs": [],
   "source": []
  },
  {
   "cell_type": "code",
   "execution_count": 16,
   "metadata": {},
   "outputs": [
    {
     "name": "stdout",
     "output_type": "stream",
     "text": [
      "\n",
      "ADOPTIONIf you wish to adopt a child, please ensure that you meet the following requirements for adoption in Singapore.If you wish to adopt a child from China, there are additional requirements. For more information, please refer to \n",
      "         How to adopt a child from the People's Republic of China.Requirements\n",
      "Residency Status You and your spouse must be residents in Singapore to adopt, i.e. Singapore Citizens or Permanent Residents, or holders of Employment Pass, Dependant's Pass or any other Pass which the Family Court deems as residents in Singapore. This is in accordance with Section 4(6) of the \n",
      "            Adoption of Child Act (ACA).\n",
      "Age You and your spouse must be at least 25 years old and at least 21 years older than the child to be adopted. If you or your spouse is under 25 years old and/or less than 21 years older than the child, the adoption may be allowed if you or your spouse and the child are related by blood, or if there are other special circumstances justifying the adoption. This is in accordance with Section 4(2) a(i)(ii) of the ACA.\n",
      "Maximum age gap between adopter and child Both you and your spouse should not be more than 50 years older than the child. As an adoptive parent, you are responsible for providing education and protecting the welfare of your adopted child until he or she is independent. You must ensure that you have the physical and financial means to see the child through this journey.\n",
      "Marital status If you are a \n",
      "            single male, you are not allowed to adopt a girl, unless there are special circumstances to justify the adoption. This is in accordance with Section 4(3) of the ACA. If you are \n",
      "            married and intend to adopt alone, you must obtain the consent of your spouse. This is in accordance with Section 4(5) of the ACA.\n",
      "Home Study Report If you wish to adopt a foreign child or a child from MSF, you are required to apply for a Home Study Report.\n",
      "Pre-adoption Briefing You and your spouse should attend a compulsory Pre-Adoption Briefing (PAB) before you apply for a home study or begin the legal proceedings on adoption. For more information, refer to \n",
      "            Pre-Adoption Briefing.\n",
      "Endorsement from your home country (for non-Singapore Citizens who would like to adopt a foreign child) Non-Singapore citizens who wish to adopt a child in Singapore have to apply for a Letter of Approval to commence their Home Study Assessment. To do so, you need to obtain a Letter of Support (LOS) from your home country's Embassy/High Commission, indicating the following: The adopters meet the requirements of adoption under the laws of their own country.The adoption in Singapore will be recognised by the adopters' home country(s).The adopted child will be granted permanent stay in the adopters' home country(s).\n",
      "\n",
      "Letter of Support..pdf​​\n",
      "         \n",
      "\n",
      "\n",
      "In the event of a joint application by a married couple, both adopters have to obtain an LOS each, if they are of different nationalities.To apply for a Letter of Approval, please send the following to MSF_Adoption@msf.gov.sg:\n",
      "​​​​​​​Letter(s) of SupportCopies of applicants' identification documents (i.e. valid passport and immigration pass)Residential addressPeriod of residency in SingaporeFuture residency plans \n",
      " Please note that the application process will take about 1-2months, barring any complexities to the application.       \n",
      "    \n",
      "Adoption of a second and subsequent child Before you consider adopting another child, you are strongly encouraged to make sure that your first adopted child has adjusted and bonded well with your family and the environment. Introducing another new member to your family too soon can cause confusion and uncertainty for your child. You may also have to deal with sibling rivalry issues. You will be required to do a \n",
      "         second home study report on your current circumstances. The report assesses how ready you are to parent another child and will take into account the welfare of your first adopted child, parent-child bonding and your current family circumstances. You may have to wait for at least nine months from the date you adopted your first child (as indicated in the Adoption Order) before you can register for the second report. \n"
     ]
    }
   ],
   "source": [
    "source = 'msf'\n",
    "title = 'adoption'\n",
    "user_agent = {'User-agent' : 'Mozilla/5.0'}\n",
    "page = requests.get('https://www.msf.gov.sg/Adoption/Pages/Who-can-Adopt.aspx', headers=user_agent)\n",
    "soup = BeautifulSoup(page.text, 'lxml')\n",
    "tr_detailed_desc = soup.find_all(['div'],{'class':'contentWithSide'})\n",
    "# print (tr_detailed_desc)\n",
    "for text in tr_detailed_desc:\n",
    "    var = text.get_text()\n",
    "    print(var)\n",
    "    # with open('adoption_external.txt','a', encoding=\"utf-8\") as file:\n",
    "    #     file.write(var)"
   ]
  },
  {
   "cell_type": "code",
   "execution_count": 17,
   "metadata": {},
   "outputs": [
    {
     "name": "stdout",
     "output_type": "stream",
     "text": [
      "\n",
      "ADOPTION PROCE​SSBefore applying to the Family Court for the AdoptionStep 1 Attend Pre-Adoption Briefing​ The Pre-Adoption Briefing is compulsory. You must attend it before you identify a child to adopt or begin the adoption process.For more information, please refer to \n",
      "         Pre-Adoption Briefing.Step 2 Endorsement from your home country (for non-Singapore Citizen who would like to adopt a foreign child)Non-Singapore citizens who wish to adopt a child in Singapore have to apply for a Letter of Approval to commence their Home Study Assessment. To do so, you need to obtain a Letter of Support (LOS) from your home country's Embassy/High Commission, indicating the following:The adopters meet the requirements of adoption under the laws of your own country.The adoption in Singapore will be recognised by the adopters' home country(s).The adopted child will be granted permanent stay in the adopters' home country(s).In the event of a joint application by a married couple, both adopters have to obtain an LOS each, if they are of different nationalities.To apply for a Letter of Approval, please send the following to MSF_Adoption@msf.gov.sg:Letter(s) of SupportCopies of applicants' identification documents (i.e. valid passport and immigration pass)Residential addressPeriod of residency in SingaporeFuture residency plansMarriage certificatePlease note that the application process will take about 1-2months, barring any complexities to the application.Step 3 Identify a child to adoptYou can identify a child on your own or through MSF. For more information, please refer to \n",
      "         How do I find a child for adoption. If you are adopting your stepchild, please refer to \n",
      "         How to adopt a stepchild.Step 4 Obtain the Notarised Consent of the child's parents You must obtain the notarised consent of the parents or any of the following persons (if the parents are not available):the guardian of the child;the person who has the actual custody of the child;the person who is liable (i.e. has a duty) to support the child; orthe parents or guardian of the biological parent, if the biological parent is below 21 years old.As adoption involves the extinguishment of rights, duties, obligations and liabilities of the birth parents and the vesting of such rights, duties, obligations and liabilities in the adoptive parents as stipulated in Sections 7(a) and 7(b) of the Adoption of Children Act, efforts have to be made to obtain the birth parents' consent for the adoption. If you are unable to obtain the notarised consent of the relevant persons under (1) - (4) above, you have to apply to the Court to have their consent dispensed with. The Court may decide to dispense with the consent if there are special circumstances to justify this.Do note that establishing the consent from the birth parent(s) and/or the relevant person(s) will help address the risk of the adoption proceedings being contested should the birth parents gain knowledge of the adoption proceedings subsequently.You will need to provide an affidavit to Court detailing all the efforts made to locate the birth parent(s) and/or relevant person(s) via the following means:Social mediaMutual friendsRelativesLast place of residenceOther possible meansFor more information about the Consent from parents, please refer to the \n",
      "         Family Court website. Step 5 Obtain all identification documents of the child You must obtain and ensure that all documents with regards to the child’s identity are genuine. These documents include:Birth Certificate of childPassport of child (if child is a Permanent Resident)Step 6 Prepare an itemised breakdown of costs involved (if any) in obtaining the child Section 11 of the Adoption of Children Act restricts payment or any other reward in consideration of the adoption, except those with the sanction of the Court.If you have incurred cost during the transfer of the child (e.g. token of appreciation to parents, payment to an agency for the services rendered or any other parties), the Family Court requires you to provide a breakdown of the amount, with proof of original receipts.Applying to the Family Court for the AdoptionStep 7 Submit an application to the Family Court If you have completed steps 1 to 5, you can proceed to submit an application to the Family Court. You can do so in person or through a lawyer. For more information such as procedures to submit application and the required documents, \n",
      "         A Procedural Guide to Adoptions. Step 8 Court appoints a Guardian-In-Adoption for the child The Court will instruct you or your lawyer to seek consent from the Director-General of Social Welfare from the Ministry of Social and Family Development (MSF) to act as Guardian-In-Adoption (GIA) for the child during the adoption process. This is in accordance with Section 10 (3) of the ACA. The GIA has the duty of safeguarding the interest of the child being considered for adoption. The GIA conducts the necessary social investigations into the circumstances of the adoption application and submits an affidavit to the Family Court. This is in accordance with the Rule 7, Order 68 of Rules of Court. MSF will review your request for the Director-General of Social Welfare to be the GIA and issue the consent if it is accepted. When you have obtained the consent from MSF, you or your lawyer will have to submit it to the Family Court.The Family Court will then appoint the Director of Social Welfare as the GIA.In order for MSF to process your request for the Director-General of Social Welfare to be the GIA and issue the consent if it is accepted, please ensure that all the documents listed below are prepared before applying here​.​ \n",
      "Do note that only applications with complete set of forms and documents will be processed.Certificate of Attendance for Pre-Adoption Briefing (PAB), Prospective adopters must attend a compulsory PAB. You can register for this via the \n",
      "            Adoption Portal.Originating summons for adoptionAdoption statementAffidavit in support of the originating summonsConsent for adoption by natural parents and/or relevant person(s) (please refer to Step 4 above for more information).Birth certificate of the child to be adopted Dependant's Pass of the child to be adoptedApproval letter for Waiver of Home Study assessment (if applicable)GIA fee of $250 for per adoption application. This is payable via interbank funds transfer or PayNow. MSF’s bank account details and SGQR code are provided as follows: Bank Account Name: AG/MSF, Bank Account Type: DBS Current Account, Bank Account Number: 015-020294-7.Please indicate the Child's name and the OSA number for us to identify the payment.                                                                    Step 9 Attend interviews with MSF The GIA will appoint a Child Welfare Officer (CWO) from MSF to conduct the necessary interviews regarding your family and the child’s status and circumstances. You need to cooperate with the appointed CWO and provide the information asked. You need to attend all interviews at the MSF office or other premises as required, and also allow the CWO to visit your home. Upon completion of the investigation, MSF will prepare an affidavit (which is an assessment on the adoption application based on the findings of the social investigation) to the Family Court.Step 10 Apply for date of hearing MSF will send the affidavit to you or your lawyer when it is completed and notify the Family Court. You or your lawyer will submit the affidavit to the Family Court within 2 weeks and apply for a date of hearing. Step 11 Case Hearing You or your lawyer has to be present during the court hearing of the case. The Court may decide to call on other parties such as the CWO and the child's natural parents to be present during the hearing. Step 12 Registration or Return of the child after the Family Court hearing If the Family Court grants the Adoption Order, the Family Court will inform the Registry of Births & Deaths, Immigration and Checkpoints Authority (ICA) for the issuance of a new Birth Certificate for the child. You or your lawyer will receive a letter from ICA to collect the Birth Certificate. If the Court dismisses your application, you will have to return the child to his/her family at your own cost.\n"
     ]
    }
   ],
   "source": [
    "source = 'msf'\n",
    "title = 'adoption_sg'\n",
    "user_agent = {'User-agent' : 'Mozilla/5.0'}\n",
    "page = requests.get('https://www.msf.gov.sg/Adoption/Pages/How-to-adopt-a-citizen-or-PR.aspx', headers=user_agent)\n",
    "soup = BeautifulSoup(page.text, 'lxml')\n",
    "tr_detailed_desc = soup.find_all(['div'],{'class':'contentWithSide'})\n",
    "# print (tr_detailed_desc)\n",
    "for text in tr_detailed_desc:\n",
    "    var = text.get_text()\n",
    "    print(var)\n",
    "    # with open('adoption_external.txt','a', encoding=\"utf-8\") as file:\n",
    "    #     file.write(var)"
   ]
  },
  {
   "cell_type": "code",
   "execution_count": 18,
   "metadata": {},
   "outputs": [
    {
     "name": "stdout",
     "output_type": "stream",
     "text": [
      "\n",
      "ADOPTION PROCESSIf you intend to adopt a child from the People's Republic of China (PRC), you are required to comply with the requirements set out by the PRC, in addition to the requirements of Singapore. The adoption process will be longer as approval from the PRC authorities must be obtained and the adoption must be legalised in China before the child can be brought into Singapore to legalise the adoption here. Your presence is required in the PRC for the legalisation of the adoption in China. You may choose to adopt a PRC child who is: \n",
      "            from a social welfare institution in the PRC\n",
      "            your stepchild\n",
      "            related to you​Applications to adopt a child from the People’s Republic of China (PRC) must be made through agencies accredited by MSF and the Ministry of Civil Affairs of PRC. These agencies are: TOUCH Community Services LtdFei Yue Community ServicesBefore applying to the Family Court for the AdoptionStep 1 Check if you meet the criteria set by China Before you begin any adoption procedures, make sure you are able to fulfill the requirements set by the China Centre for Children's Welfare and Adoption (CCCWA).For more information, please refer to \n",
      "         Criteria for adoption of a PRC child. Step 2 Attend Pre-Adoption Briefing The Pre-Adoption Briefing is compulsory. You must attend it before you begin the adoption process.For more information, please refer to \n",
      "         Pre-Adoption Briefing.Step 3 Approach accredited agencies for advice You should approach one of the agencies accredited by MSF and the Ministry of Civil Affairs of PRC to handle adoption of children from PRC that is either TOUCH Community Services Ltd or Fei Yue Community Services. The agency will advise you on whether you meet the requirements of CCCWA and the children offered by CCCWA. The agency will also liaise with the CCCWA on your behalf.Step 4 Apply for a Home Study If you meet the CCCWA's requirements and you decide to adopt a PRC child, you can register for a home study with one of the accredited agencies.A Home Study assesses your family's readiness to care for an adopted child. It is conducted by professional social service staff from the accredited agencies. For more information, please refer to \n",
      "         Apply for Home Study Report.If you are adopting your PRC stepchild, you can apply for a waiver of the Home Study Report if you meet the residency requirements. For more information, please refer to this link. Step 5 Apply to China Centre for Children's Welfare and Adoption (CCCWA) When your home study is completed, the agency will authenticate the required documents with the Ministry of Foreign Affairs.The agency will then submit your adoption application, the Home Study Report and other required documents on your behalf to the CCCWA. You are required to pay for the additional translation and administrative fees that CCCWA charges.Step 6A To adopt a child from a social welfare institution in the PRC The agency will inform you of the outcome of your application. If your application is successful, the agency will inform you when a child is available for adoption. You are expected to accept the match by the CCCWA. Rejection will only be considered on medical grounds certified by doctors in the PRC.You are also required to be present in China to receive the child and legalise the adoption.After legalising the adoption in China and upon returning to Singapore with the PRC child, you have to submit an application for a Dependent's Pass for the child to MSF. You may then proceed with the adoption application to the Family Court in Singapore and all other adoption procedures for \n",
      "         adopting a foreign child will apply thereafter in Singapore.Step 6B To adopt your PRC Stepchild or a PRC child who is related to you   The agency will inform you of the outcome of your application. If your application is successful, you are required to be present in China with your stepchild to legalise the adoption. Upon legalising the adoption in China and upon returning to Singapore with the PRC child, you must make an application for a \n",
      "         Dependant's Pass for the child. A DP is not required for a child with Singapore Permanent Residency. You may then proceed with the adoption application to the Family Court and all other adoption procedures for \n",
      "         adopting a foreign child will apply thereafter in Singapore.Step 7 Post Placement Report (PPR)  CCCWA requires Post Placement Reports for the PRC adopted child. These reports are to be prepared by the accredited agencies and submitted to CCCWA.For stepchild and kinship adoption, you are required to undergo at least one post adoption assessment by the accredited agency within three years from the adoption registration in China.For those who adopt a child from the social welfare institution after 1 January 2015, you are required to complete 6 post placement reports at the sixth month, first year, second year, third year, fourth year and fifth year after the adoption registration in China. Please work closely with the accredited agency to complete the post adoption assessments.\n"
     ]
    }
   ],
   "source": [
    "source = 'msf'\n",
    "title = 'adoption-china'\n",
    "url = 'https://www.msf.gov.sg/Adoption/Pages/How-to-adopt-a-child-from-the-Peoples-Republic-of-China.aspx'\n",
    "page_title = '\\n' + source + '_' + title + ' ' + url + '\\n'\n",
    "user_agent = {'User-agent' : 'Mozilla/5.0'}\n",
    "page = requests.get(url, headers=user_agent)\n",
    "soup = BeautifulSoup(page.text, 'lxml')\n",
    "tr_detailed_desc = soup.find_all(['div'],{'class':'contentWithSide'})\n",
    "# print (tr_detailed_desc)\n",
    "for text in tr_detailed_desc:\n",
    "    var = text.get_text()\n",
    "    print(var)\n",
    "    # with open('adoption_external.txt','a', encoding=\"utf-8\") as file:\n",
    "    #     file.write(page_title)\n",
    "    #     file.write(var)"
   ]
  },
  {
   "cell_type": "code",
   "execution_count": 19,
   "metadata": {},
   "outputs": [
    {
     "name": "stdout",
     "output_type": "stream",
     "text": [
      "\n",
      "ADOPTION PROCESSBefore applying to the Family Court for the AdoptionStep 1 Attend Pre-Adoption Briefing The Pre-Adoption Briefing is compulsory. You must attend it before you identify a child to adopt or begin the adoption process. For more information, please refer to \n",
      "         Pre-Adoption Briefing.Step 2 Endorsement from your home country (for non-Singapore Citizen who would like to adopt a foreign child) Non-Singapore citizens who wish to adopt a child in Singapore have to apply for a Letter of Approval to commence their Home Study Assessment. To do so, you need to obtain a Letter of Support (LOS) from your home country's Embassy/High Commission, indicating the following:\n",
      "The adopters meet the requirements of adoption under the laws of your own country.The adoption in Singapore will be recognised by the adopters' home country(s).The adopted child will be granted permanent stay in the adopters' home country(s).\n",
      "In the event of a joint application by a married couple, both adopters have to obtain an LOS each, if they are of different nationalities.To apply for a Letter of Approval, please send the following to MSF_Adoption@msf.gov.sg:\n",
      "Letter(s) of SupportCopies of applicants' identification documents (i.e. valid passport and immigration pass>Residential addressPeriod of residency in SingaporeFuture residency plansMarriage certificate\n",
      " Please note that the application process will take about 1-2months, barring any complexities to the application. \n",
      "      Step 3 Apply for a Home Study A Home Study assesses your family's readiness to care for an adopted child. It is conducted by professional social service staff from voluntary welfare organisations accredited by MSF. If you wish to apply for a non Singapore citizen child, you need to obtain a Home Study Report first. For application of a Home Study, please refer to \n",
      "         Apply for Home Study Report. In the interest of the child, it is important that the prospective adopter(s) be assessed to be suitable and ready to adopt a child. As such, adoption applicants are only allowed to source for a child after obtaining a favourable HSR. There may be implications on the adoption application if the applicants do not adhere to this regulation. Applicants may have a foreign child under their care only after obtaining the following documents: \n",
      "i. A favourable HSR and\n",
      "ii. An In-Principle Approval letter for the said child’s Dependant’s Pass applicationStep 4 Identify a child to adopt You can identify a child on your own.If you are adopting your stepchild, please refer to \n",
      "         How to adopt a stepchild.Step 5 Obtain the Notarised Consent of the child's parents You must obtain the notarised consent of the parents or any of the following persons (if the parents are not available): the guardian of the child;the person who has the actual custody of the child;the person who is liable (i.e. has a duty) to support the child; orthe parents or guardian of the biological parent, if the biological parent is below 21 years old.As adoption involves the extinguishment of rights, duties, obligations and liabilities of the birth parents and the vesting of such rights, duties, obligations and liabilities in the adoptive parents as stipulated in Sections 7(a) and 7(b) of the Adoption of Children Act, efforts have to be made to obtain the birth parents' consent for the adoption. If you are unable to obtain the notarised consent of the relevant persons under (1) - (4) above, you have to apply to the Court to have their consent dispensed with. The Court may decide to dispense with the consent if there are special circumstances to justify this.Do note that establishing the consent from the birth parent(s) and/or the relevant person(s) will help address the risk of the adoption proceedings being contested should the birth parents gain knowledge of the adoption proceedings subsequently.You will need to provide an affidavit to Court detailing all the efforts made to locate the birth parent(s) and/or relevant person(s) via the following means:Social mediaMutual friendsRelativesLast place of residenceOther possible meansFor more information about the Consent from parents, please refer to the \n",
      "         Family Court website. Step 6 Obtain all identification documents of the child You must obtain and ensure that all documents with regards to the child's identity are genuine. These documents include:Birth Certificate of childPassport of childStep 7 Apply for Dependant's Pass A Dependant's Pass (DP) is required for a foreign child to be considered a resident of Singapore. You need to apply to MSF for a Dependant’s Pass for the child, so that he or she will be allowed to enter and remain in Singapore until the adoption is finalised. The application for a DP must be accompanied by a favourable home study report. You are also required to place a security deposit ranging from $1,000 to $2,000 on the day you collect the DP. As of 1 May 2020, security deposit will not be required if the foreign child is your spouse's or your biological child.For more information, please refer to \n",
      "         Apply for Dependant's Pass.Step 8 Prepare an itemised breakdown of costs involved (if any) in obtaining the child Section 11 of the Adoption of Children Act restricts payment or any other reward in consideration of the adoption, except with the sanction of the Court. If you have incurred cost during the transfer of the child (e.g. token of appreciation to parents, payment to an agency for the services rendered or any other parties, the Family Court requires you to provide a breakdown of the amount with proof of original receipts. Applying to the Family Court for the AdoptionStep 9 Submit an application to the Family Court If you have completed steps 1 to 7, you can proceed to submit an application to the Family Justice Court within 3 weeks of DP collection​. You can do so in person or through a lawyer. For more information on procedures ​relating​ to the submission of applications ​and the required ​documents​, you can refer to \n",
      "         A Procedural Guide to Adoptions.Step 10 Court appoints a Guardian-In-Adoption for the child The Court will instruct you or your lawyer to seek consent from the Director-General of Social Welfare from MSF to act as Guardian-In-Adoption (GIA) for the child during the adoption process. This is in accordance with Section 10 (3) of the ACA. The GIA has the duty of safeguarding the interest of the child before the Court. The GIA conducts the necessary social investigations into the circumstances of the adoption application with a view to safeguard the interest of the child and submits an affidavit to the Family Court. This is in accordance with the Rule 7, Order 68 of Rules of Court.MSF will review your request for the Director-General of Social Welfare to be the GIA and issue the consent if it is accepted. When you have obtained the consent from MSF, you or your lawyer will have to submit it to the Family Court. The Family Court will then appoint the Director-General of Social Welfare as the GIA.In order for MSF to process your request for the Director-General of Social Welfare to be the GIA and issue the consent if it is accepted, please ensure that all the documents listed below are prepared before applying here​. ​\n",
      "Do note that only applications with complete set of forms and documents will be processed.Certificate of Attendance for Pre-Adoption Briefing (PAB), Prospective adopters must attend a compulsory PAB. You can register for this via the \n",
      "            Adoption Portal.Originating summons for adoptionAdoption statement Affidavit in support of the originating summons Consent for adoption by natural parents and/or relevant person(s) (please refer to Step 4 above for more information) Birth certificate of the child to be adopted    Dependant's Pass of the child to be adopted (if applicable)Approval letter for Waiver of Home Study assessment (if applicable)GIA fee of $250 per adoption application. This is payable via interbank funds transfer or PayNow. MSF’s bank account details and SGQR code are provided as follows: Bank Account Name: AG/MSF, Bank Account Type: DBS Current Account, Bank Account Number: 015-020294-7.Please indicate the Child's name and the OSA number for us to identify the payment \n",
      "            \n",
      " Step 11 Attend interviews with MSF The GIA will appoint a Child Welfare Officer (CWO) from MSF to conduct the necessary interviews regarding your family and the child’s status and circumstances. You need to cooperate with the appointed CWO and provide the information asked. You need to attend all interviews at the MSF office or other premises as required, and also allow the CWO to visit your home. Upon completion of the investigation, MSF will prepare an affidavit to the Family Court. Step 12 Apply for date of hearing MSF will send the affidavit to you or your lawyer when it is completed and notify the Family Court. You or your lawyer will submit the affidavit to the Family Court within 2 weeks and apply for a date of hearing. Step 13 Case Hearing You or your lawyer has to be present during the court hearing of the case. The Court may decide to call on other parties such as the CWO and the child's parents to be present during the hearing. The Court may choose to make a decision or adjourn the case for further information on the adoption application at the hearing. Step 14 Outcome of the Family Court hearing If the Family Court grants the Adoption Order, the Family Court will inform the Registry of Births & Deaths, Immigration and Checkpoints Authority (ICA) for the issuance of Birth Certificate. You or your lawyer will receive a letter from ICA to collect the Birth Certificate. You will have to apply separately to ICA if you intend to apply for Singapore Citizenship for the child. If the Court dismisses your adoption application, you will have to return the child to his/her family at your own cost. Step 15 Refund of the security deposit for your child's Dependant's Pass If the Adoption Order is granted, you are to submit a copy of the child's new Singapore Birth Certificate to MSF for the refund of the security deposit. If the Court rejects your application, you are required to return the Dependant's Pass to MSF for cancellation. You will receive the refund within two months after submission of the relevant documents (if Adoption Order is passed) or the Dependant’s Pass (if the Family Court had dismissed the adoption application).  For more information, please refer to \n",
      "      Apply for Dependant's Pass. \n"
     ]
    }
   ],
   "source": [
    "source = 'msf'\n",
    "title = 'adoption-foreign'\n",
    "url = 'https://www.msf.gov.sg/Adoption/Pages/How-to-adopt-a-foreign-child-excluding-children-from-the-Peoples-Republic-of-China.aspx'\n",
    "page_title = '\\n\\n' + source + '_' + title + ' ' + url\n",
    "user_agent = {'User-agent' : 'Mozilla/5.0'}\n",
    "page = requests.get(url, headers=user_agent)\n",
    "soup = BeautifulSoup(page.text, 'lxml')\n",
    "tr_detailed_desc = soup.find_all(['div'],{'class':'contentWithSide'})\n",
    "# print (tr_detailed_desc)\n",
    "for text in tr_detailed_desc:\n",
    "    var = text.get_text()\n",
    "    print(var)\n",
    "    # with open('adoption_external.txt','a', encoding=\"utf-8\") as file:\n",
    "    #     file.write(page_title)\n",
    "    #     file.write(var)"
   ]
  },
  {
   "cell_type": "code",
   "execution_count": 21,
   "metadata": {},
   "outputs": [],
   "source": [
    "source = 'sso'\n",
    "title = 'adoption-of-children-act-1939'\n",
    "url = 'https://sso.agc.gov.sg/Act/ACA1939'\n",
    "page_title = '\\n\\n' + source + '_' + title + ' ' + url\n",
    "user_agent = {'User-agent' : 'Mozilla/5.0'}\n",
    "page = requests.get(url, headers=user_agent)\n",
    "soup = BeautifulSoup(page.text, 'lxml')\n",
    "tr_detailed_desc = soup.find_all(['div'],{'class':'legis'})\n",
    "# print (tr_detailed_desc)\n",
    "for text in tr_detailed_desc:\n",
    "    var = text.get_text()\n",
    "    # print(var)\n",
    "    # with open('adoption_external.txt','a', encoding=\"utf-8\") as file:\n",
    "    #     file.write(page_title)\n",
    "    #     file.write(var)"
   ]
  },
  {
   "cell_type": "code",
   "execution_count": 23,
   "metadata": {},
   "outputs": [],
   "source": [
    "source = 'sso'\n",
    "title = 'family-justice-act-2014'\n",
    "url = 'https://sso.agc.gov.sg/Act/FJA2014'\n",
    "page_title = '\\n\\n' + source + '_' + title + ' ' + url\n",
    "user_agent = {'User-agent' : 'Mozilla/5.0'}\n",
    "page = requests.get(url, headers=user_agent)\n",
    "soup = BeautifulSoup(page.text, 'lxml')\n",
    "tr_detailed_desc = soup.find_all(['div'],{'class':'legis'})\n",
    "# print (tr_detailed_desc)\n",
    "for text in tr_detailed_desc:\n",
    "    var = text.get_text()\n",
    "    # print(var)\n",
    "    # with open('adoption_external.txt','a', encoding=\"utf-8\") as file:\n",
    "    #     file.write(page_title)\n",
    "    #     file.write(var)"
   ]
  },
  {
   "cell_type": "code",
   "execution_count": 31,
   "metadata": {},
   "outputs": [],
   "source": [
    "source = 'family-justice-courts'\n",
    "title = 'practice-directions-adoption'\n",
    "url = 'https://epd.familyjusticecourts.gov.sg/Part%2008-Adoption%20of%20Children.html'\n",
    "page_title = '\\n\\n' + source + '_' + title + ' ' + url\n",
    "user_agent = {'User-agent' : 'Mozilla/5.0'}\n",
    "page = requests.get(url, headers=user_agent)\n",
    "soup = BeautifulSoup(page.text, 'lxml')\n",
    "tr_detailed_desc = soup.find_all(['p'],{'id':'main-content'})\n",
    "# print (tr_detailed_desc)\n",
    "for text in tr_detailed_desc:\n",
    "    var = text.get_text()\n",
    "    # print(var)\n",
    "    # with open('adoption_external.txt','a', encoding=\"utf-8\") as file:\n",
    "    #     file.write(page_title)\n",
    "    #     file.write(var)\n",
    "# print(page_title)"
   ]
  },
  {
   "cell_type": "code",
   "execution_count": null,
   "metadata": {},
   "outputs": [],
   "source": []
  },
  {
   "cell_type": "code",
   "execution_count": null,
   "metadata": {},
   "outputs": [],
   "source": []
  }
 ],
 "metadata": {
  "kernelspec": {
   "display_name": "Python 3",
   "language": "python",
   "name": "python3"
  },
  "language_info": {
   "codemirror_mode": {
    "name": "ipython",
    "version": 3
   },
   "file_extension": ".py",
   "mimetype": "text/x-python",
   "name": "python",
   "nbconvert_exporter": "python",
   "pygments_lexer": "ipython3",
   "version": "3.8.10"
  },
  "orig_nbformat": 4,
  "vscode": {
   "interpreter": {
    "hash": "a045168fa5d23a35a016377cbad9cdf47ee7aa21ad8a22c65b158e0c876ea015"
   }
  }
 },
 "nbformat": 4,
 "nbformat_minor": 2
}
