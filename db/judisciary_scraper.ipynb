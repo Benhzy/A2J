{
 "cells": [
  {
   "cell_type": "code",
   "execution_count": 1,
   "metadata": {},
   "outputs": [
    {
     "name": "stderr",
     "output_type": "stream",
     "text": [
      "c:\\Users\\PSG3\\anaconda3\\lib\\site-packages\\fuzzywuzzy\\fuzz.py:11: UserWarning: Using slow pure-python SequenceMatcher. Install python-Levenshtein to remove this warning\n",
      "  warnings.warn('Using slow pure-python SequenceMatcher. Install python-Levenshtein to remove this warning')\n"
     ]
    }
   ],
   "source": [
    "from urllib.request import urlopen as uReq #urllib will get the page itself\n",
    "from bs4 import BeautifulSoup\n",
    "import numpy as np\n",
    "import pandas as pd\n",
    "import re\n",
    "import nltk\n",
    "import heapq\n",
    "import requests\n",
    "import sys\n",
    "from fuzzywuzzy import fuzz\n",
    "from fuzzywuzzy import process\n",
    "import wikipedia\n",
    "from selenium import webdriver\n",
    "import os\n",
    "import urllib.request\n",
    "import urllib.parse\n",
    "from tqdm import tqdm"
   ]
  },
  {
   "cell_type": "code",
   "execution_count": 2,
   "metadata": {},
   "outputs": [],
   "source": [
    "therapeutic_justice_type = []"
   ]
  },
  {
   "cell_type": "code",
   "execution_count": 3,
   "metadata": {},
   "outputs": [
    {
     "data": {
      "text/plain": [
       "{'Adoption': ['Adoption is the process where parties apply to become the adoptive parents of a child. The Family Courts hear applications for adoption orders.',\n",
       "  '/family/adoption'],\n",
       " 'Care and protection for children and young persons': ['The Youth Courts may make care and protection orders to ensure that children in need of care and protection are safe.',\n",
       "  '/family/care-protection-children-young-persons'],\n",
       " 'Divorce': ['An application for divorce is a legal procedure to end a marriage. The Family Courts hear divorce applications.',\n",
       "  '/family/divorce'],\n",
       " 'Deputyship': ['The Family Courts can appoint a deputy to make decisions for a person who lacks mental capacity. Find out what it means and the ways to apply.',\n",
       "  '/family/deputyship'],\n",
       " 'Direct judicial communication for international family proceedings affecting children': ['Information for judges in other jurisdictions on whom to contact regarding direct judicial communication with the Family Justice Courts for international family proceedings affecting children.',\n",
       "  '/family/direct-judicial-communication'],\n",
       " 'Family Justice Courts appeals': [\"A party who is not satisfied with the court's decision in their Family Justice Courts case may file an appeal. \",\n",
       "  '/family/appeal'],\n",
       " 'Family guidance for children and young persons': ['Family guidance orders provide assistance to parents with children under 16 years old who display serious behavioural challenges. ',\n",
       "  '/family/family-guidance-children-young-persons'],\n",
       " 'Guardianship': ['Guardianship gives a person the legal responsibility to care for a child below 21 years of age.',\n",
       "  '/family/guardianship'],\n",
       " 'International child abduction': ['Parties may apply under the International Child Abduction Act for the return of their child, who has been removed from a country where the child ordinarily resides in to another country.',\n",
       "  '/family/international-child-abduction'],\n",
       " 'Probate and administration': ['The Family Justice Courts can appoint a person to manage the estate of a deceased individual through a grant of probate or letters of administration. ',\n",
       "  '/family/probate-and-administration'],\n",
       " 'Protection against family violence': ['A personal protection order is a court order restraining a family member from committing violence against another family member.',\n",
       "  '/family/protection-against-family-violence'],\n",
       " 'Protection for vulnerable adults': ['The Family Courts can make orders to protect a vulnerable adult from abuse, neglect or self-neglect. Find out which cases qualify and the application process.',\n",
       "  '/family/protection-for-vulnerable-adults'],\n",
       " 'Maintenance': ['The law generally requires certain parties to provide support to their family members. This support, known as maintenance, is financial in nature.',\n",
       "  '/family/maintenance'],\n",
       " 'Mediation and counselling in the Family Justice Courts': ['Parties involved in certain cases heard in the Family Justice Courts may be directed to the Family Dispute Resolution Division to resolve their disputes.',\n",
       "  '/family/mediation-counselling-in-family-justice-courts'],\n",
       " 'Syariah Court orders': ['A party may enforce certain Syariah Court orders in the Family Justice Courts against another party who breached them. Find out what to expect. ',\n",
       "  '/family/syariah-court-orders']}"
      ]
     },
     "execution_count": 3,
     "metadata": {},
     "output_type": "execute_result"
    }
   ],
   "source": [
    "website = 'https://www.judiciary.gov.sg/family'\n",
    "user_agent = {'User-agent' : 'Mozilla/5.0'}\n",
    "page = requests.get(website, headers=user_agent)\n",
    "soup = BeautifulSoup(page.text, 'lxml')\n",
    "fact_cards = soup.find_all('a', {'class': 'nav-link'})\n",
    "tj_dict = {}\n",
    "all_types = []\n",
    "\n",
    "for fact_card in fact_cards[8:]:\n",
    "    tj_type = fact_card.get_text().split('\\n')[1]\n",
    "    tj_desc = fact_card.get_text().split('\\n')[2]\n",
    "    tj_link = fact_card['href']\n",
    "    tj_dict[tj_type] = [tj_desc, tj_link]\n",
    "    all_types.append(tj_type)\n",
    "\n",
    "tj_dict"
   ]
  },
  {
   "cell_type": "code",
   "execution_count": 4,
   "metadata": {},
   "outputs": [],
   "source": [
    "# link_dict = {}\n",
    "# for type in all_types:\n",
    "#     next_page = 'https://www.judiciary.gov.sg' + tj_dict[type][1]\n",
    "#     page = requests.get(next_page, headers=user_agent)\n",
    "#     soup = BeautifulSoup(page.text, 'lxml')\n",
    "#     tr_detailed_desc = soup.find_all('div', {'class': 'acc-panel'})\n",
    "#     for desc in tr_detailed_desc:\n",
    "#         for link in desc.find_all('a'):\n",
    "#             link_dict[link.string] = link['href']   \n",
    "# print(link_dict)\n",
    "\n"
   ]
  },
  {
   "cell_type": "code",
   "execution_count": 5,
   "metadata": {},
   "outputs": [],
   "source": [
    "\n",
    "# for type in all_types:\n",
    "#     next_page = 'https://www.judiciary.gov.sg' + tj_dict[type][1]\n",
    "#     page = requests.get(next_page, headers=user_agent)\n",
    "#     soup = BeautifulSoup(page.text, 'lxml')\n",
    "#     tr_detailed_desc = soup.find_all('div', {'class': 'acc-panel'})\n",
    "#     for desc in tr_detailed_desc:\n",
    "#         desc_text = desc.get_text()\n",
    "#         for linktext, link in link_dict.items():\n",
    "#             if linktext in desc_text:\n",
    "#                 desc_text = desc_text.replace(linktext, link)\n",
    "#         print(desc_text)\n",
    "#         print(\"---------------------------------------------------------\")\n",
    "        "
   ]
  },
  {
   "cell_type": "code",
   "execution_count": 23,
   "metadata": {},
   "outputs": [
    {
     "name": "stdout",
     "output_type": "stream",
     "text": [
      "Adoption\n",
      "Care and protection for children and young persons\n",
      "Divorce\n",
      "Deputyship\n",
      "Direct judicial communication for international family proceedings affecting children\n",
      "Family Justice Courts appeals\n",
      "Family guidance for children and young persons\n",
      "Guardianship\n",
      "International child abduction\n",
      "Probate and administration\n",
      "Protection against family violence\n",
      "Protection for vulnerable adults\n",
      "Maintenance\n",
      "Mediation and counselling in the Family Justice Courts\n",
      "Syariah Court orders\n"
     ]
    }
   ],
   "source": [
    "desc_dict = {}\n",
    "tdesc_dict = {}\n",
    "ndesc_dict = {}\n",
    "ddesc_dict = {}\n",
    "link_dict = {}\n",
    "nav_link_list = []\n",
    "\n",
    "for type in all_types:\n",
    "    with open(type + \".txt\", \"w\") as f:\n",
    "        print(type)\n",
    "        next_page = 'https://www.judiciary.gov.sg' + tj_dict[type][1]\n",
    "        page = requests.get(next_page, headers=user_agent)\n",
    "        soup = BeautifulSoup(page.text, 'lxml')\n",
    "        accr_desc = soup.find_all('div', {'class': 'accordion-wrapper'})\n",
    "        for desc in accr_desc:\n",
    "            desc_text = desc.get_text()\n",
    "            for link in desc.find_all('a'):\n",
    "                # desc_dict[link.string] = link['href']\n",
    "                link_dict[link.string] = link['href']\n",
    "            f.write(desc_text)\n",
    "            f.write('\\n')\n",
    "\n",
    "        if type ==\"Adoption\" or type == \"Protection for vulnerable adults\" :\n",
    "            timeline_desc = soup.find_all('div', {'class': 'timeline'})\n",
    "            for t_desc in timeline_desc:\n",
    "                timeline_text = t_desc.get_text()\n",
    "                for link in t_desc.find_all('a'):\n",
    "                    # tdesc_dict[link.string] = link['href']\n",
    "                    link_dict[link.string] = link['href']\n",
    "                f.write(timeline_text)\n",
    "                f.write('\\n')\n",
    "\n",
    "        elif type == \"Care and protection for children and young persons\" or type == \"Guardianship\":\n",
    "            nav_desc = soup.find_all('li', {'class': 'nav-item w-100'})\n",
    "            for n_desc in nav_desc:\n",
    "                nav_text = n_desc.get_text()\n",
    "                for link in n_desc.find_all('a'):\n",
    "                    # ndesc_dict[nav_text.replace(\"\\n\", \"\")] = link['href']\n",
    "                    link_dict[link.string] = link['href']\n",
    "                f.write(nav_text)\n",
    "                f.write('\\n')\n",
    "\n",
    "        else:\n",
    "            div_desc = soup.find_all('div', {'class': 'row'})\n",
    "            if type != \"Direct judicial communication for international family proceedings affecting children\" and type != \"Syariah Court orders\":\n",
    "                type_list = []\n",
    "                for d_desc in div_desc[:-2]:\n",
    "                    div_text = d_desc.get_text()\n",
    "                    type_list.append(list(filter(None,div_text.split(\"\\n\"))))\n",
    "                    for link in d_desc.find_all('a'):\n",
    "                        # ddesc_dict[link.string] = link['href']\n",
    "                        link_dict[link.string] = link['href']\n",
    "                        nav_link_list.append(link['href'])\n",
    "                    f.write(div_text)\n",
    "                    f.write('\\n')"
   ]
  },
  {
   "cell_type": "code",
   "execution_count": 35,
   "metadata": {},
   "outputs": [
    {
     "name": "stdout",
     "output_type": "stream",
     "text": [
      "Adoption\n",
      "Care and protection for children and young persons\n",
      "Divorce\n",
      "Deputyship\n",
      "Direct judicial communication for international family proceedings affecting children\n",
      "Family Justice Courts appeals\n",
      "Family guidance for children and young persons\n",
      "Guardianship\n",
      "International child abduction\n",
      "Probate and administration\n",
      "Protection against family violence\n",
      "Protection for vulnerable adults\n",
      "Maintenance\n",
      "Mediation and counselling in the Family Justice Courts\n",
      "Syariah Court orders\n"
     ]
    }
   ],
   "source": [
    "for type in all_types:\n",
    "    with open(type + \".txt\", \"w\") as f:\n",
    "        print(type)\n",
    "        next_page = 'https://www.judiciary.gov.sg' + tj_dict[type][1]\n",
    "        page = requests.get(next_page, headers=user_agent)\n",
    "        soup = BeautifulSoup(page.text, 'lxml')\n",
    "        content_desc = soup.find_all('div', {'class': 'sf-content-block'})\n",
    "        accr_desc = soup.find_all('div', {'class': 'accordion-wrapper'})\n",
    "        # This gets everything in a page, including the p and ul tags\n",
    "        for desc in content_desc[:-6]:\n",
    "            desc_text = desc.get_text()\n",
    "            f.write(desc_text)\n",
    "            f.write('\\n')\n",
    "            for link in desc.find_all('a'):\n",
    "                desc_dict[link.string] = link['href']\n",
    "            for n in desc.find_all('div', {'class': 'note'}):\n",
    "                note = n.get_text()\n",
    "                f.write(note)\n",
    "                f.write('\\n')\n",
    "\n",
    "        # This gets everything in the accordion\n",
    "        for desc in accr_desc:\n",
    "            desc_text = desc.get_text()\n",
    "            for link in desc.find_all('a'):\n",
    "                # desc_dict[link.string] = link['href']\n",
    "                link_dict[link.string] = link['href']\n",
    "            \n",
    "        if type ==\"Adoption\" or type == \"Protection for vulnerable adults\" :\n",
    "            timeline_desc = soup.find_all('div', {'class': 'timeline'})\n",
    "            for t_desc in timeline_desc:\n",
    "                timeline_text = t_desc.get_text()\n",
    "                for link in t_desc.find_all('a'):\n",
    "                    # tdesc_dict[link.string] = link['href']\n",
    "                    link_dict[link.string] = link['href']\n",
    "                f.write(timeline_text)\n",
    "                f.write('\\n')\n",
    "\n",
    "        elif type == \"Care and protection for children and young persons\" or type == \"Guardianship\":\n",
    "            nav_desc = soup.find_all('li', {'class': 'nav-item w-100'})\n",
    "            for n_desc in nav_desc:\n",
    "                nav_text = n_desc.get_text()\n",
    "                for link in n_desc.find_all('a'):\n",
    "                    # ndesc_dict[nav_text.replace(\"\\n\", \"\")] = link['href']\n",
    "                    link_dict[link.string] = link['href']\n",
    "                f.write(nav_text)\n",
    "                f.write('\\n')\n",
    "\n",
    "        else:\n",
    "            div_desc = soup.find_all('div', {'class': 'row'})\n",
    "            if type != \"Direct judicial communication for international family proceedings affecting children\" and type != \"Syariah Court orders\":\n",
    "                type_list = []\n",
    "                for d_desc in div_desc[:-2]:\n",
    "                    div_text = d_desc.get_text()\n",
    "                    type_list.append(list(filter(None,div_text.split(\"\\n\"))))\n",
    "                    for link in d_desc.find_all('a'):\n",
    "                        # ddesc_dict[link.string] = link['href']\n",
    "                        link_dict[link.string] = link['href']\n",
    "                        nav_link_list.append(link['href'])\n",
    "                    f.write(div_text)\n",
    "                    f.write('\\n')"
   ]
  },
  {
   "cell_type": "code",
   "execution_count": 22,
   "metadata": {},
   "outputs": [
    {
     "data": {
      "text/plain": [
       "['/family/understand-requirements-getting-divorce',\n",
       " '/family/file-divorce-application-simplified-track',\n",
       " '/family/file-divorce-application-normal-track',\n",
       " '/family/respond-divorce-application-normal-track',\n",
       " '/family/going-to-court-divorce-application',\n",
       " '/family/before-applying-to-be-deputy',\n",
       " '/family/file-simplified-deputyship-application',\n",
       " '/family/file-deputyship-application-standard',\n",
       " '/family/going-to-court-deputyship',\n",
       " '/family/object-to-deputyship-application',\n",
       " '/family/appeal-against-decision-by-family-courts-judge',\n",
       " '/family/appeal-against-decision-by-youth-courts',\n",
       " '/family/family-guidance-orders-overview',\n",
       " '/family/apply-family-guidance-order',\n",
       " '/family/family-guidance-order-application-hearing',\n",
       " '/family/file-international-child-abduction-application',\n",
       " '/family/respond-international-child-abduction-application',\n",
       " '/family/going-to-court-international-child-abduction-application',\n",
       " '/family/apply-for-probate',\n",
       " '/family/apply-for-letters-of-administration',\n",
       " '/family/file-supporting-documents-probate-or-administration',\n",
       " '/family/going-to-court-for-probate-or-administration-hearing',\n",
       " '/family/apply-to-extract-probate-or-administration-grant',\n",
       " '/family/apply-personal-protection-order',\n",
       " '/family/respond-personal-protection-order-application',\n",
       " '/family/going-to-court-personal-protection-order-application',\n",
       " '/family/file-maintenance-application',\n",
       " '/family/maintenance/respond-maintenance-application',\n",
       " '/family/going-to-court-maintenance-application',\n",
       " '/family/attend-maintenance-mediation',\n",
       " '/family/outcomes-of-maintenance-application',\n",
       " '/family/mediation-at-family-dispute-resolution-division',\n",
       " '/family/counselling-psychological-services']"
      ]
     },
     "execution_count": 22,
     "metadata": {},
     "output_type": "execute_result"
    }
   ],
   "source": [
    "nav_link_list"
   ]
  }
 ],
 "metadata": {
  "kernelspec": {
   "display_name": "Python 3",
   "language": "python",
   "name": "python3"
  },
  "language_info": {
   "codemirror_mode": {
    "name": "ipython",
    "version": 3
   },
   "file_extension": ".py",
   "mimetype": "text/x-python",
   "name": "python",
   "nbconvert_exporter": "python",
   "pygments_lexer": "ipython3",
   "version": "3.8.3"
  },
  "orig_nbformat": 4,
  "vscode": {
   "interpreter": {
    "hash": "747d2ce94befc444b26ce8ac4106bd565fa9a7adb29f4c71228a18318693a3de"
   }
  }
 },
 "nbformat": 4,
 "nbformat_minor": 2
}
