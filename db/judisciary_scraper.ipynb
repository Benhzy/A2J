{
 "cells": [
  {
   "cell_type": "code",
   "execution_count": 13,
   "metadata": {},
   "outputs": [],
   "source": [
    "from urllib.request import urlopen as uReq #urllib will get the page itself\n",
    "from bs4 import BeautifulSoup\n",
    "import numpy as np\n",
    "import pandas as pd\n",
    "import re\n",
    "import nltk\n",
    "import heapq\n",
    "import requests\n",
    "import sys\n",
    "from fuzzywuzzy import fuzz\n",
    "from fuzzywuzzy import process\n",
    "import wikipedia\n",
    "from selenium import webdriver\n",
    "import os\n",
    "import urllib.request\n",
    "import urllib.parse\n",
    "from tqdm import tqdm"
   ]
  },
  {
   "cell_type": "code",
   "execution_count": 14,
   "metadata": {},
   "outputs": [],
   "source": [
    "therapeutic_justice_type = []"
   ]
  },
  {
   "cell_type": "code",
   "execution_count": 15,
   "metadata": {},
   "outputs": [
    {
     "data": {
      "text/plain": [
       "{'Adoption': ['Adoption is the process where parties apply to become the adoptive parents of a child. The Family Courts hear applications for adoption orders.',\n",
       "  '/family/adoption'],\n",
       " 'Care and protection for children and young persons': ['The Youth Courts may make care and protection orders to ensure that children in need of care and protection are safe.',\n",
       "  '/family/care-protection-children-young-persons'],\n",
       " 'Divorce': ['An application for divorce is a legal procedure to end a marriage. The Family Courts hear divorce applications.',\n",
       "  '/family/divorce'],\n",
       " 'Deputyship': ['The Family Courts can appoint a deputy to make decisions for a person who lacks mental capacity. Find out what it means and the ways to apply.',\n",
       "  '/family/deputyship'],\n",
       " 'Direct judicial communication for international family proceedings affecting children': ['Information for judges in other jurisdictions on whom to contact regarding direct judicial communication with the Family Justice Courts for international family proceedings affecting children.',\n",
       "  '/family/direct-judicial-communication'],\n",
       " 'Family Justice Courts appeals': [\"A party who is not satisfied with the court's decision in their Family Justice Courts case may file an appeal. \",\n",
       "  '/family/appeal'],\n",
       " 'Family guidance for children and young persons': ['Family guidance orders provide assistance to parents with children under 16 years old who display serious behavioural challenges. ',\n",
       "  '/family/family-guidance-children-young-persons'],\n",
       " 'Guardianship': ['Guardianship gives a person the legal responsibility to care for a child below 21 years of age.',\n",
       "  '/family/guardianship'],\n",
       " 'International child abduction': ['Parties may apply under the International Child Abduction Act for the return of their child, who has been removed from a country where the child ordinarily resides in to another country.',\n",
       "  '/family/international-child-abduction'],\n",
       " 'Probate and administration': ['The Family Justice Courts can appoint a person to manage the estate of a deceased individual through a grant of probate or letters of administration. ',\n",
       "  '/family/probate-and-administration'],\n",
       " 'Protection against family violence': ['A personal protection order is a court order restraining a family member from committing violence against another family member.',\n",
       "  '/family/protection-against-family-violence'],\n",
       " 'Protection for vulnerable adults': ['The Family Courts can make orders to protect a vulnerable adult from abuse, neglect or self-neglect. Find out which cases qualify and the application process.',\n",
       "  '/family/protection-for-vulnerable-adults'],\n",
       " 'Maintenance': ['The law generally requires certain parties to provide support to their family members. This support, known as maintenance, is financial in nature.',\n",
       "  '/family/maintenance'],\n",
       " 'Mediation and counselling in the Family Justice Courts': ['Parties involved in certain cases heard in the Family Justice Courts may be directed to the Family Dispute Resolution Division to resolve their disputes.',\n",
       "  '/family/mediation-counselling-in-family-justice-courts'],\n",
       " 'Syariah Court orders': ['A party may enforce certain Syariah Court orders in the Family Justice Courts against another party who breached them. Find out what to expect. ',\n",
       "  '/family/syariah-court-orders']}"
      ]
     },
     "execution_count": 15,
     "metadata": {},
     "output_type": "execute_result"
    }
   ],
   "source": [
    "website = 'https://www.judiciary.gov.sg/family'\n",
    "user_agent = {'User-agent' : 'Mozilla/5.0'}\n",
    "page = requests.get(website, headers=user_agent)\n",
    "soup = BeautifulSoup(page.text, 'lxml')\n",
    "fact_cards = soup.find_all('a', {'class': 'nav-link'})\n",
    "tj_dict = {}\n",
    "all_types = []\n",
    "\n",
    "for fact_card in fact_cards[8:]:\n",
    "    tj_type = fact_card.get_text().split('\\n')[1]\n",
    "    tj_desc = fact_card.get_text().split('\\n')[2]\n",
    "    tj_link = fact_card['href']\n",
    "    tj_dict[tj_type] = [tj_desc, tj_link]\n",
    "    all_types.append(tj_type)\n",
    "\n",
    "tj_dict"
   ]
  },
  {
   "cell_type": "code",
   "execution_count": 16,
   "metadata": {},
   "outputs": [],
   "source": [
    "# link_dict = {}\n",
    "# for type in all_types:\n",
    "#     next_page = 'https://www.judiciary.gov.sg' + tj_dict[type][1]\n",
    "#     page = requests.get(next_page, headers=user_agent)\n",
    "#     soup = BeautifulSoup(page.text, 'lxml')\n",
    "#     tr_detailed_desc = soup.find_all('div', {'class': 'acc-panel'})\n",
    "#     for desc in tr_detailed_desc:\n",
    "#         for link in desc.find_all('a'):\n",
    "#             link_dict[link.string] = link['href']   \n",
    "# print(link_dict)\n",
    "\n"
   ]
  },
  {
   "cell_type": "code",
   "execution_count": 17,
   "metadata": {},
   "outputs": [],
   "source": [
    "\n",
    "# for type in all_types:\n",
    "#     next_page = 'https://www.judiciary.gov.sg' + tj_dict[type][1]\n",
    "#     page = requests.get(next_page, headers=user_agent)\n",
    "#     soup = BeautifulSoup(page.text, 'lxml')\n",
    "#     tr_detailed_desc = soup.find_all('div', {'class': 'acc-panel'})\n",
    "#     for desc in tr_detailed_desc:\n",
    "#         desc_text = desc.get_text()\n",
    "#         for linktext, link in link_dict.items():\n",
    "#             if linktext in desc_text:\n",
    "#                 desc_text = desc_text.replace(linktext, link)\n",
    "#         print(desc_text)\n",
    "#         print(\"---------------------------------------------------------\")\n",
    "        "
   ]
  },
  {
   "cell_type": "code",
   "execution_count": 24,
   "metadata": {},
   "outputs": [
    {
     "name": "stdout",
     "output_type": "stream",
     "text": [
      "Adoption\n",
      "Care and protection for children and young persons\n",
      "Divorce\n",
      "/family/understand-requirements-getting-divorce\n",
      "/family/file-divorce-application-simplified-track\n",
      "/family/file-divorce-application-normal-track\n",
      "/family/respond-divorce-application-normal-track\n",
      "/family/going-to-court-divorce-application\n",
      "Deputyship\n",
      "/family/before-applying-to-be-deputy\n",
      "/family/file-simplified-deputyship-application\n",
      "/family/file-deputyship-application-standard\n",
      "/family/going-to-court-deputyship\n",
      "/family/object-to-deputyship-application\n",
      "Direct judicial communication for international family proceedings affecting children\n",
      "Family Justice Courts appeals\n",
      "/family/appeal-against-decision-by-family-courts-judge\n",
      "/family/appeal-against-decision-by-youth-courts\n",
      "Family guidance for children and young persons\n",
      "/family/family-guidance-orders-overview\n",
      "/family/apply-family-guidance-order\n",
      "/family/family-guidance-order-application-hearing\n",
      "Guardianship\n",
      "International child abduction\n",
      "/family/file-international-child-abduction-application\n",
      "/family/respond-international-child-abduction-application\n",
      "/family/going-to-court-international-child-abduction-application\n",
      "Probate and administration\n",
      "/family/apply-for-probate\n",
      "/family/apply-for-letters-of-administration\n",
      "/family/file-supporting-documents-probate-or-administration\n",
      "/family/going-to-court-for-probate-or-administration-hearing\n",
      "/family/apply-to-extract-probate-or-administration-grant\n",
      "Protection against family violence\n",
      "/family/apply-personal-protection-order\n",
      "/family/respond-personal-protection-order-application\n",
      "/family/going-to-court-personal-protection-order-application\n",
      "Protection for vulnerable adults\n",
      "Maintenance\n",
      "/family/file-maintenance-application\n",
      "/family/maintenance/respond-maintenance-application\n",
      "/family/going-to-court-maintenance-application\n",
      "/family/attend-maintenance-mediation\n",
      "/family/outcomes-of-maintenance-application\n",
      "Mediation and counselling in the Family Justice Courts\n",
      "/family/mediation-at-family-dispute-resolution-division\n",
      "/family/counselling-psychological-services\n",
      "Syariah Court orders\n"
     ]
    }
   ],
   "source": [
    "desc_dict = {}\n",
    "tdesc_dict = {}\n",
    "ndesc_dict = {}\n",
    "ddesc_dict = {}\n",
    "\n",
    "for type in all_types:\n",
    "    with open(type + \".txt\", \"w\") as f:\n",
    "        print(type)\n",
    "        next_page = 'https://www.judiciary.gov.sg' + tj_dict[type][1]\n",
    "        page = requests.get(next_page, headers=user_agent)\n",
    "        soup = BeautifulSoup(page.text, 'lxml')\n",
    "        accr_desc = soup.find_all('div', {'class': 'accordion-wrapper'})\n",
    "        for desc in accr_desc:\n",
    "            desc_text = desc.get_text()\n",
    "            for link in desc.find_all('a'):\n",
    "                desc_dict[link.string] = link['href']\n",
    "            f.write(desc_text)\n",
    "            f.write('\\n')\n",
    "\n",
    "        if type ==\"Adoption\" or type == \"Protection for vulnerable adults\" :\n",
    "            timeline_desc = soup.find_all('div', {'class': 'timeline'})\n",
    "            for t_desc in timeline_desc:\n",
    "                timeline_text = t_desc.get_text()\n",
    "                for link in t_desc.find_all('a'):\n",
    "                    tdesc_dict[link.string] = link['href']\n",
    "                f.write(timeline_text)\n",
    "                f.write('\\n')\n",
    "\n",
    "        elif type == \"Care and protection for children and young persons\" or type == \"Guardianship\":\n",
    "            nav_desc = soup.find_all('li', {'class': 'nav-item w-100'})\n",
    "            for n_desc in nav_desc:\n",
    "                nav_text = n_desc.get_text()\n",
    "                for link in n_desc.find_all('a'):\n",
    "                    ndesc_dict[nav_text.replace(\"\\n\", \"\")] = link['href']\n",
    "                f.write(nav_text)\n",
    "                f.write('\\n')\n",
    "\n",
    "        else:\n",
    "            div_desc = soup.find_all('div', {'class': 'row'})\n",
    "        \n",
    "            if type != \"Direct judicial communication for international family proceedings affecting children\" and type != \"Syariah Court orders\":\n",
    "                type_list = []\n",
    "                for d_desc in div_desc[:-2]:\n",
    "                    div_text = d_desc.get_text()\n",
    "                    type_list.append(list(filter(None,div_text.split(\"\\n\"))))\n",
    "                    for link in d_desc.find_all('a'):\n",
    "                        ddesc_dict[link.string] = link['href']\n",
    "                        print(link['href'])\n",
    "                    f.write(div_text)\n",
    "                    f.write('\\n')\n",
    "\n",
    "\n",
    "# for desc in tr_detailed_desc:\n",
    "#     for link in desc.find_all('a'):\n",
    "#         link_dict[link.string] = link['href']   "
   ]
  },
  {
   "cell_type": "code",
   "execution_count": 19,
   "metadata": {},
   "outputs": [
    {
     "data": {
      "text/plain": [
       "{'meet the requirements to adopt': 'https://www.msf.gov.sg/Adoption/Pages/Who-can-Adopt.aspx',\n",
       " 'How to adopt a Singaporean or permanent resident child': 'https://www.msf.gov.sg/Adoption/Pages/How-to-adopt-a-citizen-or-PR.aspx',\n",
       " \"How to adopt a child from the People's Republic of China\": 'https://www.msf.gov.sg/Adoption/Pages/How-to-adopt-a-child-from-the-Peoples-Republic-of-China.aspx',\n",
       " \"How to adopt a foreign child (excluding children from the People's Republic of China)\": 'https://www.msf.gov.sg/Adoption/Pages/How-to-adopt-a-foreign-child-excluding-children-from-the-Peoples-Republic-of-China.aspx',\n",
       " \"MSF's website\": 'https://www.msf.gov.sg/Adoption',\n",
       " 'Adoption of Children Act': 'https://sso.agc.gov.sg/Act/ACA1939',\n",
       " 'Family Justice Act': 'https://sso.agc.gov.sg/Act/FJA2014',\n",
       " 'Part 6 of the Family Justice Rules': 'https://sso.agc.gov.sg/SL/FJA2014-S813-2014#P16-',\n",
       " 'Part 2 of the Fifth Schedule of the Family Justice Rules': 'https://sso.agc.gov.sg/SL/FJA2014-S813-2014#Sc5-',\n",
       " 'Part VIII of the Family Justice Courts Practice Directions': 'https://epd.familyjusticecourts.gov.sg/Part%2008-Adoption%20of%20Children.html',\n",
       " 'full list of orders.': '/family/file-simplified-deputyship-application#orders',\n",
       " 'Integrated Family Application Management System (iFAMS)': '/services/ifams',\n",
       " 'how to apply through the simplified process': '/family/file-simplified-deputyship-application',\n",
       " 'eLitigation': '/services/elitigation',\n",
       " 'how to apply through the standard process': '/family/file-deputyship-application-standard',\n",
       " 'Section 7 of the Guardianship of Infants Act': 'https://sso.agc.gov.sg/Act/GIA1934#pr7-',\n",
       " 'Section 6(1) of the Guardianship of Infants Act': 'https://sso.agc.gov.sg/Act/GIA1934#pr6-',\n",
       " 'Section 6(3) of the Guardianship of Infants Act': 'https://sso.agc.gov.sg/Act/GIA1934#pr6-',\n",
       " 'Section 10 of the Guardianship of Infants Act': 'https://sso.agc.gov.sg/Act/GIA1934#pr10-',\n",
       " 'Section 17(1) of the Supreme Court of Judicature Act': 'https://sso.agc.gov.sg/Act/SCJA1969#pr17-',\n",
       " 'Section 22(1)(a) of the Family Justice Act': 'https://sso.agc.gov.sg/Act/FJA2014#pr22-',\n",
       " 'The Guardianship of Infants Act': 'https://sso.agc.gov.sg/Act/GIA1934#legis',\n",
       " 'Part 8 of the Family Justice Rules': 'https://sso.agc.gov.sg/SL/FJA2014-S813-2014#pr152-',\n",
       " 'Part 18 Division 3 and 4 of the Family Justice Rules.': 'https://sso.agc.gov.sg/SL/FJA2014-S813-2014?ProvIds=P118-#P118-P23-',\n",
       " 'Part 18 Division 6 of the Family Justice Rules': 'https://sso.agc.gov.sg/SL/FJA2014-S813-2014?ProvIds=P118-#P118-P26-',\n",
       " 'Part 18 Division 14 of the Family Justice Rules': 'https://sso.agc.gov.sg/SL/FJA2014-S813-2014?ProvIds=P118-#P118-P214-',\n",
       " 'Part 18 Division 24 of the Family Justice Rules': 'https://sso.agc.gov.sg/SL/FJA2014-S813-2014?ProvIds=P118-#P118-P224-',\n",
       " 'Part 18 Division 38 of the Family Justice Rules': 'https://sso.agc.gov.sg/SL/FJA2014-S813-2014?ProvIds=P118-#P118-P238-',\n",
       " 'Part XIII of the Family Justice Courts Practice Directions': 'https://epd.familyjusticecourts.gov.sg/Part%2013-General%20Procedure.html',\n",
       " 'Adoption': '/family/adoption',\n",
       " 'depending on the circumstances': '/family/apply-for-letters-of-administration#beneficiary',\n",
       " 'satisfy certain criteria': 'https://pto.mlaw.gov.sg/deceased-cpf-estate-monies/information-for-next-of-kin-estate-monies/',\n",
       " 'Family violence': 'https://sso.agc.gov.sg/Act/WC1961#P1VII-',\n",
       " 'Contact the police': 'https://www.police.gov.sg/',\n",
       " 'Family Service Centres (FSC)': 'https://www.msf.gov.sg/policies/Strong-and-Stable-Families/Supporting-Families/Pages/Family-Service-Centres.aspx',\n",
       " 'Protection Specialist Centres (PSC)': 'https://familyassist.msf.gov.sg/#ListFV',\n",
       " 'Vulnerable Adults Act': 'https://sso.agc.gov.sg/Act/VAA2018',\n",
       " 'English': '/docs/default-source/family-docs/final-vaa-leaflet_english.pdf?sfvrsn=7c022802_4',\n",
       " 'Chinese': '/docs/default-source/family-docs/final-vaa-leaflet_chinese.pdf?sfvrsn=9531dc46_4',\n",
       " 'Malay': '/docs/default-source/family-docs/final-vaa-leaflet_malay.pdf?sfvrsn=21902b44_4',\n",
       " 'Tamil': '/docs/default-source/family-docs/final-vaa-leaflet_tamil.pdf?sfvrsn=3ce38f5c_4',\n",
       " 'Part 17B of the Family Justice Rules': 'https://sso.agc.gov.sg/SL/FJA2014-S813-2014#P117B-',\n",
       " 'Part XIIA of the Family Justice Courts Practice Directions': 'https://epd.familyjusticecourts.gov.sg/Part%2012A%E2%80%93Vulnerable%20Adults%20Act.html',\n",
       " 'going to court for the application': '/family/going-to-court-vulnerable-adult-application',\n",
       " 'where to get help': '/legal-help-support/family-case',\n",
       " 'virtual court sessions': '/attending-court/virtual-court-sessions',\n",
       " 'fjcourts_maintpos@fjcourts.gov.sg': 'mailto:fjcourts_maintpos@fjcourts.gov.sg',\n",
       " 'Administration of Muslim Law Act': 'https://sso.agc.gov.sg/Act/AMLA1966',\n",
       " \"Women's Charter\": 'https://sso.agc.gov.sg/Act/WC1961',\n",
       " 'Family Justice Rules': 'https://sso.agc.gov.sg/SL/FJA2014-S813-2014'}"
      ]
     },
     "execution_count": 19,
     "metadata": {},
     "output_type": "execute_result"
    }
   ],
   "source": [
    "desc_dict"
   ]
  },
  {
   "cell_type": "code",
   "execution_count": 20,
   "metadata": {},
   "outputs": [
    {
     "data": {
      "text/plain": [
       "{'File an application for an adoption order': '/family/file-adoption-order',\n",
       " 'After filing: submit additional documents for adoption ': '/family/submit-additional-documents-adoption-order',\n",
       " 'Going to court for adoption': '/family/going-to-court-adoption-order',\n",
       " 'Appeal against a decision by a Family Courts district judge or magistrate': '/family/appeal-against-decision-by-family-courts-judge',\n",
       " 'Apply to protect a vulnerable adult ': '/family/apply-to-protect-vulnerable-adult',\n",
       " 'Going to court for a vulnerable adult application': '/family/going-to-court-vulnerable-adult-application'}"
      ]
     },
     "execution_count": 20,
     "metadata": {},
     "output_type": "execute_result"
    }
   ],
   "source": [
    "tdesc_dict"
   ]
  },
  {
   "cell_type": "code",
   "execution_count": 21,
   "metadata": {},
   "outputs": [
    {
     "data": {
      "text/plain": [
       "{'Care and protection orders: overviewFind out when are children or young persons in need of care and protection, and the care and protection orders that the Youth Courts may make. ': '/family/care-protection-order-overview',\n",
       " 'Understand the care and protection order application processFind out what to expect if an application for a care and protection order is filed for your child.': '/family/understand-care-protection-order-application-process',\n",
       " 'File a guardianship applicationFind out the steps to file a guardianship application, the estimated fees and the documents you have to prepare.': '/family/guardianship/file-a-guardianship-application',\n",
       " 'Going to court for a guardianship applicationFind out what to expect if you have to attend court for a guardianship application.': '/family/going-to-court-guardianship-application'}"
      ]
     },
     "execution_count": 21,
     "metadata": {},
     "output_type": "execute_result"
    }
   ],
   "source": [
    "ndesc_dict"
   ]
  },
  {
   "cell_type": "code",
   "execution_count": 22,
   "metadata": {},
   "outputs": [
    {
     "data": {
      "text/plain": [
       "{None: '/family/counselling-psychological-services'}"
      ]
     },
     "execution_count": 22,
     "metadata": {},
     "output_type": "execute_result"
    }
   ],
   "source": [
    "ddesc_dict"
   ]
  }
 ],
 "metadata": {
  "kernelspec": {
   "display_name": "Python 3",
   "language": "python",
   "name": "python3"
  },
  "language_info": {
   "codemirror_mode": {
    "name": "ipython",
    "version": 3
   },
   "file_extension": ".py",
   "mimetype": "text/x-python",
   "name": "python",
   "nbconvert_exporter": "python",
   "pygments_lexer": "ipython3",
   "version": "3.8.3"
  },
  "orig_nbformat": 4,
  "vscode": {
   "interpreter": {
    "hash": "747d2ce94befc444b26ce8ac4106bd565fa9a7adb29f4c71228a18318693a3de"
   }
  }
 },
 "nbformat": 4,
 "nbformat_minor": 2
}
